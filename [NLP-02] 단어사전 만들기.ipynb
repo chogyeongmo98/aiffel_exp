{
 "cells": [
  {
   "cell_type": "markdown",
   "id": "403f49e7",
   "metadata": {},
   "source": [
    "## 데이터 다운로드 및 분석"
   ]
  },
  {
   "cell_type": "code",
   "execution_count": 31,
   "id": "01d3ae5c",
   "metadata": {},
   "outputs": [],
   "source": [
    "import os\n",
    "\n",
    "import matplotlib.pyplot as plt\n",
    "import tensorflow as tf\n",
    "import numpy as np\n",
    "\n",
    "%matplotlib inline"
   ]
  },
  {
   "cell_type": "code",
   "execution_count": 32,
   "id": "5baec627",
   "metadata": {},
   "outputs": [
    {
     "name": "stdout",
     "output_type": "stream",
     "text": [
      "Data Size: 94123\n",
      "Example:\n",
      ">> 개인용 컴퓨터 사용의 상당 부분은 \"이것보다 뛰어날 수 있느냐?\"\n",
      ">> 북한의 핵무기 계획을 포기하도록 하려는 압력이 거세지고 있는 가운데, 일본과 북한의 외교관들이 외교 관계를 정상화하려는 회담을 재개했다.\n",
      ">> \"경호 로보트가 침입자나 화재를 탐지하기 위해서 개인적으로, 그리고 전문적으로 사용되고 있습니다.\"\n",
      ">> 수자원부 당국은 논란이 되고 있고, 막대한 비용이 드는 이 사업에 대해 내년에 건설을 시작할 계획이다.\n",
      ">> 또한 근력 운동은 활발하게 걷는 것이나 최소한 20분 동안 뛰는 것과 같은 유산소 활동에서 얻는 운동 효과를 심장과 폐에 주지 않기 때문에, 연구학자들은 근력 운동이 심장에 큰 영향을 미치는지 여부에 대해 논쟁을 해왔다.\n"
     ]
    }
   ],
   "source": [
    "import os\n",
    "path_to_file = os.getenv('HOME')+'/aiffel/sp_tokenizer/data/korean-english-park.train.ko'\n",
    "\n",
    "with open(path_to_file, \"r\") as f:\n",
    "    raw = f.read().splitlines()\n",
    "\n",
    "print(\"Data Size:\", len(raw))\n",
    "\n",
    "print(\"Example:\")\n",
    "for sen in raw[0:100][::20]: print(\">>\", sen)"
   ]
  },
  {
   "cell_type": "code",
   "execution_count": 33,
   "id": "14e4c789",
   "metadata": {},
   "outputs": [
    {
     "name": "stdout",
     "output_type": "stream",
     "text": [
      "문장의 최단 길이: 1\n",
      "문장의 최장 길이: 377\n",
      "문장의 평균 길이: 60\n"
     ]
    },
    {
     "name": "stderr",
     "output_type": "stream",
     "text": [
      "/tmp/ipykernel_31/2284205290.py:15: DeprecationWarning: `np.int` is a deprecated alias for the builtin `int`. To silence this warning, use `int` by itself. Doing this will not modify any behavior and is safe. When replacing `np.int`, you may wish to use e.g. `np.int64` or `np.int32` to specify the precision. If you wish to review your current use, check the release note link for additional information.\n",
      "Deprecated in NumPy 1.20; for more details and guidance: https://numpy.org/devdocs/release/1.20.0-notes.html#deprecations\n",
      "  sentence_length = np.zeros((max_len), dtype=np.int)\n"
     ]
    },
    {
     "data": {
      "image/png": "[encoded data removed]",
      "text/plain": [
       "<Figure size 432x288 with 1 Axes>"
      ]
     },
     "metadata": {
      "needs_background": "light"
     },
     "output_type": "display_data"
    }
   ],
   "source": [
    "min_len = 999\n",
    "max_len = 0\n",
    "sum_len = 0\n",
    "\n",
    "for sen in raw:\n",
    "    length = len(sen)\n",
    "    if min_len > length: min_len = length\n",
    "    if max_len < length: max_len = length\n",
    "    sum_len += length\n",
    "\n",
    "print(\"문장의 최단 길이:\", min_len)\n",
    "print(\"문장의 최장 길이:\", max_len)\n",
    "print(\"문장의 평균 길이:\", sum_len // len(raw))\n",
    "\n",
    "sentence_length = np.zeros((max_len), dtype=np.int)\n",
    "\n",
    "for sen in raw:\n",
    "    sentence_length[len(sen)-1] += 1\n",
    "\n",
    "plt.bar(range(max_len), sentence_length, width=1.0)\n",
    "plt.title(\"Sentence Length Distribution\")\n",
    "plt.show()"
   ]
  },
  {
   "cell_type": "markdown",
   "id": "9ce6b69e",
   "metadata": {},
   "source": [
    "1) 길이 1 짜리 문장은 도대체 어떻게 생겨먹었지?\n",
    "\n",
    "2) 앞에 치솟는 임의의 구간은 뭐지? 유의미한 데이터가 담겨있는 부분인가?\n",
    "\n",
    "3) 어디서부터 어디까지 잘라서 쓰지?"
   ]
  },
  {
   "cell_type": "code",
   "execution_count": 34,
   "id": "7064652c",
   "metadata": {},
   "outputs": [
    {
     "name": "stdout",
     "output_type": "stream",
     "text": [
      "’\n"
     ]
    }
   ],
   "source": [
    "def check_sentence_with_length(raw, length):\n",
    "    count = 0\n",
    "    \n",
    "    for sen in raw:\n",
    "        if len(sen) == length:\n",
    "            print(sen)\n",
    "            count += 1\n",
    "            if count > 100: return\n",
    "\n",
    "check_sentence_with_length(raw, 1)"
   ]
  },
  {
   "cell_type": "code",
   "execution_count": 35,
   "id": "cde8aa88",
   "metadata": {},
   "outputs": [
    {
     "name": "stdout",
     "output_type": "stream",
     "text": [
      "Outlier Index: 11\n",
      "Outlier Index: 19\n",
      "Outlier Index: 21\n"
     ]
    }
   ],
   "source": [
    "for idx, _sum in enumerate(sentence_length):\n",
    "    # 문장의 수가 1500을 초과하는 문장 길이를 추출합니다.\n",
    "    if _sum > 1500:\n",
    "        print(\"Outlier Index:\", idx+1)"
   ]
  },
  {
   "cell_type": "code",
   "execution_count": 36,
   "id": "ca32b407",
   "metadata": {},
   "outputs": [
    {
     "name": "stdout",
     "output_type": "stream",
     "text": [
      "라고 조던이 말했다.\n",
      "- 모르고 있습니다.\n",
      "- 네, 보이는군요.\n",
      "디즈니사만이 아니다.\n",
      "큰 파티는 아니지요.\n",
      "의자는 비어 있었다.\n",
      "이 일은 계속됩니다.\n",
      "나는 크게 실망했다.\n",
      "그 이유는 간단하다.\n",
      "이력서와 자기 소개서\n",
      "시대가 변하고 있다.\n",
      "는 돌발질문을 했다.\n",
      "9. 몇 분간의 명상\n",
      "하와이, 빅 아일랜드\n",
      "키스를 잘 하는 방법\n",
      "키스를 잘 하는 방법\n",
      "스피어스가 뚱뚱한가?\n",
      "산 위를 나는 느낌.\n",
      "세 시간쯤 걸었을까?\n",
      "(아직 읽고있습니까?\n",
      "처음에는 장난이었다.\n",
      "우리는 운이 좋았다.\n",
      "아기가 숨을 멈출 때\n",
      "건물 전체 무너져내려\n",
      "그녀의 아름다운 눈.\n",
      "대답은 다음과 같다.\n",
      "\"사과할 것이 없다.\n",
      "폭탄테러가 공포 유발\n",
      "그는 \"잘 모르겠다.\n",
      "그는 \"잘 모르겠다.\n",
      "그는 \"잘 모르겠다.\n",
      "그는 \"잘 모르겠다.\n",
      "그는 \"잘 모르겠다.\n",
      "그는 \"잘 모르겠다.\n",
      "그는 \"잘 모르겠다.\n",
      "그는 \"잘 모르겠다.\n",
      "그는 \"잘 모르겠다.\n",
      "케냐 야생동물 고아원\n",
      "경유 1200원대로…\n",
      "더 내려야 하는 이유\n",
      "케냐 야생동물 고아원\n",
      "경유 1200원대로…\n",
      "더 내려야 하는 이유\n",
      "케냐 야생동물 고아원\n",
      "경유 1200원대로…\n",
      "더 내려야 하는 이유\n",
      "케냐 야생동물 고아원\n",
      "경유 1200원대로…\n",
      "더 내려야 하는 이유\n",
      "케냐 야생동물 고아원\n",
      "경유 1200원대로…\n",
      "더 내려야 하는 이유\n",
      "케냐 야생동물 고아원\n",
      "경유 1200원대로…\n",
      "더 내려야 하는 이유\n",
      "케냐 야생동물 고아원\n",
      "경유 1200원대로…\n",
      "더 내려야 하는 이유\n",
      "케냐 야생동물 고아원\n",
      "경유 1200원대로…\n",
      "더 내려야 하는 이유\n",
      "케냐 야생동물 고아원\n",
      "경유 1200원대로…\n",
      "더 내려야 하는 이유\n",
      "케냐 야생동물 고아원\n",
      "경유 1200원대로…\n",
      "더 내려야 하는 이유\n",
      "케냐 야생동물 고아원\n",
      "경유 1200원대로…\n",
      "더 내려야 하는 이유\n",
      "케냐 야생동물 고아원\n",
      "경유 1200원대로…\n",
      "더 내려야 하는 이유\n",
      "케냐 야생동물 고아원\n",
      "경유 1200원대로…\n",
      "더 내려야 하는 이유\n",
      "케냐 야생동물 고아원\n",
      "경유 1200원대로…\n",
      "더 내려야 하는 이유\n",
      "케냐 야생동물 고아원\n",
      "경유 1200원대로…\n",
      "더 내려야 하는 이유\n",
      "케냐 야생동물 고아원\n",
      "경유 1200원대로…\n",
      "더 내려야 하는 이유\n",
      "케냐 야생동물 고아원\n",
      "경유 1200원대로…\n",
      "더 내려야 하는 이유\n",
      "케냐 야생동물 고아원\n",
      "경유 1200원대로…\n",
      "더 내려야 하는 이유\n",
      "케냐 야생동물 고아원\n",
      "경유 1200원대로…\n",
      "더 내려야 하는 이유\n",
      "케냐 야생동물 고아원\n",
      "경유 1200원대로…\n",
      "더 내려야 하는 이유\n",
      "조금은 새침한 샬롯？\n",
      "조금은 새침한 샬롯？\n",
      "케냐 야생동물 고아원\n",
      "경유 1200원대로…\n"
     ]
    }
   ],
   "source": [
    "check_sentence_with_length(raw, 11)"
   ]
  },
  {
   "cell_type": "code",
   "execution_count": 37,
   "id": "58c4fece",
   "metadata": {},
   "outputs": [
    {
     "name": "stdout",
     "output_type": "stream",
     "text": [
      "Data Size: 77591\n",
      "문장의 최단 길이: 1\n",
      "문장의 최장 길이: 377\n",
      "문장의 평균 길이: 64\n"
     ]
    },
    {
     "name": "stderr",
     "output_type": "stream",
     "text": [
      "/tmp/ipykernel_31/390535405.py:18: DeprecationWarning: `np.int` is a deprecated alias for the builtin `int`. To silence this warning, use `int` by itself. Doing this will not modify any behavior and is safe. When replacing `np.int`, you may wish to use e.g. `np.int64` or `np.int32` to specify the precision. If you wish to review your current use, check the release note link for additional information.\n",
      "Deprecated in NumPy 1.20; for more details and guidance: https://numpy.org/devdocs/release/1.20.0-notes.html#deprecations\n",
      "  sentence_length = np.zeros((max_len), dtype=np.int)\n"
     ]
    },
    {
     "data": {
      "image/png": "[encoded data removed]",
      "text/plain": [
       "<Figure size 432x288 with 1 Axes>"
      ]
     },
     "metadata": {
      "needs_background": "light"
     },
     "output_type": "display_data"
    }
   ],
   "source": [
    "min_len = 999\n",
    "max_len = 0\n",
    "sum_len = 0\n",
    "\n",
    "cleaned_corpus = list(set(raw))  # set를 사용해서 중복을 제거합니다.\n",
    "print(\"Data Size:\", len(cleaned_corpus))\n",
    "\n",
    "for sen in cleaned_corpus:\n",
    "    length = len(sen)\n",
    "    if min_len > length: min_len = length\n",
    "    if max_len < length: max_len = length\n",
    "    sum_len += length\n",
    "\n",
    "print(\"문장의 최단 길이:\", min_len)\n",
    "print(\"문장의 최장 길이:\", max_len)\n",
    "print(\"문장의 평균 길이:\", sum_len // len(cleaned_corpus))\n",
    "\n",
    "sentence_length = np.zeros((max_len), dtype=np.int)\n",
    "\n",
    "for sen in cleaned_corpus:   # 중복이 제거된 코퍼스 기준\n",
    "    sentence_length[len(sen)-1] += 1\n",
    "\n",
    "plt.bar(range(max_len), sentence_length, width=1.0)\n",
    "plt.title(\"Sentence Length Distribution\")\n",
    "plt.show()"
   ]
  },
  {
   "cell_type": "code",
   "execution_count": 38,
   "id": "bd6bd4af",
   "metadata": {},
   "outputs": [
    {
     "name": "stderr",
     "output_type": "stream",
     "text": [
      "/tmp/ipykernel_31/1483434014.py:8: DeprecationWarning: `np.int` is a deprecated alias for the builtin `int`. To silence this warning, use `int` by itself. Doing this will not modify any behavior and is safe. When replacing `np.int`, you may wish to use e.g. `np.int64` or `np.int32` to specify the precision. If you wish to review your current use, check the release note link for additional information.\n",
      "Deprecated in NumPy 1.20; for more details and guidance: https://numpy.org/devdocs/release/1.20.0-notes.html#deprecations\n",
      "  sentence_length = np.zeros((max_len), dtype=np.int)\n"
     ]
    },
    {
     "data": {
      "image/png": "[encoded data removed]",
      "text/plain": [
       "<Figure size 432x288 with 1 Axes>"
      ]
     },
     "metadata": {
      "needs_background": "light"
     },
     "output_type": "display_data"
    }
   ],
   "source": [
    "max_len = 150\n",
    "min_len = 10\n",
    "\n",
    "# 길이 조건에 맞는 문장만 선택합니다.\n",
    "filtered_corpus = [s for s in cleaned_corpus if (len(s) < max_len) & (len(s) >= min_len)]\n",
    "\n",
    "# 분포도를 다시 그려봅니다.\n",
    "sentence_length = np.zeros((max_len), dtype=np.int)\n",
    "\n",
    "for sen in filtered_corpus:\n",
    "    sentence_length[len(sen)-1] += 1\n",
    "\n",
    "plt.bar(range(max_len), sentence_length, width=1.0)\n",
    "plt.title(\"Sentence Length Distribution\")\n",
    "plt.show()"
   ]
  },
  {
   "cell_type": "markdown",
   "id": "ed89caa8",
   "metadata": {},
   "source": [
    "## 공백 기반 토큰화"
   ]
  },
  {
   "cell_type": "code",
   "execution_count": 127,
   "id": "b348475c",
   "metadata": {},
   "outputs": [],
   "source": [
    "def tokenize(corpus):  # corpus: Tokenized Sentence's List\n",
    "    tokenizer = tf.keras.preprocessing.text.Tokenizer(filters='')\n",
    "    tokenizer.fit_on_texts(corpus)\n",
    "\n",
    "    tensor = tokenizer.texts_to_sequences(corpus)\n",
    "\n",
    "    tensor = tf.keras.preprocessing.sequence.pad_sequences(tensor, padding='pre')\n",
    "\n",
    "    return tensor, tokenizer"
   ]
  },
  {
   "cell_type": "code",
   "execution_count": 40,
   "id": "f4e842a3",
   "metadata": {},
   "outputs": [],
   "source": [
    "split_corpus = []\n",
    "\n",
    "for kor in filtered_corpus:\n",
    "    split_corpus.append(kor.split())"
   ]
  },
  {
   "cell_type": "code",
   "execution_count": 41,
   "id": "136b5561",
   "metadata": {},
   "outputs": [
    {
     "name": "stdout",
     "output_type": "stream",
     "text": [
      "Split Vocab Size: 237435\n"
     ]
    }
   ],
   "source": [
    "split_tensor, split_tokenizer = tokenize(split_corpus)\n",
    "\n",
    "print(\"Split Vocab Size:\", len(split_tokenizer.index_word))"
   ]
  },
  {
   "cell_type": "code",
   "execution_count": 42,
   "id": "60724c62",
   "metadata": {},
   "outputs": [
    {
     "name": "stdout",
     "output_type": "stream",
     "text": [
      "0 : 이\n",
      "1 : 밝혔다.\n",
      "2 : 있다.\n",
      "3 : 말했다.\n",
      "4 : 수\n",
      "5 : 있는\n",
      "6 : 그는\n",
      "7 : 대한\n",
      "8 : 위해\n",
      "9 : 전했다.\n",
      "10 : 지난\n",
      "11 : 이번\n"
     ]
    }
   ],
   "source": [
    "for idx, word in enumerate(split_tokenizer.word_index):\n",
    "    print(idx, \":\", word)\n",
    "\n",
    "    if idx > 10: break"
   ]
  },
  {
   "cell_type": "markdown",
   "id": "809c26c2",
   "metadata": {},
   "source": [
    "## 형태소 기반 토큰화"
   ]
  },
  {
   "cell_type": "code",
   "execution_count": 43,
   "id": "9baee274",
   "metadata": {},
   "outputs": [],
   "source": [
    "from konlpy.tag import Mecab\n",
    "\n",
    "mecab = Mecab()"
   ]
  },
  {
   "cell_type": "code",
   "execution_count": 44,
   "id": "2cbd99b8",
   "metadata": {},
   "outputs": [],
   "source": [
    "def mecab_split(sentence):\n",
    "    return mecab.morphs(sentence)\n",
    "\n",
    "mecab_corpus = []\n",
    "\n",
    "for kor in filtered_corpus:\n",
    "    mecab_corpus.append(mecab_split(kor))"
   ]
  },
  {
   "cell_type": "code",
   "execution_count": 45,
   "id": "d54b22b6",
   "metadata": {},
   "outputs": [
    {
     "name": "stdout",
     "output_type": "stream",
     "text": [
      "MeCab Vocab Size: 52279\n"
     ]
    }
   ],
   "source": [
    "mecab_tensor, mecab_tokenizer = tokenize(mecab_corpus)\n",
    "\n",
    "print(\"MeCab Vocab Size:\", len(mecab_tokenizer.index_word))"
   ]
  },
  {
   "cell_type": "code",
   "execution_count": 46,
   "id": "aa732ce4",
   "metadata": {},
   "outputs": [
    {
     "name": "stdout",
     "output_type": "stream",
     "text": [
      "0 : .\n",
      "1 : 다\n",
      "2 : 이\n",
      "3 : 는\n",
      "4 : 을\n",
      "5 : 의\n",
      "6 : 에\n",
      "7 : 은\n",
      "8 : 를\n",
      "9 : 하\n",
      "10 : 했\n",
      "11 : 고\n"
     ]
    }
   ],
   "source": [
    "for idx, word in enumerate(mecab_tokenizer.word_index):\n",
    "    print(idx, \":\", word)\n",
    "\n",
    "    if idx > 10: break"
   ]
  },
  {
   "cell_type": "markdown",
   "id": "958afb20",
   "metadata": {},
   "source": [
    "* tokenizer.sequences_to_texts() 함수를 사용하여 Decoding\n",
    "* tokenizer.index_word 를 사용하여 Decoding"
   ]
  },
  {
   "cell_type": "code",
   "execution_count": 47,
   "id": "86e2d2b8",
   "metadata": {},
   "outputs": [
    {
     "name": "stdout",
     "output_type": "stream",
     "text": [
      "미국 식품 의 약국 식품 부 의 데이비드 애치슨 박사 는 모두 893 명 이 살모넬라균 에 감염 됐으며 이 들 중 107 명 이 입원 했 다고 밝혔 다 .\n"
     ]
    }
   ],
   "source": [
    "texts = mecab_tokenizer.sequences_to_texts([mecab_tensor[100]])\n",
    "print(texts[0])"
   ]
  },
  {
   "cell_type": "code",
   "execution_count": 48,
   "id": "b9456e15",
   "metadata": {},
   "outputs": [
    {
     "name": "stdout",
     "output_type": "stream",
     "text": [
      "미국 식품 의 약국 식품 부 의 데이비드 애치슨 박사 는 모두 893 명 이 살모넬라균 에 감염 됐으며 이 들 중 107 명 이 입원 했 다고 밝혔 다 . \n"
     ]
    }
   ],
   "source": [
    "sentence = \"\"\n",
    "\n",
    "for w in mecab_tensor[100]:\n",
    "    if w == 0: continue\n",
    "    sentence += mecab_tokenizer.index_word[w] + \" \"\n",
    "\n",
    "print(sentence)"
   ]
  },
  {
   "cell_type": "markdown",
   "id": "e8f40356",
   "metadata": {},
   "source": [
    "# 프로젝트: SentencePiece 사용하기\n"
   ]
  },
  {
   "cell_type": "code",
   "execution_count": 49,
   "id": "eedd0ecf",
   "metadata": {},
   "outputs": [
    {
     "name": "stdout",
     "output_type": "stream",
     "text": [
      "2.6.0\n",
      "1.22.2\n",
      "3.4.3\n",
      "0.5.2\n"
     ]
    }
   ],
   "source": [
    "#라이브러리 버전 확인\n",
    "import tensorflow as tf\n",
    "import numpy as np\n",
    "import matplotlib as plt\n",
    "import konlpy\n",
    "\n",
    "print(tf.__version__)\n",
    "print(np.__version__)\n",
    "print(plt.__version__)\n",
    "print(konlpy.__version__)"
   ]
  },
  {
   "cell_type": "code",
   "execution_count": 50,
   "id": "da14cff5",
   "metadata": {},
   "outputs": [
    {
     "name": "stderr",
     "output_type": "stream",
     "text": [
      "sentencepiece_trainer.cc(177) LOG(INFO) Running command: --input=/aiffel/aiffel/sp_tokenizer/data/korean-english-park.train.ko.temp --model_prefix=korean_spm --vocab_size=8000\n",
      "sentencepiece_trainer.cc(77) LOG(INFO) Starts training with : \n",
      "trainer_spec {\n",
      "  input: /aiffel/aiffel/sp_tokenizer/data/korean-english-park.train.ko.temp\n",
      "  input_format: \n",
      "  model_prefix: korean_spm\n",
      "  model_type: UNIGRAM\n",
      "  vocab_size: 8000\n",
      "  self_test_sample_size: 0\n",
      "  character_coverage: 0.9995\n",
      "  input_sentence_size: 0\n",
      "  shuffle_input_sentence: 1\n",
      "  seed_sentencepiece_size: 1000000\n",
      "  shrinking_factor: 0.75\n",
      "  max_sentence_length: 4192\n",
      "  num_threads: 16\n",
      "  num_sub_iterations: 2\n",
      "  max_sentencepiece_length: 16\n",
      "  split_by_unicode_script: 1\n",
      "  split_by_number: 1\n",
      "  split_by_whitespace: 1\n",
      "  split_digits: 0\n",
      "  treat_whitespace_as_suffix: 0\n",
      "  allow_whitespace_only_pieces: 0\n",
      "  required_chars: \n",
      "  byte_fallback: 0\n",
      "  vocabulary_output_piece_score: 1\n",
      "  train_extremely_large_corpus: 0\n",
      "  hard_vocab_limit: 1\n",
      "  use_all_vocab: 0\n",
      "  unk_id: 0\n",
      "  bos_id: 1\n",
      "  eos_id: 2\n",
      "  pad_id: -1\n",
      "  unk_piece: <unk>\n",
      "  bos_piece: <s>\n",
      "  eos_piece: </s>\n",
      "  pad_piece: <pad>\n",
      "  unk_surface:  ⁇ \n",
      "}\n",
      "normalizer_spec {\n",
      "  name: nmt_nfkc\n",
      "  add_dummy_prefix: 1\n",
      "  remove_extra_whitespaces: 1\n",
      "  escape_whitespaces: 1\n",
      "  normalization_rule_tsv: \n",
      "}\n",
      "denormalizer_spec {}\n",
      "trainer_interface.cc(329) LOG(INFO) SentenceIterator is not specified. Using MultiFileSentenceIterator.\n",
      "trainer_interface.cc(178) LOG(INFO) Loading corpus: /aiffel/aiffel/sp_tokenizer/data/korean-english-park.train.ko.temp\n",
      "trainer_interface.cc(385) LOG(INFO) Loaded all 76908 sentences\n",
      "trainer_interface.cc(400) LOG(INFO) Adding meta_piece: <unk>\n",
      "trainer_interface.cc(400) LOG(INFO) Adding meta_piece: <s>\n",
      "trainer_interface.cc(400) LOG(INFO) Adding meta_piece: </s>\n",
      "trainer_interface.cc(405) LOG(INFO) Normalizing sentences...\n",
      "trainer_interface.cc(466) LOG(INFO) all chars count=4996369\n",
      "trainer_interface.cc(477) LOG(INFO) Done: 99.95% characters are covered.\n",
      "trainer_interface.cc(487) LOG(INFO) Alphabet size=1317\n",
      "trainer_interface.cc(488) LOG(INFO) Final character coverage=0.9995\n",
      "trainer_interface.cc(520) LOG(INFO) Done! preprocessed 76908 sentences.\n",
      "unigram_model_trainer.cc(139) LOG(INFO) Making suffix array...\n",
      "unigram_model_trainer.cc(143) LOG(INFO) Extracting frequent sub strings...\n",
      "unigram_model_trainer.cc(194) LOG(INFO) Initialized 174340 seed sentencepieces\n",
      "trainer_interface.cc(526) LOG(INFO) Tokenizing input sentences with whitespace: 76908\n",
      "trainer_interface.cc(537) LOG(INFO) Done! 237965\n",
      "unigram_model_trainer.cc(489) LOG(INFO) Using 237965 sentences for EM training\n",
      "unigram_model_trainer.cc(505) LOG(INFO) EM sub_iter=0 size=92555 obj=14.853 num_tokens=523272 num_tokens/piece=5.65363\n",
      "unigram_model_trainer.cc(505) LOG(INFO) EM sub_iter=1 size=82083 obj=13.516 num_tokens=525776 num_tokens/piece=6.40542\n",
      "unigram_model_trainer.cc(505) LOG(INFO) EM sub_iter=0 size=61555 obj=13.5533 num_tokens=546907 num_tokens/piece=8.88485\n",
      "unigram_model_trainer.cc(505) LOG(INFO) EM sub_iter=1 size=61506 obj=13.5101 num_tokens=547350 num_tokens/piece=8.89913\n",
      "unigram_model_trainer.cc(505) LOG(INFO) EM sub_iter=0 size=46126 obj=13.6926 num_tokens=575369 num_tokens/piece=12.4739\n",
      "unigram_model_trainer.cc(505) LOG(INFO) EM sub_iter=1 size=46126 obj=13.6493 num_tokens=575466 num_tokens/piece=12.476\n",
      "unigram_model_trainer.cc(505) LOG(INFO) EM sub_iter=0 size=34594 obj=13.8894 num_tokens=606014 num_tokens/piece=17.5179\n",
      "unigram_model_trainer.cc(505) LOG(INFO) EM sub_iter=1 size=34594 obj=13.8387 num_tokens=606012 num_tokens/piece=17.5178\n",
      "unigram_model_trainer.cc(505) LOG(INFO) EM sub_iter=0 size=25945 obj=14.1301 num_tokens=637532 num_tokens/piece=24.5724\n",
      "unigram_model_trainer.cc(505) LOG(INFO) EM sub_iter=1 size=25945 obj=14.0747 num_tokens=637568 num_tokens/piece=24.5738\n",
      "unigram_model_trainer.cc(505) LOG(INFO) EM sub_iter=0 size=19458 obj=14.4091 num_tokens=670960 num_tokens/piece=34.4825\n",
      "unigram_model_trainer.cc(505) LOG(INFO) EM sub_iter=1 size=19458 obj=14.3468 num_tokens=670999 num_tokens/piece=34.4845\n",
      "unigram_model_trainer.cc(505) LOG(INFO) EM sub_iter=0 size=14593 obj=14.7196 num_tokens=705636 num_tokens/piece=48.3544\n",
      "unigram_model_trainer.cc(505) LOG(INFO) EM sub_iter=1 size=14593 obj=14.648 num_tokens=705645 num_tokens/piece=48.355\n",
      "unigram_model_trainer.cc(505) LOG(INFO) EM sub_iter=0 size=10944 obj=15.0875 num_tokens=741620 num_tokens/piece=67.765\n",
      "unigram_model_trainer.cc(505) LOG(INFO) EM sub_iter=1 size=10944 obj=15.007 num_tokens=741624 num_tokens/piece=67.7654\n",
      "unigram_model_trainer.cc(505) LOG(INFO) EM sub_iter=0 size=8800 obj=15.3757 num_tokens=769363 num_tokens/piece=87.4276\n",
      "unigram_model_trainer.cc(505) LOG(INFO) EM sub_iter=1 size=8800 obj=15.307 num_tokens=769367 num_tokens/piece=87.4281\n",
      "trainer_interface.cc(615) LOG(INFO) Saving model: korean_spm.model\n",
      "trainer_interface.cc(626) LOG(INFO) Saving vocabs: korean_spm.vocab\n"
     ]
    },
    {
     "name": "stdout",
     "output_type": "stream",
     "text": [
      "-rw-r--r-- 1 root root 376816 Mar 22 02:18 korean_spm.model\r\n",
      "-rw-r--r-- 1 root root 146213 Mar 22 02:18 korean_spm.vocab\r\n"
     ]
    }
   ],
   "source": [
    "import sentencepiece as spm\n",
    "import os\n",
    "temp_file = os.getenv('HOME')+'/aiffel/sp_tokenizer/data/korean-english-park.train.ko.temp'\n",
    "\n",
    "vocab_size = 8000\n",
    "\n",
    "with open(temp_file, 'w') as f:\n",
    "    for row in filtered_corpus:   # 이전 스텝에서 정제했던 corpus를 활용합니다.\n",
    "        f.write(str(row) + '\\n')\n",
    "\n",
    "spm.SentencePieceTrainer.Train(\n",
    "    '--input={} --model_prefix=korean_spm --vocab_size={}'.format(temp_file, vocab_size)    \n",
    ")\n",
    "#위 Train에서  --model_type = 'unigram'이 디폴트 적용되어 있습니다. --model_type = 'bpe' 로 옵션을 주어 변경할 수 있습니다.\n",
    "\n",
    "!ls -l korean_spm*"
   ]
  },
  {
   "cell_type": "code",
   "execution_count": 51,
   "id": "70b01010",
   "metadata": {},
   "outputs": [
    {
     "name": "stdout",
     "output_type": "stream",
     "text": [
      "[1243, 11, 302, 7, 3608, 11, 287, 38, 3]\n",
      "['▁아버지', '가', '방', '에', '들어', '가', '신', '다', '.']\n",
      "아버지가방에들어가신다.\n"
     ]
    }
   ],
   "source": [
    "s = spm.SentencePieceProcessor()\n",
    "s.Load('korean_spm.model')\n",
    "\n",
    "# SentencePiece를 활용한 sentence -> encoding\n",
    "tokensIDs = s.EncodeAsIds('아버지가방에들어가신다.')\n",
    "print(tokensIDs)\n",
    "\n",
    "# SentencePiece를 활용한 sentence -> encoded pieces\n",
    "print(s.SampleEncodeAsPieces('아버지가방에들어가신다.',1, 0.0))\n",
    "\n",
    "# SentencePiece를 활용한 encoding -> sentence 복원\n",
    "print(s.DecodeIds(tokensIDs))"
   ]
  },
  {
   "cell_type": "code",
   "execution_count": 52,
   "id": "452a82ec",
   "metadata": {},
   "outputs": [
    {
     "data": {
      "text/plain": [
       "76908"
      ]
     },
     "execution_count": 52,
     "metadata": {},
     "output_type": "execute_result"
    }
   ],
   "source": [
    "len(filtered_corpus)"
   ]
  },
  {
   "cell_type": "markdown",
   "id": "b7e7ef79",
   "metadata": {},
   "source": [
    "* 1) 매개변수로 토큰화된 문장의 list를 전달하는 대신 온전한 문장의 list 를 전달합니다.\n",
    "\n",
    "* 2) 생성된 vocab 파일을 읽어와 { <word> : <idx> } 형태를 가지는 word_index 사전과 { <idx> : <word>} 형태를 가지는 index_word 사전을 생성하고 함께 반환합니다.\n",
    "\n",
    "* 3) 리턴값인 tensor 는 앞의 함수와 동일하게 토큰화한 후 Encoding된 문장입니다. 바로 학습에 사용할 수 있게 Padding\n",
    "\n"
   ]
  },
  {
   "cell_type": "code",
   "execution_count": 53,
   "id": "5aa9d6c2",
   "metadata": {},
   "outputs": [],
   "source": [
    "def sp_tokenize(s, corpus):\n",
    "\n",
    "    tensor = []\n",
    "\n",
    "    for sen in corpus:\n",
    "        tensor.append(s.EncodeAsIds(sen))\n",
    "\n",
    "    with open(\"./korean_spm.vocab\", 'r') as f:\n",
    "        vocab = f.readlines()\n",
    "\n",
    "    word_index = {}\n",
    "    index_word = {}\n",
    "\n",
    "    for idx, line in enumerate(vocab):\n",
    "        word = line.split(\"\\t\")[0]\n",
    "\n",
    "        word_index.update({idx:word})\n",
    "        index_word.update({word:idx})\n",
    "\n",
    "    tensor = tf.keras.preprocessing.sequence.pad_sequences(tensor, padding='post')\n",
    "\n",
    "    return tensor, word_index, index_word"
   ]
  },
  {
   "cell_type": "code",
   "execution_count": 54,
   "id": "78512439",
   "metadata": {},
   "outputs": [
    {
     "name": "stdout",
     "output_type": "stream",
     "text": [
      "[[1956 5665    5    4 7975 1990    3    0    0    0    0    0    0    0]\n",
      " [ 107 1641  101    4    0  417   11    4   14    0 1976    3    3    3]]\n"
     ]
    }
   ],
   "source": [
    "my_corpus = ['나는 밥을 먹었습니다.', '그러나 여전히 ㅠㅠ 배가 고픕니다...']\n",
    "tensor, word_index, index_word = sp_tokenize(s, my_corpus)\n",
    "print(tensor)"
   ]
  },
  {
   "cell_type": "markdown",
   "id": "0563b4d2",
   "metadata": {},
   "source": [
    "# 네이버 영화리뷰 감정 분석 문제에 SentencePiece 적용해 보기"
   ]
  },
  {
   "cell_type": "code",
   "execution_count": 55,
   "id": "7339cedc",
   "metadata": {},
   "outputs": [],
   "source": [
    "import pandas as pd\n",
    "import urllib.request"
   ]
  },
  {
   "cell_type": "code",
   "execution_count": 56,
   "id": "b5278b4f",
   "metadata": {},
   "outputs": [],
   "source": [
    "urllib.request.urlretrieve(\"https://raw.githubusercontent.com/e9t/nsmc/master/ratings.txt\", filename=\"ratings.txt\")\n",
    "data = pd.read_table('ratings.txt')"
   ]
  },
  {
   "cell_type": "code",
   "execution_count": 57,
   "id": "e06c4ac3",
   "metadata": {},
   "outputs": [
    {
     "data": {
      "text/html": [
       "<div>\n",
       "<style scoped>\n",
       "    .dataframe tbody tr th:only-of-type {\n",
       "        vertical-align: middle;\n",
       "    }\n",
       "\n",
       "    .dataframe tbody tr th {\n",
       "        vertical-align: top;\n",
       "    }\n",
       "\n",
       "    .dataframe thead th {\n",
       "        text-align: right;\n",
       "    }\n",
       "</style>\n",
       "<table border=\"1\" class=\"dataframe\">\n",
       "  <thead>\n",
       "    <tr style=\"text-align: right;\">\n",
       "      <th></th>\n",
       "      <th>id</th>\n",
       "      <th>document</th>\n",
       "      <th>label</th>\n",
       "    </tr>\n",
       "  </thead>\n",
       "  <tbody>\n",
       "    <tr>\n",
       "      <th>0</th>\n",
       "      <td>8112052</td>\n",
       "      <td>어릴때보고 지금다시봐도 재밌어요ㅋㅋ</td>\n",
       "      <td>1</td>\n",
       "    </tr>\n",
       "    <tr>\n",
       "      <th>1</th>\n",
       "      <td>8132799</td>\n",
       "      <td>디자인을 배우는 학생으로, 외국디자이너와 그들이 일군 전통을 통해 발전해가는 문화산...</td>\n",
       "      <td>1</td>\n",
       "    </tr>\n",
       "    <tr>\n",
       "      <th>2</th>\n",
       "      <td>4655635</td>\n",
       "      <td>폴리스스토리 시리즈는 1부터 뉴까지 버릴께 하나도 없음.. 최고.</td>\n",
       "      <td>1</td>\n",
       "    </tr>\n",
       "    <tr>\n",
       "      <th>3</th>\n",
       "      <td>9251303</td>\n",
       "      <td>와.. 연기가 진짜 개쩔구나.. 지루할거라고 생각했는데 몰입해서 봤다.. 그래 이런...</td>\n",
       "      <td>1</td>\n",
       "    </tr>\n",
       "    <tr>\n",
       "      <th>4</th>\n",
       "      <td>10067386</td>\n",
       "      <td>안개 자욱한 밤하늘에 떠 있는 초승달 같은 영화.</td>\n",
       "      <td>1</td>\n",
       "    </tr>\n",
       "    <tr>\n",
       "      <th>...</th>\n",
       "      <td>...</td>\n",
       "      <td>...</td>\n",
       "      <td>...</td>\n",
       "    </tr>\n",
       "    <tr>\n",
       "      <th>199995</th>\n",
       "      <td>8963373</td>\n",
       "      <td>포켓 몬스터 짜가 ㅡㅡ;;</td>\n",
       "      <td>0</td>\n",
       "    </tr>\n",
       "    <tr>\n",
       "      <th>199996</th>\n",
       "      <td>3302770</td>\n",
       "      <td>쓰.레.기</td>\n",
       "      <td>0</td>\n",
       "    </tr>\n",
       "    <tr>\n",
       "      <th>199997</th>\n",
       "      <td>5458175</td>\n",
       "      <td>완전 사이코영화. 마지막은 더욱더 이 영화의질을 떨어트린다.</td>\n",
       "      <td>0</td>\n",
       "    </tr>\n",
       "    <tr>\n",
       "      <th>199998</th>\n",
       "      <td>6908648</td>\n",
       "      <td>왜난 재미없었지 ㅠㅠ 라따뚜이 보고나서 스머프 봐서 그런가 ㅋㅋ</td>\n",
       "      <td>0</td>\n",
       "    </tr>\n",
       "    <tr>\n",
       "      <th>199999</th>\n",
       "      <td>8548411</td>\n",
       "      <td>포풍저그가나가신다영차영차영차</td>\n",
       "      <td>0</td>\n",
       "    </tr>\n",
       "  </tbody>\n",
       "</table>\n",
       "<p>200000 rows × 3 columns</p>\n",
       "</div>"
      ],
      "text/plain": [
       "              id                                           document  label\n",
       "0        8112052                                어릴때보고 지금다시봐도 재밌어요ㅋㅋ      1\n",
       "1        8132799  디자인을 배우는 학생으로, 외국디자이너와 그들이 일군 전통을 통해 발전해가는 문화산...      1\n",
       "2        4655635               폴리스스토리 시리즈는 1부터 뉴까지 버릴께 하나도 없음.. 최고.      1\n",
       "3        9251303  와.. 연기가 진짜 개쩔구나.. 지루할거라고 생각했는데 몰입해서 봤다.. 그래 이런...      1\n",
       "4       10067386                        안개 자욱한 밤하늘에 떠 있는 초승달 같은 영화.      1\n",
       "...          ...                                                ...    ...\n",
       "199995   8963373                                     포켓 몬스터 짜가 ㅡㅡ;;      0\n",
       "199996   3302770                                              쓰.레.기      0\n",
       "199997   5458175                  완전 사이코영화. 마지막은 더욱더 이 영화의질을 떨어트린다.      0\n",
       "199998   6908648                왜난 재미없었지 ㅠㅠ 라따뚜이 보고나서 스머프 봐서 그런가 ㅋㅋ      0\n",
       "199999   8548411                                    포풍저그가나가신다영차영차영차      0\n",
       "\n",
       "[200000 rows x 3 columns]"
      ]
     },
     "execution_count": 57,
     "metadata": {},
     "output_type": "execute_result"
    }
   ],
   "source": [
    "data"
   ]
  },
  {
   "cell_type": "code",
   "execution_count": 58,
   "id": "5ee2900b",
   "metadata": {},
   "outputs": [
    {
     "data": {
      "text/html": [
       "<div>\n",
       "<style scoped>\n",
       "    .dataframe tbody tr th:only-of-type {\n",
       "        vertical-align: middle;\n",
       "    }\n",
       "\n",
       "    .dataframe tbody tr th {\n",
       "        vertical-align: top;\n",
       "    }\n",
       "\n",
       "    .dataframe thead th {\n",
       "        text-align: right;\n",
       "    }\n",
       "</style>\n",
       "<table border=\"1\" class=\"dataframe\">\n",
       "  <thead>\n",
       "    <tr style=\"text-align: right;\">\n",
       "      <th></th>\n",
       "      <th>id</th>\n",
       "      <th>document</th>\n",
       "      <th>label</th>\n",
       "    </tr>\n",
       "  </thead>\n",
       "  <tbody>\n",
       "    <tr>\n",
       "      <th>8</th>\n",
       "      <td>7477618</td>\n",
       "      <td>굿</td>\n",
       "      <td>1</td>\n",
       "    </tr>\n",
       "    <tr>\n",
       "      <th>11</th>\n",
       "      <td>640794</td>\n",
       "      <td>재밌다</td>\n",
       "      <td>1</td>\n",
       "    </tr>\n",
       "    <tr>\n",
       "      <th>69</th>\n",
       "      <td>5784847</td>\n",
       "      <td>재미있어요</td>\n",
       "      <td>1</td>\n",
       "    </tr>\n",
       "    <tr>\n",
       "      <th>86</th>\n",
       "      <td>10248728</td>\n",
       "      <td>뀰잼이다뀰잼이라구여</td>\n",
       "      <td>1</td>\n",
       "    </tr>\n",
       "    <tr>\n",
       "      <th>120</th>\n",
       "      <td>4083134</td>\n",
       "      <td>쵝오</td>\n",
       "      <td>1</td>\n",
       "    </tr>\n",
       "    <tr>\n",
       "      <th>...</th>\n",
       "      <td>...</td>\n",
       "      <td>...</td>\n",
       "      <td>...</td>\n",
       "    </tr>\n",
       "    <tr>\n",
       "      <th>199932</th>\n",
       "      <td>2334732</td>\n",
       "      <td>지루함...</td>\n",
       "      <td>0</td>\n",
       "    </tr>\n",
       "    <tr>\n",
       "      <th>199939</th>\n",
       "      <td>2105796</td>\n",
       "      <td>bad</td>\n",
       "      <td>0</td>\n",
       "    </tr>\n",
       "    <tr>\n",
       "      <th>199944</th>\n",
       "      <td>2100743</td>\n",
       "      <td>재미없다...</td>\n",
       "      <td>0</td>\n",
       "    </tr>\n",
       "    <tr>\n",
       "      <th>199946</th>\n",
       "      <td>735755</td>\n",
       "      <td>에혀</td>\n",
       "      <td>0</td>\n",
       "    </tr>\n",
       "    <tr>\n",
       "      <th>199966</th>\n",
       "      <td>7405830</td>\n",
       "      <td>재미 더럽게없다..</td>\n",
       "      <td>0</td>\n",
       "    </tr>\n",
       "  </tbody>\n",
       "</table>\n",
       "<p>7047 rows × 3 columns</p>\n",
       "</div>"
      ],
      "text/plain": [
       "              id    document  label\n",
       "8        7477618           굿      1\n",
       "11        640794         재밌다      1\n",
       "69       5784847       재미있어요      1\n",
       "86      10248728  뀰잼이다뀰잼이라구여      1\n",
       "120      4083134          쵝오      1\n",
       "...          ...         ...    ...\n",
       "199932   2334732      지루함...      0\n",
       "199939   2105796         bad      0\n",
       "199944   2100743     재미없다...      0\n",
       "199946    735755          에혀      0\n",
       "199966   7405830  재미 더럽게없다..      0\n",
       "\n",
       "[7047 rows x 3 columns]"
      ]
     },
     "execution_count": 58,
     "metadata": {},
     "output_type": "execute_result"
    }
   ],
   "source": [
    "#중복 데이터 확인\n",
    "data[data.duplicated(subset='document', keep=False)]"
   ]
  },
  {
   "cell_type": "markdown",
   "id": "df84324a",
   "metadata": {},
   "source": [
    "### 결측치 및 중복데이터 제거"
   ]
  },
  {
   "cell_type": "code",
   "execution_count": 59,
   "id": "225cc998",
   "metadata": {},
   "outputs": [
    {
     "data": {
      "text/plain": [
       "8"
      ]
     },
     "execution_count": 59,
     "metadata": {},
     "output_type": "execute_result"
    }
   ],
   "source": [
    "data['document'].isnull().sum()"
   ]
  },
  {
   "cell_type": "code",
   "execution_count": 60,
   "id": "fbd5f114",
   "metadata": {},
   "outputs": [
    {
     "data": {
      "text/plain": [
       "0"
      ]
     },
     "execution_count": 60,
     "metadata": {},
     "output_type": "execute_result"
    }
   ],
   "source": [
    "data['label'].isnull().sum()"
   ]
  },
  {
   "cell_type": "code",
   "execution_count": 61,
   "id": "688f0f23",
   "metadata": {},
   "outputs": [
    {
     "data": {
      "text/plain": [
       "200000"
      ]
     },
     "execution_count": 61,
     "metadata": {},
     "output_type": "execute_result"
    }
   ],
   "source": [
    "len(data['document'])"
   ]
  },
  {
   "cell_type": "code",
   "execution_count": 62,
   "id": "afa1e4f1",
   "metadata": {},
   "outputs": [],
   "source": [
    "#중복제거 \n",
    "data = data.drop_duplicates(['document'])"
   ]
  },
  {
   "cell_type": "code",
   "execution_count": 63,
   "id": "f1d13e50",
   "metadata": {},
   "outputs": [
    {
     "name": "stdout",
     "output_type": "stream",
     "text": [
      "<class 'pandas.core.frame.DataFrame'>\n",
      "Int64Index: 194544 entries, 0 to 199999\n",
      "Data columns (total 3 columns):\n",
      " #   Column    Non-Null Count   Dtype \n",
      "---  ------    --------------   ----- \n",
      " 0   id        194544 non-null  int64 \n",
      " 1   document  194543 non-null  object\n",
      " 2   label     194544 non-null  int64 \n",
      "dtypes: int64(2), object(1)\n",
      "memory usage: 5.9+ MB\n"
     ]
    }
   ],
   "source": [
    "data.info()"
   ]
  },
  {
   "cell_type": "code",
   "execution_count": 64,
   "id": "a788be73",
   "metadata": {},
   "outputs": [],
   "source": [
    "data = data.dropna(axis=0)"
   ]
  },
  {
   "cell_type": "code",
   "execution_count": 65,
   "id": "c4621993",
   "metadata": {},
   "outputs": [
    {
     "data": {
      "text/plain": [
       "194543"
      ]
     },
     "execution_count": 65,
     "metadata": {},
     "output_type": "execute_result"
    }
   ],
   "source": [
    "len(data['document'])"
   ]
  },
  {
   "cell_type": "code",
   "execution_count": 66,
   "id": "ed858c14",
   "metadata": {},
   "outputs": [],
   "source": [
    "cleaned_corpus = data['document']"
   ]
  },
  {
   "cell_type": "code",
   "execution_count": 67,
   "id": "11cc06d4",
   "metadata": {},
   "outputs": [
    {
     "data": {
      "text/plain": [
       "194543"
      ]
     },
     "execution_count": 67,
     "metadata": {},
     "output_type": "execute_result"
    }
   ],
   "source": [
    "len(cleaned_corpus)"
   ]
  },
  {
   "cell_type": "markdown",
   "id": "666cf692",
   "metadata": {},
   "source": [
    "### 정규표현식을 이용한 전처리"
   ]
  },
  {
   "cell_type": "code",
   "execution_count": 68,
   "id": "2d160be2",
   "metadata": {},
   "outputs": [],
   "source": [
    "import re\n",
    "def preprocess_sentence(sentence):\n",
    "  \n",
    "  # 단어와 구두점(punctuation) 사이의 거리를 만듭니다.\n",
    "  # 예를 들어서 \"I am a student.\" => \"I am a student .\"와 같이\n",
    "  # student와 온점 사이에 거리를 만듭니다.\n",
    "  sentence = re.sub(r\"([?.!,])\", r\" \\1 \", sentence)\n",
    "  sentence = re.sub(r'[\" \"]+', \" \", sentence)\n",
    "\n",
    "  # (가-힣, \".\", \"?\", \"!\", \",\")를 제외한 모든 문자를 공백인 ' '로 대체합니다.\n",
    "  sentence = re.sub(r\"[^가-힣?.!,]+\", \" \", sentence)\n",
    "  sentence = sentence.strip()\n",
    "  return sentence\n"
   ]
  },
  {
   "cell_type": "code",
   "execution_count": 69,
   "id": "3c41d8de",
   "metadata": {},
   "outputs": [],
   "source": [
    "re_corpus = []\n",
    "for sentence in cleaned_corpus:\n",
    "    re_corpus.append(preprocess_sentence(sentence))\n",
    "    \n"
   ]
  },
  {
   "cell_type": "code",
   "execution_count": 70,
   "id": "b95ba273",
   "metadata": {},
   "outputs": [
    {
     "data": {
      "text/plain": [
       "['어릴때보고 지금다시봐도 재밌어요',\n",
       " '디자인을 배우는 학생으로 , 외국디자이너와 그들이 일군 전통을 통해 발전해가는 문화산업이 부러웠는데 . 사실 우리나라에서도 그 어려운시절에 끝까지 열정을 지킨 노라노 같은 전통이있어 저와 같은 사람들이 꿈을 꾸고 이뤄나갈 수 있다는 것에 감사합니다 .',\n",
       " '폴리스스토리 시리즈는 부터 뉴까지 버릴께 하나도 없음 . . 최고 .',\n",
       " '와 . . 연기가 진짜 개쩔구나 . . 지루할거라고 생각했는데 몰입해서 봤다 . . 그래 이런게 진짜 영화지',\n",
       " '안개 자욱한 밤하늘에 떠 있는 초승달 같은 영화 .',\n",
       " '사랑을 해본사람이라면 처음부터 끝까지 웃을수 있는영화',\n",
       " '완전 감동입니다 다시봐도 감동',\n",
       " '개들의 전쟁 나오나요 ? 나오면 빠로 보고 싶음',\n",
       " '굿',\n",
       " '바보가 아니라 병 쉰 인듯']"
      ]
     },
     "execution_count": 70,
     "metadata": {},
     "output_type": "execute_result"
    }
   ],
   "source": [
    "re_corpus[:10]"
   ]
  },
  {
   "cell_type": "code",
   "execution_count": 71,
   "id": "872964e8",
   "metadata": {},
   "outputs": [
    {
     "data": {
      "text/html": [
       "<div>\n",
       "<style scoped>\n",
       "    .dataframe tbody tr th:only-of-type {\n",
       "        vertical-align: middle;\n",
       "    }\n",
       "\n",
       "    .dataframe tbody tr th {\n",
       "        vertical-align: top;\n",
       "    }\n",
       "\n",
       "    .dataframe thead th {\n",
       "        text-align: right;\n",
       "    }\n",
       "</style>\n",
       "<table border=\"1\" class=\"dataframe\">\n",
       "  <thead>\n",
       "    <tr style=\"text-align: right;\">\n",
       "      <th></th>\n",
       "      <th>id</th>\n",
       "      <th>label</th>\n",
       "      <th>re_document</th>\n",
       "    </tr>\n",
       "  </thead>\n",
       "  <tbody>\n",
       "    <tr>\n",
       "      <th>0</th>\n",
       "      <td>8112052</td>\n",
       "      <td>1</td>\n",
       "      <td>어릴때보고 지금다시봐도 재밌어요</td>\n",
       "    </tr>\n",
       "    <tr>\n",
       "      <th>1</th>\n",
       "      <td>8132799</td>\n",
       "      <td>1</td>\n",
       "      <td>디자인을 배우는 학생으로 , 외국디자이너와 그들이 일군 전통을 통해 발전해가는 문화...</td>\n",
       "    </tr>\n",
       "    <tr>\n",
       "      <th>2</th>\n",
       "      <td>4655635</td>\n",
       "      <td>1</td>\n",
       "      <td>폴리스스토리 시리즈는 부터 뉴까지 버릴께 하나도 없음 . . 최고 .</td>\n",
       "    </tr>\n",
       "    <tr>\n",
       "      <th>3</th>\n",
       "      <td>9251303</td>\n",
       "      <td>1</td>\n",
       "      <td>와 . . 연기가 진짜 개쩔구나 . . 지루할거라고 생각했는데 몰입해서 봤다 . ....</td>\n",
       "    </tr>\n",
       "    <tr>\n",
       "      <th>4</th>\n",
       "      <td>10067386</td>\n",
       "      <td>1</td>\n",
       "      <td>안개 자욱한 밤하늘에 떠 있는 초승달 같은 영화 .</td>\n",
       "    </tr>\n",
       "    <tr>\n",
       "      <th>...</th>\n",
       "      <td>...</td>\n",
       "      <td>...</td>\n",
       "      <td>...</td>\n",
       "    </tr>\n",
       "    <tr>\n",
       "      <th>199995</th>\n",
       "      <td>8963373</td>\n",
       "      <td>0</td>\n",
       "      <td>포켓 몬스터 짜가</td>\n",
       "    </tr>\n",
       "    <tr>\n",
       "      <th>199996</th>\n",
       "      <td>3302770</td>\n",
       "      <td>0</td>\n",
       "      <td>쓰 . 레 . 기</td>\n",
       "    </tr>\n",
       "    <tr>\n",
       "      <th>199997</th>\n",
       "      <td>5458175</td>\n",
       "      <td>0</td>\n",
       "      <td>완전 사이코영화 . 마지막은 더욱더 이 영화의질을 떨어트린다 .</td>\n",
       "    </tr>\n",
       "    <tr>\n",
       "      <th>199998</th>\n",
       "      <td>6908648</td>\n",
       "      <td>0</td>\n",
       "      <td>왜난 재미없었지 라따뚜이 보고나서 스머프 봐서 그런가</td>\n",
       "    </tr>\n",
       "    <tr>\n",
       "      <th>199999</th>\n",
       "      <td>8548411</td>\n",
       "      <td>0</td>\n",
       "      <td>포풍저그가나가신다영차영차영차</td>\n",
       "    </tr>\n",
       "  </tbody>\n",
       "</table>\n",
       "<p>194543 rows × 3 columns</p>\n",
       "</div>"
      ],
      "text/plain": [
       "              id  label                                        re_document\n",
       "0        8112052      1                                  어릴때보고 지금다시봐도 재밌어요\n",
       "1        8132799      1  디자인을 배우는 학생으로 , 외국디자이너와 그들이 일군 전통을 통해 발전해가는 문화...\n",
       "2        4655635      1             폴리스스토리 시리즈는 부터 뉴까지 버릴께 하나도 없음 . . 최고 .\n",
       "3        9251303      1  와 . . 연기가 진짜 개쩔구나 . . 지루할거라고 생각했는데 몰입해서 봤다 . ....\n",
       "4       10067386      1                       안개 자욱한 밤하늘에 떠 있는 초승달 같은 영화 .\n",
       "...          ...    ...                                                ...\n",
       "199995   8963373      0                                          포켓 몬스터 짜가\n",
       "199996   3302770      0                                          쓰 . 레 . 기\n",
       "199997   5458175      0                완전 사이코영화 . 마지막은 더욱더 이 영화의질을 떨어트린다 .\n",
       "199998   6908648      0                      왜난 재미없었지 라따뚜이 보고나서 스머프 봐서 그런가\n",
       "199999   8548411      0                                    포풍저그가나가신다영차영차영차\n",
       "\n",
       "[194543 rows x 3 columns]"
      ]
     },
     "execution_count": 71,
     "metadata": {},
     "output_type": "execute_result"
    }
   ],
   "source": [
    "data['re_document'] = re_corpus\n",
    "data = data.drop(['document'],axis=1)\n",
    "data"
   ]
  },
  {
   "cell_type": "code",
   "execution_count": 72,
   "id": "da6e5a35",
   "metadata": {
    "scrolled": true
   },
   "outputs": [
    {
     "name": "stdout",
     "output_type": "stream",
     "text": [
      "문장의 최단 길이: 0\n",
      "문장의 최장 길이: 279\n",
      "문장의 평균 길이: 36\n"
     ]
    },
    {
     "name": "stderr",
     "output_type": "stream",
     "text": [
      "/tmp/ipykernel_31/2463085726.py:17: DeprecationWarning: `np.int` is a deprecated alias for the builtin `int`. To silence this warning, use `int` by itself. Doing this will not modify any behavior and is safe. When replacing `np.int`, you may wish to use e.g. `np.int64` or `np.int32` to specify the precision. If you wish to review your current use, check the release note link for additional information.\n",
      "Deprecated in NumPy 1.20; for more details and guidance: https://numpy.org/devdocs/release/1.20.0-notes.html#deprecations\n",
      "  sentence_length = np.zeros((max_len), dtype=np.int)\n"
     ]
    },
    {
     "data": {
      "image/png": "[encoded data removed]",
      "text/plain": [
       "<Figure size 432x288 with 1 Axes>"
      ]
     },
     "metadata": {
      "needs_background": "light"
     },
     "output_type": "display_data"
    }
   ],
   "source": [
    "import matplotlib.pyplot as plt\n",
    "\n",
    "min_len = 999\n",
    "max_len = 0\n",
    "sum_len = 0\n",
    "\n",
    "for i in re_corpus:\n",
    "    length = len(i)\n",
    "    if min_len > length: min_len = length\n",
    "    if max_len < length: max_len = length\n",
    "    sum_len += length\n",
    "\n",
    "print(\"문장의 최단 길이:\", min_len)\n",
    "print(\"문장의 최장 길이:\", max_len)\n",
    "print(\"문장의 평균 길이:\", sum_len // len(re_corpus))\n",
    "\n",
    "sentence_length = np.zeros((max_len), dtype=np.int)\n",
    "\n",
    "for sen in re_corpus:\n",
    "    sentence_length[len(sen)-1] += 1\n",
    "    \n",
    "\n",
    "plt.bar(range(max_len), sentence_length, width=1.0)\n",
    "plt.title(\"Sentence Length Distribution\")\n",
    "plt.show()"
   ]
  },
  {
   "cell_type": "markdown",
   "id": "0a976a36",
   "metadata": {},
   "source": [
    "#### 분포를 체크해본후, 문장 길이가 1 또는2인 문장을 확인해보자. 또한, 분포의 끝에 튄 데이터를 확인해보자."
   ]
  },
  {
   "cell_type": "code",
   "execution_count": 73,
   "id": "68358f19",
   "metadata": {},
   "outputs": [
    {
     "name": "stdout",
     "output_type": "stream",
     "text": [
      "굿\n",
      "핡\n",
      "쨩\n",
      "휴\n",
      "짱\n",
      "시\n",
      "긋\n",
      ".\n",
      "!\n",
      "짱\n",
      "갑\n",
      ".\n",
      "퀼\n",
      "넌\n",
      "짱\n",
      "점\n",
      ".\n",
      "올\n",
      "헷\n",
      "!\n",
      ",\n",
      "!\n",
      "!\n",
      "짱\n",
      "굿\n",
      "!\n",
      ".\n",
      ".\n",
      "굳\n",
      "잼\n",
      "점\n",
      "굳\n",
      "!\n",
      ".\n",
      "!\n",
      "굿\n",
      "!\n",
      "?\n",
      "짱\n",
      ",\n",
      "켠\n",
      "구\n",
      "!\n",
      "애\n",
      "켘\n",
      "!\n",
      "흠\n",
      "오\n",
      "!\n",
      "찜\n",
      "굿\n",
      "?\n",
      "짱\n",
      "!\n",
      "렇\n",
      "!\n",
      ",\n",
      ".\n",
      "굿\n",
      "!\n",
      "젬\n",
      "긋\n",
      "굿\n",
      "해\n",
      "점\n",
      "등\n",
      ",\n",
      "!\n",
      "!\n",
      "짱\n",
      ".\n",
      ".\n",
      "호\n",
      "굿\n",
      "자\n",
      "짱\n",
      "!\n",
      "굿\n",
      ".\n",
      "짱\n",
      "음\n",
      "!\n",
      "!\n",
      "!\n",
      "굿\n",
      "헐\n",
      "굿\n",
      "굳\n",
      "캬\n",
      ".\n",
      "!\n",
      ",\n",
      ".\n",
      "!\n",
      ".\n",
      "린\n",
      "굳\n",
      "오\n",
      "?\n",
      ".\n",
      ".\n"
     ]
    }
   ],
   "source": [
    "check_sentence_with_length(re_corpus, 1)"
   ]
  },
  {
   "cell_type": "code",
   "execution_count": 74,
   "id": "9f8e011a",
   "metadata": {},
   "outputs": [
    {
     "name": "stdout",
     "output_type": "stream",
     "text": [
      "쵝오\n",
      "감동\n",
      "최고\n",
      "좋아\n",
      "적당\n",
      "흐흐\n",
      "개쩜\n",
      "굳뜨\n",
      "빠다\n",
      "좋다\n",
      "결말\n",
      "섬뜩\n",
      "대박\n",
      "잼슴\n",
      "굳굳\n",
      "윤하\n",
      "유쾌\n",
      "까까\n",
      "감동\n",
      "잼남\n",
      "박수\n",
      "간지\n",
      "수작\n",
      "각키\n",
      "졸잼\n",
      "쏘우\n",
      "명작\n",
      "대작\n",
      "최고\n",
      "잼네\n",
      "맞아\n",
      "완벽\n",
      "오우\n",
      "굿굿\n",
      "굿잡\n",
      "와우\n",
      "쩐다\n",
      "신고\n",
      "좋네\n",
      "미투\n",
      "감동\n",
      "팬심\n",
      "최고\n",
      "감동\n",
      "후훗\n",
      "걸작\n",
      "재미\n",
      "잼잼\n",
      "나두\n",
      "예뻐\n",
      "만점\n",
      "최고\n",
      "웃김\n",
      "최고\n",
      "오호\n",
      "람보\n",
      "설리\n",
      "좋너\n",
      "환상\n",
      "의읭\n",
      "갱호\n",
      "감동\n",
      "원작\n",
      "좋음\n",
      "꿀잼\n",
      "하하\n",
      "감동\n",
      "좋음\n",
      "조앙\n",
      "멋져\n",
      "매력\n",
      "좋다\n",
      "개박\n",
      "조음\n",
      "추천\n",
      "신고\n",
      "탁월\n",
      "조아\n",
      "쩔어\n",
      "피식\n",
      "굳밤\n",
      "감독\n",
      "잼슴\n",
      "가슴\n",
      "재밋\n",
      "잼씀\n",
      "잼넹\n",
      "진리\n",
      "붉다\n",
      "눈물\n",
      "웃김\n",
      "안다\n",
      "이브\n",
      "최고\n",
      "오오\n",
      "아낰\n",
      "막장\n",
      "덜덜\n",
      "좋아\n",
      "그냥\n",
      "잼따\n"
     ]
    }
   ],
   "source": [
    "check_sentence_with_length(re_corpus, 2)"
   ]
  },
  {
   "cell_type": "code",
   "execution_count": 75,
   "id": "16c7edfd",
   "metadata": {},
   "outputs": [
    {
     "data": {
      "text/plain": [
       "654"
      ]
     },
     "execution_count": 75,
     "metadata": {},
     "output_type": "execute_result"
    }
   ],
   "source": [
    "# 튄 부분의 문장 수 확인\n",
    "sentence_length[max_len-1]"
   ]
  },
  {
   "cell_type": "code",
   "execution_count": 76,
   "id": "5db383d8",
   "metadata": {},
   "outputs": [
    {
     "name": "stdout",
     "output_type": "stream",
     "text": [
      "후 . . . . . . . . . . . . . . . . . . . . . . . . . . . . . . . . . . . . . . . . . . . . . . . . . . . . . . . . . . . . . . . . . . . . . . . . . . . . . . . . . . . . . . . . . . . . . . . . . . . . . . . . . . . . . . . . . . . . . . . . . . . . . . . . . . . . . . . . . . .\n"
     ]
    }
   ],
   "source": [
    "check_sentence_with_length(re_corpus, 279)"
   ]
  },
  {
   "cell_type": "markdown",
   "id": "af0dce06",
   "metadata": {},
   "source": [
    "**문장길이가 1또는 2인 경우, 큰 의미가 없는 문장임을 확인할 수 있다. 따라서 minlen을3으로 두고, maxlend은 대부분의 문장을 포함하는 120으로 설정하고 분석을 진행해보자.** "
   ]
  },
  {
   "cell_type": "code",
   "execution_count": 77,
   "id": "a952af38",
   "metadata": {},
   "outputs": [],
   "source": [
    "length_list= [len(raw) for raw in re_corpus]"
   ]
  },
  {
   "cell_type": "code",
   "execution_count": 78,
   "id": "8ce479f6",
   "metadata": {},
   "outputs": [
    {
     "name": "stdout",
     "output_type": "stream",
     "text": [
      "95.03246068992459\n"
     ]
    }
   ],
   "source": [
    "\n",
    "maxlen = 120\n",
    "minlen = 3\n",
    "count = 0\n",
    "for num in length_list:\n",
    "    if minlen<= num and num <= maxlen:\n",
    "        count +=1\n",
    "        \n",
    "print(count/len(length_list)*100)"
   ]
  },
  {
   "cell_type": "markdown",
   "id": "ec46da69",
   "metadata": {},
   "source": [
    "**minlen=3 , maxlen = 120으로 설정시 95%의 문장이 포함됨을 알 수 있다.**"
   ]
  },
  {
   "cell_type": "code",
   "execution_count": 79,
   "id": "630f6aec",
   "metadata": {},
   "outputs": [
    {
     "name": "stderr",
     "output_type": "stream",
     "text": [
      "/tmp/ipykernel_31/628378031.py:8: DeprecationWarning: `np.int` is a deprecated alias for the builtin `int`. To silence this warning, use `int` by itself. Doing this will not modify any behavior and is safe. When replacing `np.int`, you may wish to use e.g. `np.int64` or `np.int32` to specify the precision. If you wish to review your current use, check the release note link for additional information.\n",
      "Deprecated in NumPy 1.20; for more details and guidance: https://numpy.org/devdocs/release/1.20.0-notes.html#deprecations\n",
      "  sentence_length = np.zeros((max_len), dtype=np.int)\n"
     ]
    },
    {
     "data": {
      "image/png": "[encoded data removed]",
      "text/plain": [
       "<Figure size 432x288 with 1 Axes>"
      ]
     },
     "metadata": {
      "needs_background": "light"
     },
     "output_type": "display_data"
    }
   ],
   "source": [
    "max_len = 120\n",
    "min_len = 3\n",
    "\n",
    "# 길이 조건에 맞는 문장만 선택합니다.\n",
    "filtered_corpus = [s for s in re_corpus if (len(s) < max_len) & (len(s) >= min_len)]\n",
    "\n",
    "# 분포도를 다시 그려봅니다.\n",
    "sentence_length = np.zeros((max_len), dtype=np.int)\n",
    "\n",
    "for sen in filtered_corpus:\n",
    "    sentence_length[len(sen)-1] += 1\n",
    "\n",
    "plt.bar(range(max_len), sentence_length, width=1.0)\n",
    "plt.title(\"Sentence Length Distribution\")\n",
    "plt.show()"
   ]
  },
  {
   "cell_type": "code",
   "execution_count": 80,
   "id": "e0184a0d",
   "metadata": {},
   "outputs": [],
   "source": [
    "review = []\n",
    "\n",
    "for s in data['re_document']:\n",
    "    if (len(s) < max_len) & (len(s) >= min_len):\n",
    "        review.append(s)\n",
    "        \n",
    "        \n",
    "\n",
    "        \n",
    "    "
   ]
  },
  {
   "cell_type": "code",
   "execution_count": 81,
   "id": "8f629a19",
   "metadata": {},
   "outputs": [],
   "source": [
    "review = pd.DataFrame(review)"
   ]
  },
  {
   "cell_type": "code",
   "execution_count": 82,
   "id": "01ef0104",
   "metadata": {},
   "outputs": [],
   "source": [
    "review = review.rename(columns={0:'re_document'})"
   ]
  },
  {
   "cell_type": "code",
   "execution_count": 83,
   "id": "f6ab20c3",
   "metadata": {},
   "outputs": [
    {
     "data": {
      "text/html": [
       "<div>\n",
       "<style scoped>\n",
       "    .dataframe tbody tr th:only-of-type {\n",
       "        vertical-align: middle;\n",
       "    }\n",
       "\n",
       "    .dataframe tbody tr th {\n",
       "        vertical-align: top;\n",
       "    }\n",
       "\n",
       "    .dataframe thead th {\n",
       "        text-align: right;\n",
       "    }\n",
       "</style>\n",
       "<table border=\"1\" class=\"dataframe\">\n",
       "  <thead>\n",
       "    <tr style=\"text-align: right;\">\n",
       "      <th></th>\n",
       "      <th>re_document</th>\n",
       "    </tr>\n",
       "  </thead>\n",
       "  <tbody>\n",
       "    <tr>\n",
       "      <th>0</th>\n",
       "      <td>어릴때보고 지금다시봐도 재밌어요</td>\n",
       "    </tr>\n",
       "    <tr>\n",
       "      <th>1</th>\n",
       "      <td>폴리스스토리 시리즈는 부터 뉴까지 버릴께 하나도 없음 . . 최고 .</td>\n",
       "    </tr>\n",
       "    <tr>\n",
       "      <th>2</th>\n",
       "      <td>와 . . 연기가 진짜 개쩔구나 . . 지루할거라고 생각했는데 몰입해서 봤다 . ....</td>\n",
       "    </tr>\n",
       "    <tr>\n",
       "      <th>3</th>\n",
       "      <td>안개 자욱한 밤하늘에 떠 있는 초승달 같은 영화 .</td>\n",
       "    </tr>\n",
       "    <tr>\n",
       "      <th>4</th>\n",
       "      <td>사랑을 해본사람이라면 처음부터 끝까지 웃을수 있는영화</td>\n",
       "    </tr>\n",
       "    <tr>\n",
       "      <th>...</th>\n",
       "      <td>...</td>\n",
       "    </tr>\n",
       "    <tr>\n",
       "      <th>184690</th>\n",
       "      <td>포켓 몬스터 짜가</td>\n",
       "    </tr>\n",
       "    <tr>\n",
       "      <th>184691</th>\n",
       "      <td>쓰 . 레 . 기</td>\n",
       "    </tr>\n",
       "    <tr>\n",
       "      <th>184692</th>\n",
       "      <td>완전 사이코영화 . 마지막은 더욱더 이 영화의질을 떨어트린다 .</td>\n",
       "    </tr>\n",
       "    <tr>\n",
       "      <th>184693</th>\n",
       "      <td>왜난 재미없었지 라따뚜이 보고나서 스머프 봐서 그런가</td>\n",
       "    </tr>\n",
       "    <tr>\n",
       "      <th>184694</th>\n",
       "      <td>포풍저그가나가신다영차영차영차</td>\n",
       "    </tr>\n",
       "  </tbody>\n",
       "</table>\n",
       "<p>184695 rows × 1 columns</p>\n",
       "</div>"
      ],
      "text/plain": [
       "                                              re_document\n",
       "0                                       어릴때보고 지금다시봐도 재밌어요\n",
       "1                  폴리스스토리 시리즈는 부터 뉴까지 버릴께 하나도 없음 . . 최고 .\n",
       "2       와 . . 연기가 진짜 개쩔구나 . . 지루할거라고 생각했는데 몰입해서 봤다 . ....\n",
       "3                            안개 자욱한 밤하늘에 떠 있는 초승달 같은 영화 .\n",
       "4                           사랑을 해본사람이라면 처음부터 끝까지 웃을수 있는영화\n",
       "...                                                   ...\n",
       "184690                                          포켓 몬스터 짜가\n",
       "184691                                          쓰 . 레 . 기\n",
       "184692                완전 사이코영화 . 마지막은 더욱더 이 영화의질을 떨어트린다 .\n",
       "184693                      왜난 재미없었지 라따뚜이 보고나서 스머프 봐서 그런가\n",
       "184694                                    포풍저그가나가신다영차영차영차\n",
       "\n",
       "[184695 rows x 1 columns]"
      ]
     },
     "execution_count": 83,
     "metadata": {},
     "output_type": "execute_result"
    }
   ],
   "source": [
    "review"
   ]
  },
  {
   "cell_type": "code",
   "execution_count": 84,
   "id": "69046eb9",
   "metadata": {},
   "outputs": [],
   "source": [
    "review = review.drop_duplicates(['re_document'])"
   ]
  },
  {
   "cell_type": "code",
   "execution_count": 85,
   "id": "655a46a6",
   "metadata": {},
   "outputs": [],
   "source": [
    "data = data.drop_duplicates(['re_document'])"
   ]
  },
  {
   "cell_type": "code",
   "execution_count": 86,
   "id": "405c821c",
   "metadata": {},
   "outputs": [],
   "source": [
    "train = pd.merge(data,review ,how='inner',on='re_document')"
   ]
  },
  {
   "cell_type": "markdown",
   "id": "fa43286f",
   "metadata": {},
   "source": [
    "**join하는 과정에서 자꾸 데이터의 raw가 늘어나는 문제가 발생했다. 확인해보니, 기존에 중복을 제거했음에도 불구하고 정규표현식을 이용한 전처리를 하니 다시 중복되는 데이터가 있었던것 같다. 따라서 기존 데이터와 새로 만든 데이터의 중복을 제거하고 join을 하니 문제가 해결됐다.**"
   ]
  },
  {
   "cell_type": "code",
   "execution_count": 87,
   "id": "072791f4",
   "metadata": {},
   "outputs": [
    {
     "data": {
      "text/html": [
       "<div>\n",
       "<style scoped>\n",
       "    .dataframe tbody tr th:only-of-type {\n",
       "        vertical-align: middle;\n",
       "    }\n",
       "\n",
       "    .dataframe tbody tr th {\n",
       "        vertical-align: top;\n",
       "    }\n",
       "\n",
       "    .dataframe thead th {\n",
       "        text-align: right;\n",
       "    }\n",
       "</style>\n",
       "<table border=\"1\" class=\"dataframe\">\n",
       "  <thead>\n",
       "    <tr style=\"text-align: right;\">\n",
       "      <th></th>\n",
       "      <th>id</th>\n",
       "      <th>label</th>\n",
       "      <th>re_document</th>\n",
       "    </tr>\n",
       "  </thead>\n",
       "  <tbody>\n",
       "    <tr>\n",
       "      <th>0</th>\n",
       "      <td>8112052</td>\n",
       "      <td>1</td>\n",
       "      <td>어릴때보고 지금다시봐도 재밌어요</td>\n",
       "    </tr>\n",
       "    <tr>\n",
       "      <th>1</th>\n",
       "      <td>4655635</td>\n",
       "      <td>1</td>\n",
       "      <td>폴리스스토리 시리즈는 부터 뉴까지 버릴께 하나도 없음 . . 최고 .</td>\n",
       "    </tr>\n",
       "    <tr>\n",
       "      <th>2</th>\n",
       "      <td>9251303</td>\n",
       "      <td>1</td>\n",
       "      <td>와 . . 연기가 진짜 개쩔구나 . . 지루할거라고 생각했는데 몰입해서 봤다 . ....</td>\n",
       "    </tr>\n",
       "    <tr>\n",
       "      <th>3</th>\n",
       "      <td>10067386</td>\n",
       "      <td>1</td>\n",
       "      <td>안개 자욱한 밤하늘에 떠 있는 초승달 같은 영화 .</td>\n",
       "    </tr>\n",
       "    <tr>\n",
       "      <th>4</th>\n",
       "      <td>2190435</td>\n",
       "      <td>1</td>\n",
       "      <td>사랑을 해본사람이라면 처음부터 끝까지 웃을수 있는영화</td>\n",
       "    </tr>\n",
       "    <tr>\n",
       "      <th>...</th>\n",
       "      <td>...</td>\n",
       "      <td>...</td>\n",
       "      <td>...</td>\n",
       "    </tr>\n",
       "    <tr>\n",
       "      <th>183387</th>\n",
       "      <td>4834376</td>\n",
       "      <td>0</td>\n",
       "      <td>개연성이 없어요 . . 별루다 . . .</td>\n",
       "    </tr>\n",
       "    <tr>\n",
       "      <th>183388</th>\n",
       "      <td>8963373</td>\n",
       "      <td>0</td>\n",
       "      <td>포켓 몬스터 짜가</td>\n",
       "    </tr>\n",
       "    <tr>\n",
       "      <th>183389</th>\n",
       "      <td>5458175</td>\n",
       "      <td>0</td>\n",
       "      <td>완전 사이코영화 . 마지막은 더욱더 이 영화의질을 떨어트린다 .</td>\n",
       "    </tr>\n",
       "    <tr>\n",
       "      <th>183390</th>\n",
       "      <td>6908648</td>\n",
       "      <td>0</td>\n",
       "      <td>왜난 재미없었지 라따뚜이 보고나서 스머프 봐서 그런가</td>\n",
       "    </tr>\n",
       "    <tr>\n",
       "      <th>183391</th>\n",
       "      <td>8548411</td>\n",
       "      <td>0</td>\n",
       "      <td>포풍저그가나가신다영차영차영차</td>\n",
       "    </tr>\n",
       "  </tbody>\n",
       "</table>\n",
       "<p>183392 rows × 3 columns</p>\n",
       "</div>"
      ],
      "text/plain": [
       "              id  label                                        re_document\n",
       "0        8112052      1                                  어릴때보고 지금다시봐도 재밌어요\n",
       "1        4655635      1             폴리스스토리 시리즈는 부터 뉴까지 버릴께 하나도 없음 . . 최고 .\n",
       "2        9251303      1  와 . . 연기가 진짜 개쩔구나 . . 지루할거라고 생각했는데 몰입해서 봤다 . ....\n",
       "3       10067386      1                       안개 자욱한 밤하늘에 떠 있는 초승달 같은 영화 .\n",
       "4        2190435      1                      사랑을 해본사람이라면 처음부터 끝까지 웃을수 있는영화\n",
       "...          ...    ...                                                ...\n",
       "183387   4834376      0                             개연성이 없어요 . . 별루다 . . .\n",
       "183388   8963373      0                                          포켓 몬스터 짜가\n",
       "183389   5458175      0                완전 사이코영화 . 마지막은 더욱더 이 영화의질을 떨어트린다 .\n",
       "183390   6908648      0                      왜난 재미없었지 라따뚜이 보고나서 스머프 봐서 그런가\n",
       "183391   8548411      0                                    포풍저그가나가신다영차영차영차\n",
       "\n",
       "[183392 rows x 3 columns]"
      ]
     },
     "execution_count": 87,
     "metadata": {},
     "output_type": "execute_result"
    }
   ],
   "source": [
    "train"
   ]
  },
  {
   "cell_type": "code",
   "execution_count": 88,
   "id": "4f641467",
   "metadata": {},
   "outputs": [],
   "source": [
    "#x,y data분리\n",
    "review = train['re_document']\n",
    "label = train['label']"
   ]
  },
  {
   "cell_type": "code",
   "execution_count": 89,
   "id": "5cfbdef8",
   "metadata": {},
   "outputs": [
    {
     "data": {
      "text/plain": [
       "183392"
      ]
     },
     "execution_count": 89,
     "metadata": {},
     "output_type": "execute_result"
    }
   ],
   "source": [
    "len(label)"
   ]
  },
  {
   "cell_type": "code",
   "execution_count": 90,
   "id": "b7f535bf",
   "metadata": {},
   "outputs": [
    {
     "data": {
      "text/plain": [
       "183392"
      ]
     },
     "execution_count": 90,
     "metadata": {},
     "output_type": "execute_result"
    }
   ],
   "source": [
    "len(review)"
   ]
  },
  {
   "cell_type": "markdown",
   "id": "1e3685c6",
   "metadata": {},
   "source": [
    "## SentencePiece에 적용"
   ]
  },
  {
   "cell_type": "markdown",
   "id": "07e3aedd",
   "metadata": {},
   "source": [
    "**일단, sentencepiece의 입력으로 사용하기 위해 전처리된 문장들을 txt파일로 저장해준다.**"
   ]
  },
  {
   "cell_type": "code",
   "execution_count": 91,
   "id": "7548f145",
   "metadata": {},
   "outputs": [],
   "source": [
    "with open('review.txt', 'w', encoding='utf8') as f:\n",
    "    f.write('\\n'.join(review))"
   ]
  },
  {
   "cell_type": "code",
   "execution_count": 92,
   "id": "66e85cb1",
   "metadata": {},
   "outputs": [
    {
     "name": "stderr",
     "output_type": "stream",
     "text": [
      "sentencepiece_trainer.cc(177) LOG(INFO) Running command: --input=review.txt --model_prefix=naver --vocab_size=10000\n",
      "sentencepiece_trainer.cc(77) LOG(INFO) Starts training with : \n",
      "trainer_spec {\n",
      "  input: review.txt\n",
      "  input_format: \n",
      "  model_prefix: naver\n",
      "  model_type: UNIGRAM\n",
      "  vocab_size: 10000\n",
      "  self_test_sample_size: 0\n",
      "  character_coverage: 0.9995\n",
      "  input_sentence_size: 0\n",
      "  shuffle_input_sentence: 1\n",
      "  seed_sentencepiece_size: 1000000\n",
      "  shrinking_factor: 0.75\n",
      "  max_sentence_length: 4192\n",
      "  num_threads: 16\n",
      "  num_sub_iterations: 2\n",
      "  max_sentencepiece_length: 16\n",
      "  split_by_unicode_script: 1\n",
      "  split_by_number: 1\n",
      "  split_by_whitespace: 1\n",
      "  split_digits: 0\n",
      "  treat_whitespace_as_suffix: 0\n",
      "  allow_whitespace_only_pieces: 0\n",
      "  required_chars: \n",
      "  byte_fallback: 0\n",
      "  vocabulary_output_piece_score: 1\n",
      "  train_extremely_large_corpus: 0\n",
      "  hard_vocab_limit: 1\n",
      "  use_all_vocab: 0\n",
      "  unk_id: 0\n",
      "  bos_id: 1\n",
      "  eos_id: 2\n",
      "  pad_id: -1\n",
      "  unk_piece: <unk>\n",
      "  bos_piece: <s>\n",
      "  eos_piece: </s>\n",
      "  pad_piece: <pad>\n",
      "  unk_surface:  ⁇ \n",
      "}\n",
      "normalizer_spec {\n",
      "  name: nmt_nfkc\n",
      "  add_dummy_prefix: 1\n",
      "  remove_extra_whitespaces: 1\n",
      "  escape_whitespaces: 1\n",
      "  normalization_rule_tsv: \n",
      "}\n",
      "denormalizer_spec {}\n",
      "trainer_interface.cc(329) LOG(INFO) SentenceIterator is not specified. Using MultiFileSentenceIterator.\n",
      "trainer_interface.cc(178) LOG(INFO) Loading corpus: review.txt\n",
      "trainer_interface.cc(385) LOG(INFO) Loaded all 183392 sentences\n",
      "trainer_interface.cc(400) LOG(INFO) Adding meta_piece: <unk>\n",
      "trainer_interface.cc(400) LOG(INFO) Adding meta_piece: <s>\n",
      "trainer_interface.cc(400) LOG(INFO) Adding meta_piece: </s>\n",
      "trainer_interface.cc(405) LOG(INFO) Normalizing sentences...\n",
      "trainer_interface.cc(466) LOG(INFO) all chars count=6254980\n",
      "trainer_interface.cc(477) LOG(INFO) Done: 99.95% characters are covered.\n",
      "trainer_interface.cc(487) LOG(INFO) Alphabet size=1495\n",
      "trainer_interface.cc(488) LOG(INFO) Final character coverage=0.9995\n",
      "trainer_interface.cc(520) LOG(INFO) Done! preprocessed 183392 sentences.\n",
      "unigram_model_trainer.cc(139) LOG(INFO) Making suffix array...\n",
      "unigram_model_trainer.cc(143) LOG(INFO) Extracting frequent sub strings...\n",
      "unigram_model_trainer.cc(194) LOG(INFO) Initialized 300401 seed sentencepieces\n",
      "trainer_interface.cc(526) LOG(INFO) Tokenizing input sentences with whitespace: 183392\n",
      "trainer_interface.cc(537) LOG(INFO) Done! 297268\n",
      "unigram_model_trainer.cc(489) LOG(INFO) Using 297268 sentences for EM training\n",
      "unigram_model_trainer.cc(505) LOG(INFO) EM sub_iter=0 size=148148 obj=11.3775 num_tokens=594634 num_tokens/piece=4.01378\n",
      "unigram_model_trainer.cc(505) LOG(INFO) EM sub_iter=1 size=134460 obj=10.4262 num_tokens=596308 num_tokens/piece=4.43484\n",
      "unigram_model_trainer.cc(505) LOG(INFO) EM sub_iter=0 size=100798 obj=10.4674 num_tokens=626071 num_tokens/piece=6.21115\n",
      "unigram_model_trainer.cc(505) LOG(INFO) EM sub_iter=1 size=100587 obj=10.4294 num_tokens=626280 num_tokens/piece=6.22625\n",
      "unigram_model_trainer.cc(505) LOG(INFO) EM sub_iter=0 size=75439 obj=10.579 num_tokens=663401 num_tokens/piece=8.79387\n",
      "unigram_model_trainer.cc(505) LOG(INFO) EM sub_iter=1 size=75433 obj=10.5393 num_tokens=663454 num_tokens/piece=8.79528\n",
      "unigram_model_trainer.cc(505) LOG(INFO) EM sub_iter=0 size=56574 obj=10.7148 num_tokens=699695 num_tokens/piece=12.3678\n",
      "unigram_model_trainer.cc(505) LOG(INFO) EM sub_iter=1 size=56574 obj=10.6743 num_tokens=699688 num_tokens/piece=12.3677\n",
      "unigram_model_trainer.cc(505) LOG(INFO) EM sub_iter=0 size=42430 obj=10.8707 num_tokens=737670 num_tokens/piece=17.3856\n",
      "unigram_model_trainer.cc(505) LOG(INFO) EM sub_iter=1 size=42430 obj=10.8278 num_tokens=737689 num_tokens/piece=17.386\n",
      "unigram_model_trainer.cc(505) LOG(INFO) EM sub_iter=0 size=31822 obj=11.0469 num_tokens=775561 num_tokens/piece=24.3718\n",
      "unigram_model_trainer.cc(505) LOG(INFO) EM sub_iter=1 size=31822 obj=11.0013 num_tokens=775555 num_tokens/piece=24.3717\n",
      "unigram_model_trainer.cc(505) LOG(INFO) EM sub_iter=0 size=23866 obj=11.2505 num_tokens=815315 num_tokens/piece=34.1622\n",
      "unigram_model_trainer.cc(505) LOG(INFO) EM sub_iter=1 size=23866 obj=11.1994 num_tokens=815325 num_tokens/piece=34.1626\n",
      "unigram_model_trainer.cc(505) LOG(INFO) EM sub_iter=0 size=17899 obj=11.4765 num_tokens=857445 num_tokens/piece=47.9046\n",
      "unigram_model_trainer.cc(505) LOG(INFO) EM sub_iter=1 size=17899 obj=11.4187 num_tokens=857468 num_tokens/piece=47.9059\n",
      "unigram_model_trainer.cc(505) LOG(INFO) EM sub_iter=0 size=13424 obj=11.7214 num_tokens=901197 num_tokens/piece=67.1333\n",
      "unigram_model_trainer.cc(505) LOG(INFO) EM sub_iter=1 size=13424 obj=11.6553 num_tokens=901288 num_tokens/piece=67.14\n",
      "unigram_model_trainer.cc(505) LOG(INFO) EM sub_iter=0 size=11000 obj=11.8794 num_tokens=932518 num_tokens/piece=84.7744\n",
      "unigram_model_trainer.cc(505) LOG(INFO) EM sub_iter=1 size=11000 obj=11.8314 num_tokens=932512 num_tokens/piece=84.7738\n",
      "trainer_interface.cc(615) LOG(INFO) Saving model: naver.model\n",
      "trainer_interface.cc(626) LOG(INFO) Saving vocabs: naver.vocab\n"
     ]
    }
   ],
   "source": [
    "#vocab_size= 10000\n",
    "spm.SentencePieceTrainer.Train(\n",
    "    '--input=review.txt --model_prefix=naver --vocab_size=10000')"
   ]
  },
  {
   "cell_type": "markdown",
   "id": "d97f2df5",
   "metadata": {},
   "source": [
    "### 패딩"
   ]
  },
  {
   "cell_type": "markdown",
   "id": "4e79e204",
   "metadata": {},
   "source": [
    "아까는 문장 길이 분포를 살펴보았고, 이번엔 토큰화된 토큰의 길이를 살펴본 후, 패딩 전 maxlen을 결정해보자."
   ]
  },
  {
   "cell_type": "code",
   "execution_count": 93,
   "id": "19fc7751",
   "metadata": {},
   "outputs": [],
   "source": [
    "s = spm.SentencePieceProcessor()\n",
    "s.Load('naver.model')\n",
    "\n",
    "tokens = []\n",
    "\n",
    "for sen in review:\n",
    "    tokens.append(s.EncodeAsIds(sen))"
   ]
  },
  {
   "cell_type": "code",
   "execution_count": 94,
   "id": "598d3f23",
   "metadata": {},
   "outputs": [
    {
     "name": "stdout",
     "output_type": "stream",
     "text": [
      "토큰 수 평균 :  14.593242889548073\n",
      "토큰 수 최대 :  95\n",
      "토큰 수 표준편차:  10.292544505666896\n"
     ]
    },
    {
     "data": {
      "image/png": "[encoded data removed]",
      "text/plain": [
       "<Figure size 432x288 with 1 Axes>"
      ]
     },
     "metadata": {
      "needs_background": "light"
     },
     "output_type": "display_data"
    }
   ],
   "source": [
    "import matplotlib.pyplot as plt\n",
    "\n",
    "num_token= [len(tok) for tok in tokens]\n",
    "num_token = np.array(num_token)\n",
    "\n",
    "print('토큰 수 평균 : ', np.mean(num_token))\n",
    "print('토큰 수 최대 : ', np.max(num_token))\n",
    "print('토큰 수 표준편차: ',np.std(num_token))\n",
    "plt.hist([len(tok) for tok in tokens],bins=20)\n",
    "plt.xlabel('num_token ')\n",
    "plt.ylabel('num_sample ')\n",
    "plt.show()"
   ]
  },
  {
   "cell_type": "code",
   "execution_count": 95,
   "id": "060b6eef",
   "metadata": {},
   "outputs": [
    {
     "name": "stdout",
     "output_type": "stream",
     "text": [
      "pad_sequences maxlen :  40\n",
      "전체 문장의 0.961197871226662%가 maxlen 설정값 이내에 포함됩니다. \n"
     ]
    }
   ],
   "source": [
    "#임의로 40으로 지정\n",
    "max_token = 40\n",
    "MAX_LENGTH = int(max_token)\n",
    "print('pad_sequences maxlen : ', MAX_LENGTH)\n",
    "print('전체 문장의 {}%가 maxlen 설정값 이내에 포함됩니다. '.format(np.sum(num_token < max_token) / len(num_token)))"
   ]
  },
  {
   "cell_type": "markdown",
   "id": "d042ec2c",
   "metadata": {},
   "source": [
    "#### token 수를 40으로 지정하니 전체 문장의 96%가 포함된다. max_token을 40으로 지정하고 패딩을 진행해보자."
   ]
  },
  {
   "cell_type": "code",
   "execution_count": 96,
   "id": "4ad0c3ae",
   "metadata": {},
   "outputs": [],
   "source": [
    "def sp_tokenize(s, corpus):\n",
    "\n",
    "    tensor = []\n",
    "\n",
    "    for sen in corpus:\n",
    "        tensor.append(s.EncodeAsIds(sen))\n",
    "\n",
    "    with open(\"./naver.vocab\", 'r') as f:\n",
    "        vocab = f.readlines()\n",
    "\n",
    "    word_index = {}\n",
    "    index_word = {}\n",
    "\n",
    "    for idx, line in enumerate(vocab):\n",
    "        word = line.split(\"\\t\")[0]\n",
    "\n",
    "        word_index.update({idx:word})\n",
    "        index_word.update({word:idx})\n",
    "\n",
    "    tensor = tf.keras.preprocessing.sequence.pad_sequences(tensor, padding='pre', maxlen=MAX_LENGTH)\n",
    "\n",
    "    return tensor, word_index, index_word"
   ]
  },
  {
   "cell_type": "code",
   "execution_count": 97,
   "id": "26f80ce4",
   "metadata": {},
   "outputs": [
    {
     "name": "stdout",
     "output_type": "stream",
     "text": [
      "[[   0    0    0    0    0    0    0    0    0    0    0    0    0    0\n",
      "     0    0    0    0    0    0    0    0    0    0    0    0    0    0\n",
      "     0    0    0    0    0    0  414 2545   14 1115 2248 9998]\n",
      " [   0    0    0    0    0    0    0    0    0    0    0    0    0    0\n",
      "     0    0    0    0    0    0    0    0    0    0    0    0    0 1045\n",
      "  1932    4    0  500   12    4   16 9926  964 9998 9998 9998]]\n"
     ]
    }
   ],
   "source": [
    "my_corpus = ['나는 밥을 먹었습니다.', '그러나 여전히 ㅠㅠ 배가 고픕니다...']\n",
    "tensor, word_index, index_word = sp_tokenize(s, my_corpus)\n",
    "print(tensor)"
   ]
  },
  {
   "cell_type": "code",
   "execution_count": 98,
   "id": "102488cd",
   "metadata": {},
   "outputs": [
    {
     "name": "stdout",
     "output_type": "stream",
     "text": [
      "0 : <unk>\n",
      "1 : <s>\n",
      "2 : </s>\n",
      "3 : ▁.\n",
      "4 : ▁\n",
      "5 : ▁!\n",
      "6 : ▁영화\n",
      "7 : 이\n",
      "8 : ▁,\n",
      "9 : 의\n"
     ]
    }
   ],
   "source": [
    "for i in range(10):\n",
    "    print(f\"{i} : {word_index[i]}\")"
   ]
  },
  {
   "cell_type": "markdown",
   "id": "25611733",
   "metadata": {},
   "source": [
    "**sentencePiece의 학습을 마쳤으니, 리뷰 데이터를 tensor로 변환해보자.**"
   ]
  },
  {
   "cell_type": "code",
   "execution_count": 99,
   "id": "b55f9417",
   "metadata": {},
   "outputs": [],
   "source": [
    "tensor, word_index, index_word = sp_tokenize(s, review)"
   ]
  },
  {
   "cell_type": "code",
   "execution_count": 100,
   "id": "890f572d",
   "metadata": {},
   "outputs": [
    {
     "data": {
      "text/plain": [
       "array([   0,    0,    0,    0,    0,    0,    0,    0,    0,    0,    0,\n",
       "          0,    0,    0,    0,    0,    0,    0,    0,    0,    0,    0,\n",
       "          0,    0,    0,    0,    0,    0,    0,    0,    0,    0,    0,\n",
       "          0, 1140,  154,  185, 1689,  778,  501], dtype=int32)"
      ]
     },
     "execution_count": 100,
     "metadata": {},
     "output_type": "execute_result"
    }
   ],
   "source": [
    "tensor[0]"
   ]
  },
  {
   "cell_type": "code",
   "execution_count": 101,
   "id": "de4c9960",
   "metadata": {},
   "outputs": [
    {
     "data": {
      "text/plain": [
       "'어릴때보고 지금다시봐도 재밌어요'"
      ]
     },
     "execution_count": 101,
     "metadata": {},
     "output_type": "execute_result"
    }
   ],
   "source": [
    "review[0]"
   ]
  },
  {
   "cell_type": "code",
   "execution_count": 102,
   "id": "3a134b42",
   "metadata": {},
   "outputs": [
    {
     "name": "stdout",
     "output_type": "stream",
     "text": [
      "[1140, 154, 185, 1689, 778, 501]\n"
     ]
    }
   ],
   "source": [
    "tokensIDs = s.EncodeAsIds('어릴때보고 지금다시봐도 재밌어요')\n",
    "print(tokensIDs)"
   ]
  },
  {
   "cell_type": "markdown",
   "id": "a23760e0",
   "metadata": {},
   "source": [
    "## 모델 구성"
   ]
  },
  {
   "cell_type": "code",
   "execution_count": 103,
   "id": "2920be9a",
   "metadata": {},
   "outputs": [
    {
     "name": "stdout",
     "output_type": "stream",
     "text": [
      "Model: \"sequential\"\n",
      "_________________________________________________________________\n",
      "Layer (type)                 Output Shape              Param #   \n",
      "=================================================================\n",
      "embedding (Embedding)        (None, None, 100)         1000000   \n",
      "_________________________________________________________________\n",
      "lstm (LSTM)                  (None, 128)               117248    \n",
      "_________________________________________________________________\n",
      "dense (Dense)                (None, 1)                 129       \n",
      "=================================================================\n",
      "Total params: 1,117,377\n",
      "Trainable params: 1,117,377\n",
      "Non-trainable params: 0\n",
      "_________________________________________________________________\n"
     ]
    }
   ],
   "source": [
    "import tensorflow as tf\n",
    "#LSTM 레이어 사용\n",
    "from tensorflow.keras.layers import Embedding, Dense, LSTM\n",
    "from tensorflow.keras.models import Sequential\n",
    "from tensorflow.keras.models import load_model\n",
    "from tensorflow.keras.callbacks import EarlyStopping, ModelCheckpoint\n",
    "\n",
    "vocab_size = 10000 #사용할 단어사전 크기\n",
    "embedding_dim = 100 #임베딩레이어 차원 수 \n",
    "\n",
    "\n",
    "model = tf.keras.Sequential()\n",
    "model.add(tf.keras.layers.Embedding(vocab_size, embedding_dim))\n",
    "model.add(tf.keras.layers.LSTM(128)) #hidden 노드 128개\n",
    "model.add(tf.keras.layers.Dense(1, activation='sigmoid'))  #이진 분류문제의 활성화함수 \n",
    "\n",
    "\n",
    "\n",
    "model.summary()"
   ]
  },
  {
   "cell_type": "markdown",
   "id": "c765bc06",
   "metadata": {},
   "source": [
    "## 데이터셋 분리"
   ]
  },
  {
   "cell_type": "code",
   "execution_count": 107,
   "id": "f9ce5412",
   "metadata": {},
   "outputs": [
    {
     "name": "stdout",
     "output_type": "stream",
     "text": [
      "(110036, 40)\n",
      "(110036,)\n",
      "(36678, 40)\n",
      "(36678,)\n",
      "(36678, 40)\n",
      "(36678,)\n"
     ]
    }
   ],
   "source": [
    "# test set 20% 분리\n",
    "num_test = int(len(tensor)*0.2)\n",
    "X_test = tensor[:num_test]   \n",
    "y_test = label[:num_test]\n",
    "\n",
    "#validation set 20%분리ㅣ\n",
    "num_val = int(len(tensor)*0.4)\n",
    "X_val = tensor[num_test:num_val]\n",
    "y_val = label[num_test:num_val]\n",
    "\n",
    "# test, validation set을 제외한 나머지 80%\n",
    "partial_X_train = tensor[num_val:]  \n",
    "partial_y_train = label[num_val:]\n",
    "\n",
    "print(partial_X_train.shape)\n",
    "print(partial_y_train.shape)\n",
    "print(X_test.shape)\n",
    "print(y_test.shape)\n",
    "print(X_val.shape)\n",
    "print(y_val.shape)"
   ]
  },
  {
   "cell_type": "markdown",
   "id": "bd82095f",
   "metadata": {},
   "source": [
    "## 모델 학습"
   ]
  },
  {
   "cell_type": "code",
   "execution_count": 108,
   "id": "c2ea40f3",
   "metadata": {},
   "outputs": [
    {
     "name": "stdout",
     "output_type": "stream",
     "text": [
      "Epoch 1/20\n",
      "215/215 [==============================] - 122s 553ms/step - loss: 0.3346 - accuracy: 0.8683 - val_loss: 1.0915 - val_accuracy: 0.5044\n",
      "Epoch 2/20\n",
      "215/215 [==============================] - 119s 553ms/step - loss: 0.2227 - accuracy: 0.9135 - val_loss: 0.9000 - val_accuracy: 0.6081\n",
      "Epoch 3/20\n",
      "215/215 [==============================] - 119s 552ms/step - loss: 0.2000 - accuracy: 0.9237 - val_loss: 1.0067 - val_accuracy: 0.6019\n",
      "Epoch 4/20\n",
      "215/215 [==============================] - 118s 550ms/step - loss: 0.1800 - accuracy: 0.9321 - val_loss: 0.9575 - val_accuracy: 0.6199\n",
      "Epoch 5/20\n",
      "215/215 [==============================] - 118s 551ms/step - loss: 0.1592 - accuracy: 0.9404 - val_loss: 1.0136 - val_accuracy: 0.6564\n",
      "Epoch 6/20\n",
      "215/215 [==============================] - 118s 551ms/step - loss: 0.1396 - accuracy: 0.9475 - val_loss: 1.0649 - val_accuracy: 0.6527\n",
      "Epoch 7/20\n",
      "215/215 [==============================] - 118s 549ms/step - loss: 0.1241 - accuracy: 0.9529 - val_loss: 1.1837 - val_accuracy: 0.6419\n",
      "Epoch 00007: early stopping\n"
     ]
    },
    {
     "data": {
      "text/plain": [
       "<tensorflow.python.training.tracking.util.CheckpointLoadStatus at 0x7f008acb3280>"
      ]
     },
     "execution_count": 108,
     "metadata": {},
     "output_type": "execute_result"
    }
   ],
   "source": [
    "from tensorflow.keras.callbacks import EarlyStopping, ModelCheckpoint\n",
    "# 모델 학습\n",
    "\n",
    "model.compile(optimizer='adam',\n",
    "              loss='binary_crossentropy',\n",
    "              metrics=['accuracy'])\n",
    "              \n",
    "epochs=20  \n",
    "\n",
    "checkpoint_path = os.getenv('HOME')+'/aiffel/exploration'\n",
    "earlystopping = EarlyStopping(monitor='val_loss', mode='min', verbose=1, patience=5) #과적합 방지를 위한 조기종료 \n",
    "checkpoint = ModelCheckpoint(filepath=checkpoint_path, monitor ='val_loss',mode='min',save_weights_only=True,save_best_only=True)\n",
    "\n",
    "history = model.fit(partial_X_train,\n",
    "                    partial_y_train,\n",
    "                    epochs=epochs,\n",
    "                    batch_size=512,\n",
    "                    callbacks=(earlystopping,checkpoint),\n",
    "                    validation_data=(X_val, y_val))\n",
    "\n",
    "model.load_weights(checkpoint_path)"
   ]
  },
  {
   "cell_type": "code",
   "execution_count": 109,
   "id": "ca3deb94",
   "metadata": {},
   "outputs": [
    {
     "name": "stdout",
     "output_type": "stream",
     "text": [
      "dict_keys(['loss', 'accuracy', 'val_loss', 'val_accuracy'])\n"
     ]
    },
    {
     "data": {
      "image/png": "[encoded data removed]",
      "text/plain": [
       "<Figure size 432x288 with 1 Axes>"
      ]
     },
     "metadata": {
      "needs_background": "light"
     },
     "output_type": "display_data"
    }
   ],
   "source": [
    "history_dict = history.history\n",
    "print(history_dict.keys()) # epoch에 따른 그래프를 그려볼 수 있는 항목들\n",
    "acc = history_dict['accuracy']\n",
    "val_acc = history_dict['val_accuracy']\n",
    "loss = history_dict['loss']\n",
    "val_loss = history_dict['val_loss']\n",
    "\n",
    "epochs = range(1, len(acc) + 1)\n",
    "\n",
    "# \"bo\"는 \"파란색 점\"입니다\n",
    "plt.plot(epochs, acc, 'red', label='Training acc')\n",
    "plt.plot(epochs, val_acc, 'green', label='Validation acc')\n",
    "plt.plot(epochs, loss, 'purple', label='Training loss')\n",
    "plt.plot(epochs, val_loss, 'blue', label='Validation loss')\n",
    "# b는 \"파란 실선\"입니다\n",
    "\n",
    "plt.title('Training and validation loss')\n",
    "plt.xlabel('Epochs')\n",
    "plt.ylabel('Loss')\n",
    "plt.legend()\n",
    "\n",
    "plt.show()"
   ]
  },
  {
   "cell_type": "markdown",
   "id": "ae6f7140",
   "metadata": {},
   "source": []
  },
  {
   "cell_type": "markdown",
   "id": "6ebaa566",
   "metadata": {},
   "source": [
    "## vocab_size조절 (10000> 5000)"
   ]
  },
  {
   "cell_type": "code",
   "execution_count": 110,
   "id": "2388c17f",
   "metadata": {},
   "outputs": [
    {
     "name": "stderr",
     "output_type": "stream",
     "text": [
      "sentencepiece_trainer.cc(177) LOG(INFO) Running command: --input=review.txt --model_prefix=naver --vocab_size=5000\n",
      "sentencepiece_trainer.cc(77) LOG(INFO) Starts training with : \n",
      "trainer_spec {\n",
      "  input: review.txt\n",
      "  input_format: \n",
      "  model_prefix: naver\n",
      "  model_type: UNIGRAM\n",
      "  vocab_size: 5000\n",
      "  self_test_sample_size: 0\n",
      "  character_coverage: 0.9995\n",
      "  input_sentence_size: 0\n",
      "  shuffle_input_sentence: 1\n",
      "  seed_sentencepiece_size: 1000000\n",
      "  shrinking_factor: 0.75\n",
      "  max_sentence_length: 4192\n",
      "  num_threads: 16\n",
      "  num_sub_iterations: 2\n",
      "  max_sentencepiece_length: 16\n",
      "  split_by_unicode_script: 1\n",
      "  split_by_number: 1\n",
      "  split_by_whitespace: 1\n",
      "  split_digits: 0\n",
      "  treat_whitespace_as_suffix: 0\n",
      "  allow_whitespace_only_pieces: 0\n",
      "  required_chars: \n",
      "  byte_fallback: 0\n",
      "  vocabulary_output_piece_score: 1\n",
      "  train_extremely_large_corpus: 0\n",
      "  hard_vocab_limit: 1\n",
      "  use_all_vocab: 0\n",
      "  unk_id: 0\n",
      "  bos_id: 1\n",
      "  eos_id: 2\n",
      "  pad_id: -1\n",
      "  unk_piece: <unk>\n",
      "  bos_piece: <s>\n",
      "  eos_piece: </s>\n",
      "  pad_piece: <pad>\n",
      "  unk_surface:  ⁇ \n",
      "}\n",
      "normalizer_spec {\n",
      "  name: nmt_nfkc\n",
      "  add_dummy_prefix: 1\n",
      "  remove_extra_whitespaces: 1\n",
      "  escape_whitespaces: 1\n",
      "  normalization_rule_tsv: \n",
      "}\n",
      "denormalizer_spec {}\n",
      "trainer_interface.cc(329) LOG(INFO) SentenceIterator is not specified. Using MultiFileSentenceIterator.\n",
      "trainer_interface.cc(178) LOG(INFO) Loading corpus: review.txt\n",
      "trainer_interface.cc(385) LOG(INFO) Loaded all 183392 sentences\n",
      "trainer_interface.cc(400) LOG(INFO) Adding meta_piece: <unk>\n",
      "trainer_interface.cc(400) LOG(INFO) Adding meta_piece: <s>\n",
      "trainer_interface.cc(400) LOG(INFO) Adding meta_piece: </s>\n",
      "trainer_interface.cc(405) LOG(INFO) Normalizing sentences...\n",
      "trainer_interface.cc(466) LOG(INFO) all chars count=6254980\n",
      "trainer_interface.cc(477) LOG(INFO) Done: 99.95% characters are covered.\n",
      "trainer_interface.cc(487) LOG(INFO) Alphabet size=1495\n",
      "trainer_interface.cc(488) LOG(INFO) Final character coverage=0.9995\n",
      "trainer_interface.cc(520) LOG(INFO) Done! preprocessed 183392 sentences.\n",
      "unigram_model_trainer.cc(139) LOG(INFO) Making suffix array...\n",
      "unigram_model_trainer.cc(143) LOG(INFO) Extracting frequent sub strings...\n",
      "unigram_model_trainer.cc(194) LOG(INFO) Initialized 300401 seed sentencepieces\n",
      "trainer_interface.cc(526) LOG(INFO) Tokenizing input sentences with whitespace: 183392\n",
      "trainer_interface.cc(537) LOG(INFO) Done! 297268\n",
      "unigram_model_trainer.cc(489) LOG(INFO) Using 297268 sentences for EM training\n",
      "unigram_model_trainer.cc(505) LOG(INFO) EM sub_iter=0 size=148148 obj=11.3775 num_tokens=594634 num_tokens/piece=4.01378\n",
      "unigram_model_trainer.cc(505) LOG(INFO) EM sub_iter=1 size=134460 obj=10.4262 num_tokens=596308 num_tokens/piece=4.43484\n",
      "unigram_model_trainer.cc(505) LOG(INFO) EM sub_iter=0 size=100798 obj=10.4674 num_tokens=626071 num_tokens/piece=6.21115\n",
      "unigram_model_trainer.cc(505) LOG(INFO) EM sub_iter=1 size=100587 obj=10.4294 num_tokens=626280 num_tokens/piece=6.22625\n",
      "unigram_model_trainer.cc(505) LOG(INFO) EM sub_iter=0 size=75439 obj=10.579 num_tokens=663401 num_tokens/piece=8.79387\n",
      "unigram_model_trainer.cc(505) LOG(INFO) EM sub_iter=1 size=75433 obj=10.5393 num_tokens=663454 num_tokens/piece=8.79528\n",
      "unigram_model_trainer.cc(505) LOG(INFO) EM sub_iter=0 size=56574 obj=10.7148 num_tokens=699695 num_tokens/piece=12.3678\n",
      "unigram_model_trainer.cc(505) LOG(INFO) EM sub_iter=1 size=56574 obj=10.6743 num_tokens=699688 num_tokens/piece=12.3677\n",
      "unigram_model_trainer.cc(505) LOG(INFO) EM sub_iter=0 size=42430 obj=10.8707 num_tokens=737670 num_tokens/piece=17.3856\n",
      "unigram_model_trainer.cc(505) LOG(INFO) EM sub_iter=1 size=42430 obj=10.8278 num_tokens=737689 num_tokens/piece=17.386\n",
      "unigram_model_trainer.cc(505) LOG(INFO) EM sub_iter=0 size=31822 obj=11.0469 num_tokens=775561 num_tokens/piece=24.3718\n",
      "unigram_model_trainer.cc(505) LOG(INFO) EM sub_iter=1 size=31822 obj=11.0013 num_tokens=775555 num_tokens/piece=24.3717\n",
      "unigram_model_trainer.cc(505) LOG(INFO) EM sub_iter=0 size=23866 obj=11.2505 num_tokens=815315 num_tokens/piece=34.1622\n",
      "unigram_model_trainer.cc(505) LOG(INFO) EM sub_iter=1 size=23866 obj=11.1994 num_tokens=815325 num_tokens/piece=34.1626\n",
      "unigram_model_trainer.cc(505) LOG(INFO) EM sub_iter=0 size=17899 obj=11.4765 num_tokens=857445 num_tokens/piece=47.9046\n",
      "unigram_model_trainer.cc(505) LOG(INFO) EM sub_iter=1 size=17899 obj=11.4187 num_tokens=857468 num_tokens/piece=47.9059\n",
      "unigram_model_trainer.cc(505) LOG(INFO) EM sub_iter=0 size=13424 obj=11.7214 num_tokens=901197 num_tokens/piece=67.1333\n",
      "unigram_model_trainer.cc(505) LOG(INFO) EM sub_iter=1 size=13424 obj=11.6553 num_tokens=901288 num_tokens/piece=67.14\n",
      "unigram_model_trainer.cc(505) LOG(INFO) EM sub_iter=0 size=10068 obj=11.9933 num_tokens=947131 num_tokens/piece=94.0734\n",
      "unigram_model_trainer.cc(505) LOG(INFO) EM sub_iter=1 size=10068 obj=11.9135 num_tokens=947124 num_tokens/piece=94.0727\n",
      "unigram_model_trainer.cc(505) LOG(INFO) EM sub_iter=0 size=7551 obj=12.2994 num_tokens=996323 num_tokens/piece=131.946\n",
      "unigram_model_trainer.cc(505) LOG(INFO) EM sub_iter=1 size=7551 obj=12.2168 num_tokens=996330 num_tokens/piece=131.947\n",
      "unigram_model_trainer.cc(505) LOG(INFO) EM sub_iter=0 size=5663 obj=12.6442 num_tokens=1050790 num_tokens/piece=185.554\n",
      "unigram_model_trainer.cc(505) LOG(INFO) EM sub_iter=1 size=5663 obj=12.5468 num_tokens=1050976 num_tokens/piece=185.586\n",
      "unigram_model_trainer.cc(505) LOG(INFO) EM sub_iter=0 size=5500 obj=12.5913 num_tokens=1057530 num_tokens/piece=192.278\n",
      "unigram_model_trainer.cc(505) LOG(INFO) EM sub_iter=1 size=5500 obj=12.5797 num_tokens=1058032 num_tokens/piece=192.369\n",
      "trainer_interface.cc(615) LOG(INFO) Saving model: naver.model\n",
      "trainer_interface.cc(626) LOG(INFO) Saving vocabs: naver.vocab\n"
     ]
    }
   ],
   "source": [
    "#vocab_size= 5000\n",
    "spm.SentencePieceTrainer.Train(\n",
    "    '--input=review.txt --model_prefix=naver --vocab_size=5000')"
   ]
  },
  {
   "cell_type": "code",
   "execution_count": 111,
   "id": "ea687069",
   "metadata": {},
   "outputs": [],
   "source": [
    "s = spm.SentencePieceProcessor()\n",
    "s.Load('naver.model')\n",
    "\n",
    "tokens = []\n",
    "\n",
    "for sen in review:\n",
    "    tokens.append(s.EncodeAsIds(sen))"
   ]
  },
  {
   "cell_type": "code",
   "execution_count": 112,
   "id": "24ba0275",
   "metadata": {},
   "outputs": [
    {
     "name": "stdout",
     "output_type": "stream",
     "text": [
      "토큰 수 평균 :  16.53963095445821\n",
      "토큰 수 최대 :  104\n",
      "토큰 수 표준편차:  11.649912296690662\n"
     ]
    },
    {
     "data": {
      "image/png": "[encoded data removed]",
      "text/plain": [
       "<Figure size 432x288 with 1 Axes>"
      ]
     },
     "metadata": {
      "needs_background": "light"
     },
     "output_type": "display_data"
    }
   ],
   "source": [
    "import matplotlib.pyplot as plt\n",
    "\n",
    "num_token= [len(tok) for tok in tokens]\n",
    "num_token = np.array(num_token)\n",
    "\n",
    "print('토큰 수 평균 : ', np.mean(num_token))\n",
    "print('토큰 수 최대 : ', np.max(num_token))\n",
    "print('토큰 수 표준편차: ',np.std(num_token))\n",
    "plt.hist([len(tok) for tok in tokens],bins=20)\n",
    "plt.xlabel('num_token ')\n",
    "plt.ylabel('num_sample ')\n",
    "plt.show()"
   ]
  },
  {
   "cell_type": "code",
   "execution_count": 113,
   "id": "5da940ea",
   "metadata": {},
   "outputs": [
    {
     "name": "stdout",
     "output_type": "stream",
     "text": [
      "pad_sequences maxlen :  45\n",
      "전체 문장의 0.9599709911010295%가 maxlen 설정값 이내에 포함됩니다. \n"
     ]
    }
   ],
   "source": [
    "#임의로 45으로 지정\n",
    "max_token = 45\n",
    "MAX_LENGTH = int(max_token)\n",
    "print('pad_sequences maxlen : ', MAX_LENGTH)\n",
    "print('전체 문장의 {}%가 maxlen 설정값 이내에 포함됩니다. '.format(np.sum(num_token < max_token) / len(num_token)))"
   ]
  },
  {
   "cell_type": "markdown",
   "id": "5184db29",
   "metadata": {},
   "source": [
    "**이전과 비슷한 수준인 96%가 되게끔 maxlen을 45로 설정하고 진행해보자.**\n"
   ]
  },
  {
   "cell_type": "code",
   "execution_count": 114,
   "id": "ec92f93d",
   "metadata": {},
   "outputs": [],
   "source": [
    "def sp_tokenize(s, corpus):\n",
    "\n",
    "    tensor = []\n",
    "\n",
    "    for sen in corpus:\n",
    "        tensor.append(s.EncodeAsIds(sen))\n",
    "\n",
    "    with open(\"./naver.vocab\", 'r') as f:\n",
    "        vocab = f.readlines()\n",
    "\n",
    "    word_index = {}\n",
    "    index_word = {}\n",
    "\n",
    "    for idx, line in enumerate(vocab):\n",
    "        word = line.split(\"\\t\")[0]\n",
    "\n",
    "        word_index.update({idx:word})\n",
    "        index_word.update({word:idx})\n",
    "\n",
    "    tensor = tf.keras.preprocessing.sequence.pad_sequences(tensor, padding='pre', maxlen=MAX_LENGTH)\n",
    "\n",
    "    return tensor, word_index, index_word"
   ]
  },
  {
   "cell_type": "code",
   "execution_count": 115,
   "id": "32f26461",
   "metadata": {},
   "outputs": [],
   "source": [
    "tensor, word_index, index_word = sp_tokenize(s, review)"
   ]
  },
  {
   "cell_type": "code",
   "execution_count": 117,
   "id": "55d274ae",
   "metadata": {},
   "outputs": [
    {
     "name": "stdout",
     "output_type": "stream",
     "text": [
      "(110036, 45)\n",
      "(110036,)\n",
      "(36678, 45)\n",
      "(36678,)\n",
      "(36678, 45)\n",
      "(36678,)\n"
     ]
    }
   ],
   "source": [
    "# test set 20% 분리\n",
    "num_test = int(len(tensor)*0.2)\n",
    "X_test = tensor[:num_test]   \n",
    "y_test = label[:num_test]\n",
    "\n",
    "#validation set 20%분리ㅣ\n",
    "num_val = int(len(tensor)*0.4)\n",
    "X_val = tensor[num_test:num_val]\n",
    "y_val = label[num_test:num_val]\n",
    "\n",
    "# test, validation set을 제외한 나머지 80%\n",
    "partial_X_train = tensor[num_val:]  \n",
    "partial_y_train = label[num_val:]\n",
    "\n",
    "print(partial_X_train.shape)\n",
    "print(partial_y_train.shape)\n",
    "print(X_test.shape)\n",
    "print(y_test.shape)\n",
    "print(X_val.shape)\n",
    "print(y_val.shape)"
   ]
  },
  {
   "cell_type": "code",
   "execution_count": 118,
   "id": "7c329d9d",
   "metadata": {},
   "outputs": [
    {
     "name": "stdout",
     "output_type": "stream",
     "text": [
      "Epoch 1/20\n",
      "215/215 [==============================] - 134s 614ms/step - loss: 0.3338 - accuracy: 0.8691 - val_loss: 0.7743 - val_accuracy: 0.6319\n",
      "Epoch 2/20\n",
      "215/215 [==============================] - 133s 617ms/step - loss: 0.2397 - accuracy: 0.9085 - val_loss: 0.8368 - val_accuracy: 0.6098\n",
      "Epoch 3/20\n",
      "215/215 [==============================] - 132s 614ms/step - loss: 0.2250 - accuracy: 0.9141 - val_loss: 0.9330 - val_accuracy: 0.5946\n",
      "Epoch 4/20\n",
      "215/215 [==============================] - 132s 616ms/step - loss: 0.2129 - accuracy: 0.9193 - val_loss: 0.9487 - val_accuracy: 0.6086\n",
      "Epoch 5/20\n",
      "215/215 [==============================] - 134s 622ms/step - loss: 0.1984 - accuracy: 0.9247 - val_loss: 0.8699 - val_accuracy: 0.6107\n",
      "Epoch 6/20\n",
      "215/215 [==============================] - 133s 619ms/step - loss: 0.1848 - accuracy: 0.9306 - val_loss: 0.8950 - val_accuracy: 0.6325\n",
      "Epoch 00006: early stopping\n"
     ]
    },
    {
     "data": {
      "text/plain": [
       "<tensorflow.python.training.tracking.util.CheckpointLoadStatus at 0x7f006c4909a0>"
      ]
     },
     "execution_count": 118,
     "metadata": {},
     "output_type": "execute_result"
    }
   ],
   "source": [
    "#모델 구성, 데이터셋 분리, 모델 학습\n",
    "import tensorflow as tf\n",
    "#LSTM 레이어 사용\n",
    "from tensorflow.keras.layers import Embedding, Dense, LSTM\n",
    "from tensorflow.keras.models import Sequential\n",
    "from tensorflow.keras.models import load_model\n",
    "from tensorflow.keras.callbacks import EarlyStopping, ModelCheckpoint\n",
    "\n",
    "vocab_size = 5000 #사용할 단어사전 크기\n",
    "embedding_dim = 100 #임베딩레이어 차원 수 \n",
    "\n",
    "\n",
    "model = tf.keras.Sequential()\n",
    "model.add(tf.keras.layers.Embedding(vocab_size, embedding_dim))\n",
    "model.add(tf.keras.layers.LSTM(128)) #hidden 노드 128개\n",
    "model.add(tf.keras.layers.Dense(1, activation='sigmoid'))  #이진 분류문제의 활성화함수 \n",
    "\n",
    "\n",
    "\n",
    "from tensorflow.keras.callbacks import EarlyStopping, ModelCheckpoint\n",
    "# 모델 학습\n",
    "\n",
    "model.compile(optimizer='adam',\n",
    "              loss='binary_crossentropy',\n",
    "              metrics=['accuracy'])\n",
    "              \n",
    "epochs=20  \n",
    "\n",
    "checkpoint_path = os.getenv('HOME')+'/aiffel/exploration'\n",
    "earlystopping = EarlyStopping(monitor='val_loss', mode='min', verbose=1, patience=5) #과적합 방지를 위한 조기종료 \n",
    "checkpoint = ModelCheckpoint(filepath=checkpoint_path, monitor ='val_loss',mode='min',save_weights_only=True,save_best_only=True)\n",
    "\n",
    "history = model.fit(partial_X_train,\n",
    "                    partial_y_train,\n",
    "                    epochs=epochs,\n",
    "                    batch_size=512,\n",
    "                    callbacks=(earlystopping,checkpoint),\n",
    "                    validation_data=(X_val, y_val))\n",
    "\n",
    "model.load_weights(checkpoint_path)\n",
    "\n"
   ]
  },
  {
   "cell_type": "code",
   "execution_count": 119,
   "id": "55aa543c",
   "metadata": {},
   "outputs": [
    {
     "name": "stdout",
     "output_type": "stream",
     "text": [
      "dict_keys(['loss', 'accuracy', 'val_loss', 'val_accuracy'])\n"
     ]
    },
    {
     "data": {
      "image/png": "[encoded data removed]",
      "text/plain": [
       "<Figure size 432x288 with 1 Axes>"
      ]
     },
     "metadata": {
      "needs_background": "light"
     },
     "output_type": "display_data"
    }
   ],
   "source": [
    "history_dict = history.history\n",
    "print(history_dict.keys()) # epoch에 따른 그래프를 그려볼 수 있는 항목들\n",
    "acc = history_dict['accuracy']\n",
    "val_acc = history_dict['val_accuracy']\n",
    "loss = history_dict['loss']\n",
    "val_loss = history_dict['val_loss']\n",
    "\n",
    "epochs = range(1, len(acc) + 1)\n",
    "\n",
    "# \"bo\"는 \"파란색 점\"입니다\n",
    "plt.plot(epochs, acc, 'red', label='Training acc')\n",
    "plt.plot(epochs, val_acc, 'green', label='Validation acc')\n",
    "plt.plot(epochs, loss, 'purple', label='Training loss')\n",
    "plt.plot(epochs, val_loss, 'blue', label='Validation loss')\n",
    "# b는 \"파란 실선\"입니다\n",
    "\n",
    "plt.title('Training and validation loss')\n",
    "plt.xlabel('Epochs')\n",
    "plt.ylabel('Loss')\n",
    "plt.legend()\n",
    "\n",
    "plt.show()"
   ]
  },
  {
   "cell_type": "markdown",
   "id": "1c2d7a0a",
   "metadata": {},
   "source": [
    "#### Vocab의 수를 10,000 > 5,000 으로 줄이니 오히려 validation loss가 줄어들었다. 이제 이렇게 만들어진 모델을 test data를 이용하여 검증해보자."
   ]
  },
  {
   "cell_type": "code",
   "execution_count": 120,
   "id": "34f92c31",
   "metadata": {},
   "outputs": [
    {
     "name": "stdout",
     "output_type": "stream",
     "text": [
      "1147/1147 - 31s - loss: 0.7744 - accuracy: 0.6362\n",
      "[0.7744197845458984, 0.6362124681472778]\n"
     ]
    }
   ],
   "source": [
    "\n",
    "results = model.evaluate(X_test,  y_test, verbose=2)\n",
    "\n",
    "print(results)"
   ]
  },
  {
   "cell_type": "markdown",
   "id": "81d1f314",
   "metadata": {},
   "source": [
    "## 리뷰 데이터를 형태소 분석기를 통해 토큰화"
   ]
  },
  {
   "cell_type": "code",
   "execution_count": 121,
   "id": "d04d355d",
   "metadata": {},
   "outputs": [],
   "source": [
    "from konlpy.tag import Mecab\n",
    "\n",
    "mecab = Mecab()\n",
    "\n",
    "def mecab_split(sentence):\n",
    "    return mecab.morphs(sentence)\n",
    "\n"
   ]
  },
  {
   "cell_type": "code",
   "execution_count": 137,
   "id": "0213f64a",
   "metadata": {},
   "outputs": [],
   "source": [
    "mecab_corpus = []\n",
    "\n",
    "for kor in review:\n",
    "    mecab_corpus.append(mecab_split(kor))\n",
    "    \n"
   ]
  },
  {
   "cell_type": "markdown",
   "id": "cd8055f4",
   "metadata": {},
   "source": [
    "**이제, 각 리뷰가 형태소로 나누어져서 리스트에 담겨있다. 한 문장에 몇개의 형태소(token)으로 이루어져 있는지 분포를 확인해보자.**"
   ]
  },
  {
   "cell_type": "code",
   "execution_count": 138,
   "id": "fd24be4f",
   "metadata": {},
   "outputs": [
    {
     "name": "stdout",
     "output_type": "stream",
     "text": [
      "토큰 수 평균 :  16.593897225615077\n",
      "토큰 수 최대 :  79\n",
      "토큰 수 표준편차:  11.336963242891033\n"
     ]
    },
    {
     "data": {
      "image/png": "[encoded data removed]",
      "text/plain": [
       "<Figure size 432x288 with 1 Axes>"
      ]
     },
     "metadata": {
      "needs_background": "light"
     },
     "output_type": "display_data"
    }
   ],
   "source": [
    "import matplotlib.pyplot as plt\n",
    "\n",
    "num_token= [len(tok) for tok in mecab_corpus]\n",
    "num_token = np.array(num_token)\n",
    "\n",
    "print('토큰 수 평균 : ', np.mean(num_token))\n",
    "print('토큰 수 최대 : ', np.max(num_token))\n",
    "print('토큰 수 표준편차: ',np.std(num_token))\n",
    "plt.hist([len(tok) for tok in tokens],bins=20)\n",
    "plt.xlabel('num_token ')\n",
    "plt.ylabel('num_sample ')\n",
    "plt.show()"
   ]
  },
  {
   "cell_type": "code",
   "execution_count": 140,
   "id": "048779d7",
   "metadata": {},
   "outputs": [
    {
     "name": "stdout",
     "output_type": "stream",
     "text": [
      "pad_sequences maxlen :  45\n",
      "전체 문장의 0.9602872535334147%가 maxlen 설정값 이내에 포함됩니다. \n"
     ]
    }
   ],
   "source": [
    "#임의로 45으로 지정\n",
    "max_token = 45\n",
    "MAX_LENGTH = int(max_token)\n",
    "print('pad_sequences maxlen : ', MAX_LENGTH)\n",
    "print('전체 문장의 {}%가 maxlen 설정값 이내에 포함됩니다. '.format(np.sum(num_token < max_token) / len(num_token)))"
   ]
  },
  {
   "cell_type": "markdown",
   "id": "237303f9",
   "metadata": {},
   "source": [
    "**이전과 비슷한 수준인 96%가 담기게끔 maxlen을 45로 설정한 후, 패딩을 진행하자**"
   ]
  },
  {
   "cell_type": "code",
   "execution_count": 143,
   "id": "1568e133",
   "metadata": {},
   "outputs": [],
   "source": [
    "\n",
    "mecab_tokenizer = tf.keras.preprocessing.text.Tokenizer(filters='')\n",
    "mecab_tokenizer.fit_on_texts(mecab_corpus)\n",
    "\n",
    "mecab_tensor = mecab_tokenizer.texts_to_sequences(mecab_corpus)\n",
    "\n",
    "mecab_tensor = tf.keras.preprocessing.sequence.pad_sequences(tensor, padding='pre',maxlen = MAX_LENGTH)\n",
    "\n"
   ]
  },
  {
   "cell_type": "code",
   "execution_count": 144,
   "id": "ccfbcf71",
   "metadata": {},
   "outputs": [
    {
     "name": "stdout",
     "output_type": "stream",
     "text": [
      "MeCab Vocab Size: 48479\n",
      "0 : .\n",
      "1 : 이\n",
      "2 : 는\n",
      "3 : 영화\n",
      "4 : 다\n",
      "5 : 고\n",
      "6 : 하\n",
      "7 : !\n",
      "8 : 도\n",
      "9 : 의\n",
      "10 : 가\n",
      "11 : 은\n"
     ]
    }
   ],
   "source": [
    "print(\"MeCab Vocab Size:\", len(mecab_tokenizer.index_word))\n",
    "\n",
    "for idx, word in enumerate(mecab_tokenizer.word_index):\n",
    "    print(idx, \":\", word)\n",
    "\n",
    "    if idx > 10: break"
   ]
  },
  {
   "cell_type": "code",
   "execution_count": 145,
   "id": "10e21bb7",
   "metadata": {},
   "outputs": [
    {
     "name": "stdout",
     "output_type": "stream",
     "text": [
      "(110036, 45)\n",
      "(110036,)\n",
      "(36678, 45)\n",
      "(36678,)\n",
      "(36678, 45)\n",
      "(36678,)\n"
     ]
    }
   ],
   "source": [
    "# test set 20% 분리\n",
    "num_test = int(len(mecab_tensor)*0.2)\n",
    "X_test = mecab_tensor[:num_test]   \n",
    "y_test = label[:num_test]\n",
    "\n",
    "#validation set 20%분리ㅣ\n",
    "num_val = int(len(mecab_tensor)*0.4)\n",
    "X_val = mecab_tensor[num_test:num_val]\n",
    "y_val = label[num_test:num_val]\n",
    "\n",
    "# test, validation set을 제외한 나머지 80%\n",
    "partial_X_train = mecab_tensor[num_val:]  \n",
    "partial_y_train = label[num_val:]\n",
    "\n",
    "print(partial_X_train.shape)\n",
    "print(partial_y_train.shape)\n",
    "print(X_test.shape)\n",
    "print(y_test.shape)\n",
    "print(X_val.shape)\n",
    "print(y_val.shape)"
   ]
  },
  {
   "cell_type": "code",
   "execution_count": 146,
   "id": "8e82dc64",
   "metadata": {},
   "outputs": [
    {
     "name": "stdout",
     "output_type": "stream",
     "text": [
      "Epoch 1/20\n",
      "215/215 [==============================] - 133s 611ms/step - loss: 0.3337 - accuracy: 0.8701 - val_loss: 1.0253 - val_accuracy: 0.5313\n",
      "Epoch 2/20\n",
      "215/215 [==============================] - 131s 611ms/step - loss: 0.2393 - accuracy: 0.9089 - val_loss: 0.8483 - val_accuracy: 0.6009\n",
      "Epoch 3/20\n",
      "215/215 [==============================] - 131s 611ms/step - loss: 0.2255 - accuracy: 0.9147 - val_loss: 0.8263 - val_accuracy: 0.6156\n",
      "Epoch 4/20\n",
      "215/215 [==============================] - 131s 609ms/step - loss: 0.2136 - accuracy: 0.9191 - val_loss: 0.8598 - val_accuracy: 0.6187\n",
      "Epoch 5/20\n",
      "215/215 [==============================] - 132s 612ms/step - loss: 0.2002 - accuracy: 0.9242 - val_loss: 0.9493 - val_accuracy: 0.6128\n",
      "Epoch 6/20\n",
      "215/215 [==============================] - 131s 611ms/step - loss: 0.1870 - accuracy: 0.9298 - val_loss: 1.0509 - val_accuracy: 0.6128\n",
      "Epoch 7/20\n",
      "215/215 [==============================] - 131s 611ms/step - loss: 0.1750 - accuracy: 0.9342 - val_loss: 1.1687 - val_accuracy: 0.5815\n",
      "Epoch 8/20\n",
      "215/215 [==============================] - 131s 610ms/step - loss: 0.1641 - accuracy: 0.9379 - val_loss: 1.0326 - val_accuracy: 0.6330\n",
      "Epoch 00008: early stopping\n"
     ]
    },
    {
     "data": {
      "text/plain": [
       "<tensorflow.python.training.tracking.util.CheckpointLoadStatus at 0x7f0069b348e0>"
      ]
     },
     "execution_count": 146,
     "metadata": {},
     "output_type": "execute_result"
    }
   ],
   "source": [
    "#모델 구성, 데이터셋 분리, 모델 학습\n",
    "import tensorflow as tf\n",
    "#LSTM 레이어 사용\n",
    "from tensorflow.keras.layers import Embedding, Dense, LSTM\n",
    "from tensorflow.keras.models import Sequential\n",
    "from tensorflow.keras.models import load_model\n",
    "from tensorflow.keras.callbacks import EarlyStopping, ModelCheckpoint\n",
    "\n",
    "vocab_size = 5000 #사용할 단어사전 크기\n",
    "embedding_dim = 100 #임베딩레이어 차원 수 \n",
    "\n",
    "\n",
    "model = tf.keras.Sequential()\n",
    "model.add(tf.keras.layers.Embedding(vocab_size, embedding_dim))\n",
    "model.add(tf.keras.layers.LSTM(128)) #hidden 노드 128개\n",
    "model.add(tf.keras.layers.Dense(1, activation='sigmoid'))  #이진 분류문제의 활성화함수 \n",
    "\n",
    "\n",
    "\n",
    "from tensorflow.keras.callbacks import EarlyStopping, ModelCheckpoint\n",
    "# 모델 학습\n",
    "\n",
    "model.compile(optimizer='adam',\n",
    "              loss='binary_crossentropy',\n",
    "              metrics=['accuracy'])\n",
    "              \n",
    "epochs=20  \n",
    "\n",
    "checkpoint_path = os.getenv('HOME')+'/aiffel/exploration'\n",
    "earlystopping = EarlyStopping(monitor='val_loss', mode='min', verbose=1, patience=5) #과적합 방지를 위한 조기종료 \n",
    "checkpoint = ModelCheckpoint(filepath=checkpoint_path, monitor ='val_loss',mode='min',save_weights_only=True,save_best_only=True)\n",
    "\n",
    "history = model.fit(partial_X_train,\n",
    "                    partial_y_train,\n",
    "                    epochs=epochs,\n",
    "                    batch_size=512,\n",
    "                    callbacks=(earlystopping,checkpoint),\n",
    "                    validation_data=(X_val, y_val))\n",
    "\n",
    "model.load_weights(checkpoint_path)\n",
    "\n"
   ]
  },
  {
   "cell_type": "code",
   "execution_count": 147,
   "id": "51094bd2",
   "metadata": {},
   "outputs": [
    {
     "name": "stdout",
     "output_type": "stream",
     "text": [
      "1147/1147 - 30s - loss: 0.8291 - accuracy: 0.6147\n",
      "[0.8290737271308899, 0.6147009134292603]\n"
     ]
    }
   ],
   "source": [
    "\n",
    "results = model.evaluate(X_test,  y_test, verbose=2)\n",
    "\n",
    "print(results)"
   ]
  },
  {
   "cell_type": "markdown",
   "id": "f3040a11",
   "metadata": {},
   "source": [
    "# 회고"
   ]
  },
  {
   "cell_type": "markdown",
   "id": "7ffc8e53",
   "metadata": {},
   "source": [
    "이번 노드에서는 센텐스피스 및 형태소 분석기를 통한 토큰화를 진행해보고, 네이버 영화리뷰의 감정분석을 해보았다.\n",
    "결론적으로, 저번 노드에서 진행한 토큰화 및 감정분석보다는 성능이 두 토큰화 방법 모두 좋지 않았다.\n",
    "세번의 모델 학습 모두 LSTM 레이어의 수와 노드는 동일하게 진행하였음에도 불구하고, 토큰화 방법에 따라 accuracy가 10%정도나 차이나는것으로 보아 NLP에서\n",
    "모델에 들어가기 전까지의 과정(토큰화, 임베딩)이 얼마나 중요한지 이번 노드를 통해 배울 수 있었다.\n",
    "\n",
    "이번노드를 진행하면서 아쉬웠던점은 모델 학습 및 전처리과정이 조금 복잡했는데, 함수로 구현해서 진행하였으면 더 보기도 쉽고 깔끔하게 노드를 진행했을텐데 하는 점이다. 또한 NLP노드를 진행하면서 토큰화부터 다시 처음부터 공부하고 있는데, 아직은 그 수학적 배경이나 동작원리가 완전히 이해되지는 않아서 토큰화를 하는 방법에는 이런게 있구나,, 하고 넘어가는 수준으로 노드를 진행하였다. 고잉 디퍼 과정을 시작한 만큼 작동원리에 대해 완전히 알고 넘어가도록 공부해보자."
   ]
  },
  {
   "cell_type": "code",
   "execution_count": null,
   "id": "12bbd6ef",
   "metadata": {},
   "outputs": [],
   "source": []
  }
 ],
 "metadata": {
  "kernelspec": {
   "display_name": "Python 3 (ipykernel)",
   "language": "python",
   "name": "python3"
  },
  "language_info": {
   "codemirror_mode": {
    "name": "ipython",
    "version": 3
   },
   "file_extension": ".py",
   "mimetype": "text/x-python",
   "name": "python",
   "nbconvert_exporter": "python",
   "pygments_lexer": "ipython3",
   "version": "3.9.7"
  }
 },
 "nbformat": 4,
 "nbformat_minor": 5
}
