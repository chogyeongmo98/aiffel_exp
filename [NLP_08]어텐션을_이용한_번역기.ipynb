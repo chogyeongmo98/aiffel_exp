{
  "nbformat": 4,
  "nbformat_minor": 0,
  "metadata": {
    "colab": {
      "name": "[NLP-08]어텐션을 이용한 번역기.ipynb",
      "provenance": []
    },
    "kernelspec": {
      "name": "python3",
      "display_name": "Python 3"
    },
    "language_info": {
      "name": "python"
    }
  },
  "cells": [
    {
      "cell_type": "code",
      "execution_count": 1,
      "metadata": {
        "colab": {
          "base_uri": "https://localhost:8080/"
        },
        "id": "wN7br5-pnkOe",
        "outputId": "a59441ab-b3c4-45b5-ccad-f078ff85d757"
      },
      "outputs": [
        {
          "output_type": "stream",
          "name": "stdout",
          "text": [
            "1.3.5\n",
            "2.8.0\n",
            "3.2.2\n"
          ]
        }
      ],
      "source": [
        "import pandas\n",
        "import tensorflow\n",
        "import matplotlib\n",
        "\n",
        "print(pandas.__version__)\n",
        "print(tensorflow.__version__)\n",
        "print(matplotlib.__version__)"
      ]
    },
    {
      "cell_type": "code",
      "source": [
        ""
      ],
      "metadata": {
        "id": "9LE5jKrgnta5"
      },
      "execution_count": null,
      "outputs": []
    }
  ]
}