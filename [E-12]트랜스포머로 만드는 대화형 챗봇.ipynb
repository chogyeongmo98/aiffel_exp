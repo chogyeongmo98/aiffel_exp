{
 "cells": [
  {
   "cell_type": "markdown",
   "id": "770f429b",
   "metadata": {},
   "source": [
    "## 1. 데이터 수집하기"
   ]
  },
  {
   "cell_type": "code",
   "execution_count": 10,
   "id": "264e3d56",
   "metadata": {},
   "outputs": [],
   "source": [
    "import tensorflow as tf\n",
    "import tensorflow_datasets as tfds\n",
    "import os\n",
    "import re\n",
    "import numpy as np\n",
    "import pandas as pd\n",
    "import matplotlib.pyplot as plt"
   ]
  },
  {
   "cell_type": "code",
   "execution_count": 11,
   "id": "956637f5",
   "metadata": {},
   "outputs": [],
   "source": [
    "path = os.getenv('HOME') + '/aiffel/transformer_chatbot/data/ChatbotData .csv'\n",
    "data = pd.read_csv(path)"
   ]
  },
  {
   "cell_type": "code",
   "execution_count": 13,
   "id": "43c79e4a",
   "metadata": {},
   "outputs": [
    {
     "data": {
      "text/html": [
       "<div>\n",
       "<style scoped>\n",
       "    .dataframe tbody tr th:only-of-type {\n",
       "        vertical-align: middle;\n",
       "    }\n",
       "\n",
       "    .dataframe tbody tr th {\n",
       "        vertical-align: top;\n",
       "    }\n",
       "\n",
       "    .dataframe thead th {\n",
       "        text-align: right;\n",
       "    }\n",
       "</style>\n",
       "<table border=\"1\" class=\"dataframe\">\n",
       "  <thead>\n",
       "    <tr style=\"text-align: right;\">\n",
       "      <th></th>\n",
       "      <th>Q</th>\n",
       "      <th>A</th>\n",
       "      <th>label</th>\n",
       "    </tr>\n",
       "  </thead>\n",
       "  <tbody>\n",
       "    <tr>\n",
       "      <th>0</th>\n",
       "      <td>12시 땡!</td>\n",
       "      <td>하루가 또 가네요.</td>\n",
       "      <td>0</td>\n",
       "    </tr>\n",
       "    <tr>\n",
       "      <th>1</th>\n",
       "      <td>1지망 학교 떨어졌어</td>\n",
       "      <td>위로해 드립니다.</td>\n",
       "      <td>0</td>\n",
       "    </tr>\n",
       "    <tr>\n",
       "      <th>2</th>\n",
       "      <td>3박4일 놀러가고 싶다</td>\n",
       "      <td>여행은 언제나 좋죠.</td>\n",
       "      <td>0</td>\n",
       "    </tr>\n",
       "    <tr>\n",
       "      <th>3</th>\n",
       "      <td>3박4일 정도 놀러가고 싶다</td>\n",
       "      <td>여행은 언제나 좋죠.</td>\n",
       "      <td>0</td>\n",
       "    </tr>\n",
       "    <tr>\n",
       "      <th>4</th>\n",
       "      <td>PPL 심하네</td>\n",
       "      <td>눈살이 찌푸려지죠.</td>\n",
       "      <td>0</td>\n",
       "    </tr>\n",
       "  </tbody>\n",
       "</table>\n",
       "</div>"
      ],
      "text/plain": [
       "                 Q            A  label\n",
       "0           12시 땡!   하루가 또 가네요.      0\n",
       "1      1지망 학교 떨어졌어    위로해 드립니다.      0\n",
       "2     3박4일 놀러가고 싶다  여행은 언제나 좋죠.      0\n",
       "3  3박4일 정도 놀러가고 싶다  여행은 언제나 좋죠.      0\n",
       "4          PPL 심하네   눈살이 찌푸려지죠.      0"
      ]
     },
     "execution_count": 13,
     "metadata": {},
     "output_type": "execute_result"
    }
   ],
   "source": [
    "data.head()"
   ]
  },
  {
   "cell_type": "code",
   "execution_count": 17,
   "id": "183be113",
   "metadata": {},
   "outputs": [
    {
     "name": "stdout",
     "output_type": "stream",
     "text": [
      "<class 'pandas.core.frame.DataFrame'>\n",
      "RangeIndex: 11823 entries, 0 to 11822\n",
      "Data columns (total 3 columns):\n",
      " #   Column  Non-Null Count  Dtype \n",
      "---  ------  --------------  ----- \n",
      " 0   Q       11823 non-null  object\n",
      " 1   A       11823 non-null  object\n",
      " 2   label   11823 non-null  int64 \n",
      "dtypes: int64(1), object(2)\n",
      "memory usage: 277.2+ KB\n"
     ]
    }
   ],
   "source": [
    "data.info()"
   ]
  },
  {
   "cell_type": "markdown",
   "id": "a736edf4",
   "metadata": {},
   "source": [
    "우리가 사용할 데이터는 질문과 대답으로 이루어진 데이터셋이다."
   ]
  },
  {
   "cell_type": "markdown",
   "id": "a7247e96",
   "metadata": {},
   "source": [
    "## 2. 데이터 전처리하기"
   ]
  },
  {
   "cell_type": "markdown",
   "id": "c7f6c2cc",
   "metadata": {},
   "source": [
    "데이터 전처리하는 단계는 다음과 같다.\n",
    "* 1. TensorFlow Datasets SubwordTextEncoder를 토크나이저로 사용한다.  단어보다 더 작은 단위인 Subword를 기준으로 토크나이징하고,  각 토큰을 고유한 정수로 인코딩한다.\n",
    "* 2. 각 문장을 토큰화하고 각 문장의 시작과 끝을 나타내는 START_TOKEN 및 END_TOKEN을 추가한다.\n",
    "* 3. 최대 길이 MAX_LENGTH인 40을 넘는 문장들은 필터링한다.\n",
    "* 4. MAX_LENGTH보다 길이가 짧은 문장들은 40에 맞도록 패딩 한다"
   ]
  },
  {
   "cell_type": "markdown",
   "id": "c7c8e2f0",
   "metadata": {},
   "source": [
    "**먼저 토큰화를 진행하기전에,단어와 구두점 사이의 거리를 만들고, 가-힣, 구두점을 제외한 모든 문자를 ' '로 대체하고, questions과 answers list에 담아주자**"
   ]
  },
  {
   "cell_type": "code",
   "execution_count": 16,
   "id": "55a3ed64",
   "metadata": {},
   "outputs": [],
   "source": [
    "def preprocess_sentence(sentence):\n",
    "  sentence = sentence.lower().strip()\n",
    "\n",
    "  # 단어와 구두점(punctuation) 사이의 거리를 만듭니다.\n",
    "  # 예를 들어서 \"I am a student.\" => \"I am a student .\"와 같이\n",
    "  # student와 온점 사이에 거리를 만듭니다.\n",
    "  sentence = re.sub(r\"([?.!,])\", r\" \\1 \", sentence)\n",
    "  sentence = re.sub(r'[\" \"]+', \" \", sentence)\n",
    "\n",
    "  # (가-힣, \".\", \"?\", \"!\", \",\")를 제외한 모든 문자를 공백인 ' '로 대체합니다.\n",
    "  sentence = re.sub(r\"[^가-힣?.!,]+\", \" \", sentence)\n",
    "  sentence = sentence.strip()\n",
    "  return sentence\n"
   ]
  },
  {
   "cell_type": "code",
   "execution_count": 20,
   "id": "d11b8409",
   "metadata": {},
   "outputs": [],
   "source": [
    "def preprocess(data):\n",
    "    questions = []\n",
    "    for sentence in data['Q']:\n",
    "        sentence = sentence.strip()\n",
    "        sentence = re.sub(r\"([?.!,])\", r\" \\1 \", sentence)\n",
    "        sentence = re.sub(r'[\" \"]+', \" \", sentence)\n",
    "        sentence = re.sub(r\"[^가-힣?.!,]+\", \" \", sentence)\n",
    "        sentence = sentence.strip()\n",
    "        questions.append(sentence)\n",
    "        \n",
    "    answers = []\n",
    "    for sentence in data['A']:\n",
    "        sentence = sentence.strip()\n",
    "        sentence = re.sub(r\"([?.!,])\", r\" \\1 \", sentence)\n",
    "        sentence = re.sub(r'[\" \"]+', \" \", sentence)\n",
    "        sentence = re.sub(r\"[^가-힣?.!,]+\", \" \", sentence)\n",
    "        sentence = sentence.strip()\n",
    "        answers.append(sentence)\n",
    "    \n",
    "    \n",
    "    return questions,answers"
   ]
  },
  {
   "cell_type": "code",
   "execution_count": 21,
   "id": "22f2b61c",
   "metadata": {},
   "outputs": [],
   "source": [
    "questions, answers = preprocess(data)"
   ]
  },
  {
   "cell_type": "code",
   "execution_count": 23,
   "id": "4bb39eb1",
   "metadata": {},
   "outputs": [
    {
     "name": "stdout",
     "output_type": "stream",
     "text": [
      "전체 질문 수 : 11823\n",
      "전체 답변 수 : 11823\n"
     ]
    }
   ],
   "source": [
    "print('전체 질문 수 :', len(questions))\n",
    "print('전체 답변 수 :', len(answers))"
   ]
  },
  {
   "cell_type": "markdown",
   "id": "6292a449",
   "metadata": {},
   "source": [
    "**전처리가 잘 되었는지 확인해보자.**"
   ]
  },
  {
   "cell_type": "code",
   "execution_count": 27,
   "id": "41f2a2c9",
   "metadata": {},
   "outputs": [
    {
     "name": "stdout",
     "output_type": "stream",
     "text": [
      "질문:카드 망가졌어, 대답:다시 새로 사는 게 마음 편해요 .\n"
     ]
    }
   ],
   "source": [
    "print(f\"질문:{questions[5]}, 대답:{answers[5]}\")"
   ]
  },
  {
   "cell_type": "markdown",
   "id": "39c0dfef",
   "metadata": {},
   "source": [
    "### 토큰화\n",
    "**질문과 답변 데이터셋을 모두 사용하여 단어장을 만들어보자. 이때 TensorFlow Datasets SubwordTextEncoder을 사용한다.**"
   ]
  },
  {
   "cell_type": "code",
   "execution_count": 29,
   "id": "71860e44",
   "metadata": {},
   "outputs": [],
   "source": [
    "import tensorflow_datasets as tfds\n",
    "\n",
    "# 질문과 답변 데이터셋에 대해서 Vocabulary 생성. \n",
    "tokenizer = tfds.deprecated.text.SubwordTextEncoder.build_from_corpus(questions + answers, target_vocab_size=2**13)\n"
   ]
  },
  {
   "cell_type": "markdown",
   "id": "502e5f6c",
   "metadata": {},
   "source": [
    "**단어 집합이 생성되었다. 트랜스포머의 디코더에는 시작토큰과 종료토큰이 필요한데, 이 토큰들은 아직 정수화 되지 않았기 때문에 정수화를 진행해보자.**\n"
   ]
  },
  {
   "cell_type": "code",
   "execution_count": 30,
   "id": "768a7786",
   "metadata": {},
   "outputs": [],
   "source": [
    "START_TOKEN, END_TOKEN = [tokenizer.vocab_size], [tokenizer.vocab_size + 1]"
   ]
  },
  {
   "cell_type": "code",
   "execution_count": 32,
   "id": "bdc3a1fc",
   "metadata": {},
   "outputs": [],
   "source": [
    "VOCAB_SIZE = tokenizer.vocab_size + 2"
   ]
  },
  {
   "cell_type": "code",
   "execution_count": 33,
   "id": "e77b2210",
   "metadata": {},
   "outputs": [
    {
     "name": "stdout",
     "output_type": "stream",
     "text": [
      "시작 토큰 번호 : [8127]\n",
      "종료 토큰 번호 : [8128]\n",
      "단어 집합의 크기 : 8129\n"
     ]
    }
   ],
   "source": [
    "print('시작 토큰 번호 :',START_TOKEN)\n",
    "print('종료 토큰 번호 :',END_TOKEN)\n",
    "print('단어 집합의 크기 :',VOCAB_SIZE)"
   ]
  },
  {
   "cell_type": "markdown",
   "id": "be1dca59",
   "metadata": {},
   "source": [
    "### 정수 인코딩 "
   ]
  },
  {
   "cell_type": "markdown",
   "id": "4fbb867d",
   "metadata": {},
   "source": [
    "우리는 위에서 토큰화를 진행하고, 단어장을 만들었기 때문에 tokenizer.encode()로 각 단어를 정수로 변환할 수 있고 또는 tokenizer.decode()를 통해 정수 시퀀스를 단어 시퀀스로 변환할 수 있다. \n"
   ]
  },
  {
   "cell_type": "code",
   "execution_count": 41,
   "id": "e6625d4b",
   "metadata": {},
   "outputs": [
    {
     "name": "stdout",
     "output_type": "stream",
     "text": [
      "정수 인코딩 후의 21번째 질문 샘플: [5742, 612, 2481, 4148]\n",
      "정수 인코딩 후의 21번째 답변 샘플: [2352, 7481, 7, 6245, 97, 1]\n"
     ]
    }
   ],
   "source": [
    "# 임의의 22번째 샘플에 대해서 정수 인코딩 작업을 수행.\n",
    "\n",
    "print('정수 인코딩 후의 21번째 질문 샘플: {}'.format(tokenizer.encode(questions[21])))\n",
    "print('정수 인코딩 후의 21번째 답변 샘플: {}'.format(tokenizer.encode(answers[21])))"
   ]
  },
  {
   "cell_type": "markdown",
   "id": "3bfdbbfe",
   "metadata": {},
   "source": [
    "### 패딩\n",
    "토큰 수의 분포를 확인해보고, 알맞은 길이의 문장 최대길이를 정해보자. 그 후 부족한 문장은 패딩처리를 수행해보자."
   ]
  },
  {
   "cell_type": "code",
   "execution_count": 51,
   "id": "7b0cf140",
   "metadata": {},
   "outputs": [
    {
     "name": "stdout",
     "output_type": "stream",
     "text": [
      "토큰 수 평균 :  14.596422227860948\n",
      "토큰 수 최대 :  78\n",
      "토큰 수 표준편차:  6.745239180299319\n"
     ]
    },
    {
     "data": {
      "image/png": "[encoded data removed]",
      "text/plain": [
       "<Figure size 432x288 with 1 Axes>"
      ]
     },
     "metadata": {
      "needs_background": "light"
     },
     "output_type": "display_data"
    }
   ],
   "source": [
    "import matplotlib.pyplot as plt\n",
    "\n",
    "num_token= [len(tokens) for tokens in questions+answers]\n",
    "num_token = np.array(num_token)\n",
    "\n",
    "print('토큰 수 평균 : ', np.mean(num_token))\n",
    "print('토큰 수 최대 : ', np.max(num_token))\n",
    "print('토큰 수 표준편차: ',np.std(num_token))\n",
    "plt.hist([len(token) for token in questions+answers], bins=50)\n",
    "plt.xlabel('num_token ')\n",
    "plt.ylabel('num_sample ')\n",
    "plt.show()"
   ]
  },
  {
   "cell_type": "code",
   "execution_count": 58,
   "id": "03751799",
   "metadata": {},
   "outputs": [
    {
     "name": "stdout",
     "output_type": "stream",
     "text": [
      "pad_sequences maxlen :  30\n",
      "전체 문장의 0.9683244523386619%가 maxlen 설정값 이내에 포함됩니다. \n"
     ]
    }
   ],
   "source": [
    "#임의로 30으로 지정\n",
    "max_token = 30\n",
    "MAX_LENGTH = int(max_token)\n",
    "print('pad_sequences maxlen : ', MAX_LENGTH)\n",
    "print('전체 문장의 {}%가 maxlen 설정값 이내에 포함됩니다. '.format(np.sum(num_token < max_token) / len(num_token)))"
   ]
  },
  {
   "cell_type": "markdown",
   "id": "52bb28b2",
   "metadata": {},
   "source": [
    "**maxlen을 30으로 지정했을때, 전체 문장의 약 97%가 이 길이 내에 포함되므로 maxlen=30이 적절한 수치인것 같다.**"
   ]
  },
  {
   "cell_type": "markdown",
   "id": "01518720",
   "metadata": {},
   "source": [
    "**그렇다면, 정수 인코딩, 문장 길이 조절, 패딩, 시작토큰 종료토큰 추가하는 함수를 생성해보자.**"
   ]
  },
  {
   "cell_type": "code",
   "execution_count": 61,
   "id": "6928ccaf",
   "metadata": {},
   "outputs": [],
   "source": [
    "# 정수 인코딩, 최대 길이를 초과하는 샘플 제거, 패딩\n",
    "def tokenize_and_filter(inputs, outputs):\n",
    "  tokenized_inputs, tokenized_outputs = [], []\n",
    "  \n",
    "  for (sentence1, sentence2) in zip(inputs, outputs):\n",
    "    # 정수 인코딩 과정에서 시작 토큰과 종료 토큰을 추가\n",
    "    sentence1 = START_TOKEN + tokenizer.encode(sentence1) + END_TOKEN\n",
    "    sentence2 = START_TOKEN + tokenizer.encode(sentence2) + END_TOKEN\n",
    "\n",
    "    # 최대 길이 30 이하인 경우에만 데이터셋으로 허용\n",
    "    if len(sentence1) <= MAX_LENGTH and len(sentence2) <= MAX_LENGTH:\n",
    "      tokenized_inputs.append(sentence1)\n",
    "      tokenized_outputs.append(sentence2)\n",
    "  \n",
    "  # 최대 길이 30으로 모든 데이터셋을 패딩\n",
    "  tokenized_inputs = tf.keras.preprocessing.sequence.pad_sequences(\n",
    "      tokenized_inputs, maxlen=MAX_LENGTH, padding='post')\n",
    "  tokenized_outputs = tf.keras.preprocessing.sequence.pad_sequences(\n",
    "      tokenized_outputs, maxlen=MAX_LENGTH, padding='post')\n",
    "  \n",
    "  return tokenized_inputs, tokenized_outputs\n"
   ]
  },
  {
   "cell_type": "code",
   "execution_count": 62,
   "id": "6f160159",
   "metadata": {},
   "outputs": [
    {
     "name": "stdout",
     "output_type": "stream",
     "text": [
      "단어장의 크기 : 8129\n",
      "필터링 후의 질문 샘플 개수: 11822\n",
      "필터링 후의 답변 샘플 개수: 11822\n"
     ]
    }
   ],
   "source": [
    "questions, answers = tokenize_and_filter(questions, answers)\n",
    "print('단어장의 크기 :',(VOCAB_SIZE))\n",
    "print('필터링 후의 질문 샘플 개수: {}'.format(len(questions)))\n",
    "print('필터링 후의 답변 샘플 개수: {}'.format(len(answers)))"
   ]
  },
  {
   "cell_type": "markdown",
   "id": "073e99e5",
   "metadata": {},
   "source": [
    "### 인코더와 디코더의 입력 만들기 + 교사강요"
   ]
  },
  {
   "cell_type": "markdown",
   "id": "ca2843e0",
   "metadata": {},
   "source": [
    "질문과 답변의 쌍을 tf.data.Dataset API의 입력으로 사용하여 파이프라인을 구성한다. 이때, 교사 강요를 위해서 answers[:, :-1]를 디코더의 입력값, answers[:, 1:]를 디코더의 레이블로 사용한다."
   ]
  },
  {
   "cell_type": "code",
   "execution_count": 64,
   "id": "862aec45",
   "metadata": {},
   "outputs": [],
   "source": [
    "BATCH_SIZE = 64\n",
    "BUFFER_SIZE = 20000\n",
    "\n",
    "# 디코더는 이전의 target을 다음의 input으로 사용하기 때문에 outputs에서는 START_TOKEN을 제거.\n",
    "dataset = tf.data.Dataset.from_tensor_slices((\n",
    "    {\n",
    "        'inputs': questions,\n",
    "        'dec_inputs': answers[:, :-1]\n",
    "    },\n",
    "    {\n",
    "        'outputs': answers[:, 1:]\n",
    "    },\n",
    "))\n",
    "\n",
    "dataset = dataset.cache()\n",
    "dataset = dataset.shuffle(BUFFER_SIZE)\n",
    "dataset = dataset.batch(BATCH_SIZE)\n",
    "dataset = dataset.prefetch(tf.data.experimental.AUTOTUNE)\n"
   ]
  },
  {
   "cell_type": "markdown",
   "id": "1cc73ca9",
   "metadata": {},
   "source": [
    "## 3. 트랜스포머 정의"
   ]
  },
  {
   "cell_type": "code",
   "execution_count": 68,
   "id": "ac4227d8",
   "metadata": {},
   "outputs": [],
   "source": [
    "# 포지셔널 인코딩 레이어\n",
    "class PositionalEncoding(tf.keras.layers.Layer):\n",
    "\n",
    "  def __init__(self, position, d_model):\n",
    "    super(PositionalEncoding, self).__init__()\n",
    "    self.pos_encoding = self.positional_encoding(position, d_model)\n",
    "\n",
    "  def get_angles(self, position, i, d_model):\n",
    "    angles = 1 / tf.pow(10000, (2 * (i // 2)) / tf.cast(d_model, tf.float32))\n",
    "    return position * angles\n",
    "\n",
    "  def positional_encoding(self, position, d_model):\n",
    "    # 각도 배열 생성\n",
    "    angle_rads = self.get_angles(\n",
    "        position=tf.range(position, dtype=tf.float32)[:, tf.newaxis],\n",
    "        i=tf.range(d_model, dtype=tf.float32)[tf.newaxis, :],\n",
    "        d_model=d_model)\n",
    "\n",
    "    # 배열의 짝수 인덱스에는 sin 함수 적용\n",
    "    sines = tf.math.sin(angle_rads[:, 0::2])\n",
    "    # 배열의 홀수 인덱스에는 cosine 함수 적용\n",
    "    cosines = tf.math.cos(angle_rads[:, 1::2])\n",
    "\n",
    "    # sin과 cosine이 교차되도록 재배열\n",
    "    pos_encoding = tf.stack([sines, cosines], axis=0)\n",
    "    pos_encoding = tf.transpose(pos_encoding,[1, 2, 0]) \n",
    "    pos_encoding = tf.reshape(pos_encoding, [position, d_model])\n",
    "\n",
    "    pos_encoding = pos_encoding[tf.newaxis, ...]\n",
    "    return tf.cast(pos_encoding, tf.float32)\n",
    "\n",
    "  def call(self, inputs):\n",
    "    return inputs + self.pos_encoding[:, :tf.shape(inputs)[1], :]\n"
   ]
  },
  {
   "cell_type": "code",
   "execution_count": 69,
   "id": "8cffb6f7",
   "metadata": {},
   "outputs": [
    {
     "data": {
      "image/png": "[encoded data removed]",
      "text/plain": [
       "<Figure size 432x288 with 2 Axes>"
      ]
     },
     "metadata": {
      "needs_background": "light"
     },
     "output_type": "display_data"
    }
   ],
   "source": [
    "sample_pos_encoding = PositionalEncoding(30, 256)\n",
    "\n",
    "plt.pcolormesh(sample_pos_encoding.pos_encoding.numpy()[0], cmap='RdBu')\n",
    "plt.xlabel('Depth')\n",
    "plt.xlim((30, 256))\n",
    "plt.ylabel('Position')\n",
    "plt.colorbar()\n",
    "plt.show()"
   ]
  },
  {
   "cell_type": "code",
   "execution_count": 71,
   "id": "696605e8",
   "metadata": {},
   "outputs": [],
   "source": [
    "# 스케일드 닷 프로덕트 어텐션 함수\n",
    "def scaled_dot_product_attention(query, key, value, mask):\n",
    "  # 어텐션 가중치는 Q와 K의 닷 프로덕트\n",
    "  matmul_qk = tf.matmul(query, key, transpose_b=True)\n",
    "\n",
    "  # 가중치를 정규화\n",
    "  depth = tf.cast(tf.shape(key)[-1], tf.float32)\n",
    "  logits = matmul_qk / tf.math.sqrt(depth)\n",
    "\n",
    "  # 패딩에 마스크 추가\n",
    "  if mask is not None:\n",
    "    logits += (mask * -1e9)\n",
    "\n",
    "  # softmax적용\n",
    "  attention_weights = tf.nn.softmax(logits, axis=-1)\n",
    "\n",
    "  # 최종 어텐션은 가중치와 V의 닷 프로덕트\n",
    "  output = tf.matmul(attention_weights, value)\n",
    "  return output"
   ]
  },
  {
   "cell_type": "code",
   "execution_count": 72,
   "id": "fc2ba46c",
   "metadata": {},
   "outputs": [],
   "source": [
    "#멀티 헤드 어텐션\n",
    "class MultiHeadAttention(tf.keras.layers.Layer):\n",
    "\n",
    "  def __init__(self, d_model, num_heads, name=\"multi_head_attention\"):\n",
    "    super(MultiHeadAttention, self).__init__(name=name)\n",
    "    self.num_heads = num_heads\n",
    "    self.d_model = d_model\n",
    "\n",
    "    assert d_model % self.num_heads == 0\n",
    "\n",
    "    self.depth = d_model // self.num_heads\n",
    "\n",
    "    self.query_dense = tf.keras.layers.Dense(units=d_model)\n",
    "    self.key_dense = tf.keras.layers.Dense(units=d_model)\n",
    "    self.value_dense = tf.keras.layers.Dense(units=d_model)\n",
    "\n",
    "    self.dense = tf.keras.layers.Dense(units=d_model)\n",
    "\n",
    "  def split_heads(self, inputs, batch_size):\n",
    "    inputs = tf.reshape(\n",
    "        inputs, shape=(batch_size, -1, self.num_heads, self.depth))\n",
    "    return tf.transpose(inputs, perm=[0, 2, 1, 3])\n",
    "\n",
    "  def call(self, inputs):\n",
    "    query, key, value, mask = inputs['query'], inputs['key'], inputs[\n",
    "        'value'], inputs['mask']\n",
    "    batch_size = tf.shape(query)[0]\n",
    "\n",
    "    # Q, K, V에 각각 Dense를 적용합니다\n",
    "    query = self.query_dense(query)\n",
    "    key = self.key_dense(key)\n",
    "    value = self.value_dense(value)\n",
    "\n",
    "    # 병렬 연산을 위한 머리를 여러 개 만듭니다\n",
    "    query = self.split_heads(query, batch_size)\n",
    "    key = self.split_heads(key, batch_size)\n",
    "    value = self.split_heads(value, batch_size)\n",
    "\n",
    "    # 스케일드 닷 프로덕트 어텐션 함수\n",
    "    scaled_attention = scaled_dot_product_attention(query, key, value, mask)\n",
    "\n",
    "    scaled_attention = tf.transpose(scaled_attention, perm=[0, 2, 1, 3])\n",
    "\n",
    "    # 어텐션 연산 후에 각 결과를 다시 연결(concatenate)합니다\n",
    "    concat_attention = tf.reshape(scaled_attention,\n",
    "                                  (batch_size, -1, self.d_model))\n",
    "\n",
    "    # 최종 결과에도 Dense를 한 번 더 적용합니다\n",
    "    outputs = self.dense(concat_attention)\n",
    "\n",
    "    return outputs\n"
   ]
  },
  {
   "cell_type": "code",
   "execution_count": 73,
   "id": "1fb839db",
   "metadata": {},
   "outputs": [],
   "source": [
    "#패딩마 스크\n",
    "def create_padding_mask(x):\n",
    "  mask = tf.cast(tf.math.equal(x, 0), tf.float32)\n",
    "  # (batch_size, 1, 1, sequence length)\n",
    "  return mask[:, tf.newaxis, tf.newaxis, :]"
   ]
  },
  {
   "cell_type": "code",
   "execution_count": 74,
   "id": "323987fc",
   "metadata": {},
   "outputs": [],
   "source": [
    "#룩어헤드 마스크\n",
    "def create_look_ahead_mask(x):\n",
    "  seq_len = tf.shape(x)[1]\n",
    "  look_ahead_mask = 1 - tf.linalg.band_part(tf.ones((seq_len, seq_len)), -1, 0)\n",
    "  padding_mask = create_padding_mask(x)\n",
    "  return tf.maximum(look_ahead_mask, padding_mask)"
   ]
  },
  {
   "cell_type": "code",
   "execution_count": 76,
   "id": "66a33976",
   "metadata": {},
   "outputs": [],
   "source": [
    "# 인코더 하나의 레이어를 함수로 구현.\n",
    "# 이 하나의 레이어 안에는 두 개의 서브 레이어가 존재합니다.\n",
    "def encoder_layer(units, d_model, num_heads, dropout, name=\"encoder_layer\"):\n",
    "  inputs = tf.keras.Input(shape=(None, d_model), name=\"inputs\")\n",
    "\n",
    "  # 패딩 마스크 사용\n",
    "  padding_mask = tf.keras.Input(shape=(1, 1, None), name=\"padding_mask\")\n",
    "\n",
    "  # 첫 번째 서브 레이어 : 멀티 헤드 어텐션 수행 (셀프 어텐션)\n",
    "  attention = MultiHeadAttention(\n",
    "      d_model, num_heads, name=\"attention\")({\n",
    "          'query': inputs,\n",
    "          'key': inputs,\n",
    "          'value': inputs,\n",
    "          'mask': padding_mask\n",
    "      })\n",
    "\n",
    "  # 어텐션의 결과는 Dropout과 Layer Normalization이라는 훈련을 돕는 테크닉을 수행\n",
    "  attention = tf.keras.layers.Dropout(rate=dropout)(attention)\n",
    "  attention = tf.keras.layers.LayerNormalization(\n",
    "      epsilon=1e-6)(inputs + attention)\n",
    "\n",
    "  # 두 번째 서브 레이어 : 2개의 완전연결층\n",
    "  outputs = tf.keras.layers.Dense(units=units, activation='relu')(attention)\n",
    "  outputs = tf.keras.layers.Dense(units=d_model)(outputs)\n",
    "\n",
    "  # 완전연결층의 결과는 Dropout과 LayerNormalization이라는 훈련을 돕는 테크닉을 수행\n",
    "  outputs = tf.keras.layers.Dropout(rate=dropout)(outputs)\n",
    "  outputs = tf.keras.layers.LayerNormalization(\n",
    "      epsilon=1e-6)(attention + outputs)\n",
    "\n",
    "  return tf.keras.Model(\n",
    "      inputs=[inputs, padding_mask], outputs=outputs, name=name)\n"
   ]
  },
  {
   "cell_type": "code",
   "execution_count": 77,
   "id": "ced8edb8",
   "metadata": {},
   "outputs": [],
   "source": [
    "#인코더 층 쌓기\n",
    "def encoder(vocab_size,\n",
    "            num_layers,\n",
    "            units,\n",
    "            d_model,\n",
    "            num_heads,\n",
    "            dropout,\n",
    "            name=\"encoder\"):\n",
    "  inputs = tf.keras.Input(shape=(None,), name=\"inputs\")\n",
    "\n",
    "  # 패딩 마스크 사용\n",
    "  padding_mask = tf.keras.Input(shape=(1, 1, None), name=\"padding_mask\")\n",
    "\n",
    "  # 임베딩 레이어\n",
    "  embeddings = tf.keras.layers.Embedding(vocab_size, d_model)(inputs)\n",
    "  embeddings *= tf.math.sqrt(tf.cast(d_model, tf.float32))\n",
    "\n",
    "  # 포지셔널 인코딩\n",
    "  embeddings = PositionalEncoding(vocab_size, d_model)(embeddings)\n",
    "\n",
    "  outputs = tf.keras.layers.Dropout(rate=dropout)(embeddings)\n",
    "\n",
    "  # num_layers만큼 쌓아올린 인코더의 층.\n",
    "  for i in range(num_layers):\n",
    "    outputs = encoder_layer(\n",
    "        units=units,\n",
    "        d_model=d_model,\n",
    "        num_heads=num_heads,\n",
    "        dropout=dropout,\n",
    "        name=\"encoder_layer_{}\".format(i),\n",
    "    )([outputs, padding_mask])\n",
    "\n",
    "  return tf.keras.Model(\n",
    "      inputs=[inputs, padding_mask], outputs=outputs, name=name)\n"
   ]
  },
  {
   "cell_type": "code",
   "execution_count": 78,
   "id": "12f96354",
   "metadata": {},
   "outputs": [],
   "source": [
    "# 디코더 하나의 레이어를 함수로 구현.\n",
    "# 이 하나의 레이어 안에는 세 개의 서브 레이어가 존재합니다.\n",
    "def decoder_layer(units, d_model, num_heads, dropout, name=\"decoder_layer\"):\n",
    "  inputs = tf.keras.Input(shape=(None, d_model), name=\"inputs\")\n",
    "  enc_outputs = tf.keras.Input(shape=(None, d_model), name=\"encoder_outputs\")\n",
    "  look_ahead_mask = tf.keras.Input(\n",
    "      shape=(1, None, None), name=\"look_ahead_mask\")\n",
    "  padding_mask = tf.keras.Input(shape=(1, 1, None), name='padding_mask')\n",
    "\n",
    "  # 첫 번째 서브 레이어 : 멀티 헤드 어텐션 수행 (셀프 어텐션)\n",
    "  attention1 = MultiHeadAttention(\n",
    "      d_model, num_heads, name=\"attention_1\")(inputs={\n",
    "          'query': inputs,\n",
    "          'key': inputs,\n",
    "          'value': inputs,\n",
    "          'mask': look_ahead_mask\n",
    "      })\n",
    "\n",
    "  # 멀티 헤드 어텐션의 결과는 LayerNormalization이라는 훈련을 돕는 테크닉을 수행\n",
    "  attention1 = tf.keras.layers.LayerNormalization(\n",
    "      epsilon=1e-6)(attention1 + inputs)\n",
    "\n",
    "  # 두 번째 서브 레이어 : 마스크드 멀티 헤드 어텐션 수행 (인코더-디코더 어텐션)\n",
    "  attention2 = MultiHeadAttention(\n",
    "      d_model, num_heads, name=\"attention_2\")(inputs={\n",
    "          'query': attention1,\n",
    "          'key': enc_outputs,\n",
    "          'value': enc_outputs,\n",
    "          'mask': padding_mask\n",
    "      })\n",
    "\n",
    "  # 마스크드 멀티 헤드 어텐션의 결과는\n",
    "  # Dropout과 LayerNormalization이라는 훈련을 돕는 테크닉을 수행\n",
    "  attention2 = tf.keras.layers.Dropout(rate=dropout)(attention2)\n",
    "  attention2 = tf.keras.layers.LayerNormalization(\n",
    "      epsilon=1e-6)(attention2 + attention1)\n",
    "\n",
    "  # 세 번째 서브 레이어 : 2개의 완전연결층\n",
    "  outputs = tf.keras.layers.Dense(units=units, activation='relu')(attention2)\n",
    "  outputs = tf.keras.layers.Dense(units=d_model)(outputs)\n",
    "\n",
    "  # 완전연결층의 결과는 Dropout과 LayerNormalization 수행\n",
    "  outputs = tf.keras.layers.Dropout(rate=dropout)(outputs)\n",
    "  outputs = tf.keras.layers.LayerNormalization(\n",
    "      epsilon=1e-6)(outputs + attention2)\n",
    "\n",
    "  return tf.keras.Model(\n",
    "      inputs=[inputs, enc_outputs, look_ahead_mask, padding_mask],\n",
    "      outputs=outputs,\n",
    "      name=name)\n"
   ]
  },
  {
   "cell_type": "code",
   "execution_count": 79,
   "id": "74f5d363",
   "metadata": {},
   "outputs": [],
   "source": [
    "#디코더 층 쌓기\n",
    "def decoder(vocab_size,\n",
    "            num_layers,\n",
    "            units,\n",
    "            d_model,\n",
    "            num_heads,\n",
    "            dropout,\n",
    "            name='decoder'):\n",
    "  inputs = tf.keras.Input(shape=(None,), name='inputs')\n",
    "  enc_outputs = tf.keras.Input(shape=(None, d_model), name='encoder_outputs')\n",
    "  look_ahead_mask = tf.keras.Input(\n",
    "      shape=(1, None, None), name='look_ahead_mask')\n",
    "\n",
    "  # 패딩 마스크\n",
    "  padding_mask = tf.keras.Input(shape=(1, 1, None), name='padding_mask')\n",
    "  \n",
    "  # 임베딩 레이어\n",
    "  embeddings = tf.keras.layers.Embedding(vocab_size, d_model)(inputs)\n",
    "  embeddings *= tf.math.sqrt(tf.cast(d_model, tf.float32))\n",
    "\n",
    "  # 포지셔널 인코딩\n",
    "  embeddings = PositionalEncoding(vocab_size, d_model)(embeddings)\n",
    "\n",
    "  # Dropout이라는 훈련을 돕는 테크닉을 수행\n",
    "  outputs = tf.keras.layers.Dropout(rate=dropout)(embeddings)\n",
    "\n",
    "  for i in range(num_layers):\n",
    "    outputs = decoder_layer(\n",
    "        units=units,\n",
    "        d_model=d_model,\n",
    "        num_heads=num_heads,\n",
    "        dropout=dropout,\n",
    "        name='decoder_layer_{}'.format(i),\n",
    "    )(inputs=[outputs, enc_outputs, look_ahead_mask, padding_mask])\n",
    "\n",
    "  return tf.keras.Model(\n",
    "      inputs=[inputs, enc_outputs, look_ahead_mask, padding_mask],\n",
    "      outputs=outputs,\n",
    "      name=name)\n"
   ]
  },
  {
   "cell_type": "code",
   "execution_count": 80,
   "id": "5c5d7209",
   "metadata": {},
   "outputs": [],
   "source": [
    "#트랜스포머 구현\n",
    "def transformer(vocab_size,\n",
    "                num_layers,\n",
    "                units,\n",
    "                d_model,\n",
    "                num_heads,\n",
    "                dropout,\n",
    "                name=\"transformer\"):\n",
    "  inputs = tf.keras.Input(shape=(None,), name=\"inputs\")\n",
    "  dec_inputs = tf.keras.Input(shape=(None,), name=\"dec_inputs\")\n",
    "\n",
    "  # 인코더에서 패딩을 위한 마스크\n",
    "  enc_padding_mask = tf.keras.layers.Lambda(\n",
    "      create_padding_mask, output_shape=(1, 1, None),\n",
    "      name='enc_padding_mask')(inputs)\n",
    "\n",
    "  # 디코더에서 미래의 토큰을 마스크 하기 위해서 사용합니다.\n",
    "  # 내부적으로 패딩 마스크도 포함되어져 있습니다.\n",
    "  look_ahead_mask = tf.keras.layers.Lambda(\n",
    "      create_look_ahead_mask,\n",
    "      output_shape=(1, None, None),\n",
    "      name='look_ahead_mask')(dec_inputs)\n",
    "\n",
    "  # 두 번째 어텐션 블록에서 인코더의 벡터들을 마스킹\n",
    "  # 디코더에서 패딩을 위한 마스크\n",
    "  dec_padding_mask = tf.keras.layers.Lambda(\n",
    "      create_padding_mask, output_shape=(1, 1, None),\n",
    "      name='dec_padding_mask')(inputs)\n",
    "\n",
    "  # 인코더\n",
    "  enc_outputs = encoder(\n",
    "      vocab_size=vocab_size,\n",
    "      num_layers=num_layers,\n",
    "      units=units,\n",
    "      d_model=d_model,\n",
    "      num_heads=num_heads,\n",
    "      dropout=dropout,\n",
    "  )(inputs=[inputs, enc_padding_mask])\n",
    "\n",
    "  # 디코더\n",
    "  dec_outputs = decoder(\n",
    "      vocab_size=vocab_size,\n",
    "      num_layers=num_layers,\n",
    "      units=units,\n",
    "      d_model=d_model,\n",
    "      num_heads=num_heads,\n",
    "      dropout=dropout,\n",
    "  )(inputs=[dec_inputs, enc_outputs, look_ahead_mask, dec_padding_mask])\n",
    "\n",
    "  # 완전연결층\n",
    "  outputs = tf.keras.layers.Dense(units=vocab_size, name=\"outputs\")(dec_outputs)\n",
    "\n",
    "  return tf.keras.Model(inputs=[inputs, dec_inputs], outputs=outputs, name=name)\n"
   ]
  },
  {
   "cell_type": "markdown",
   "id": "2989ad21",
   "metadata": {},
   "source": [
    "## 4. 모델 학습"
   ]
  },
  {
   "cell_type": "markdown",
   "id": "baba47a5",
   "metadata": {},
   "source": [
    "### 모델 생성"
   ]
  },
  {
   "cell_type": "code",
   "execution_count": 81,
   "id": "dc573f97",
   "metadata": {},
   "outputs": [
    {
     "name": "stdout",
     "output_type": "stream",
     "text": [
      "Model: \"transformer\"\n",
      "__________________________________________________________________________________________________\n",
      "Layer (type)                    Output Shape         Param #     Connected to                     \n",
      "==================================================================================================\n",
      "inputs (InputLayer)             [(None, None)]       0                                            \n",
      "__________________________________________________________________________________________________\n",
      "dec_inputs (InputLayer)         [(None, None)]       0                                            \n",
      "__________________________________________________________________________________________________\n",
      "enc_padding_mask (Lambda)       (None, 1, 1, None)   0           inputs[0][0]                     \n",
      "__________________________________________________________________________________________________\n",
      "encoder (Functional)            (None, None, 256)    3135232     inputs[0][0]                     \n",
      "                                                                 enc_padding_mask[0][0]           \n",
      "__________________________________________________________________________________________________\n",
      "look_ahead_mask (Lambda)        (None, 1, None, None 0           dec_inputs[0][0]                 \n",
      "__________________________________________________________________________________________________\n",
      "dec_padding_mask (Lambda)       (None, 1, 1, None)   0           inputs[0][0]                     \n",
      "__________________________________________________________________________________________________\n",
      "decoder (Functional)            (None, None, 256)    3662592     dec_inputs[0][0]                 \n",
      "                                                                 encoder[0][0]                    \n",
      "                                                                 look_ahead_mask[0][0]            \n",
      "                                                                 dec_padding_mask[0][0]           \n",
      "__________________________________________________________________________________________________\n",
      "outputs (Dense)                 (None, None, 8129)   2089153     decoder[0][0]                    \n",
      "==================================================================================================\n",
      "Total params: 8,886,977\n",
      "Trainable params: 8,886,977\n",
      "Non-trainable params: 0\n",
      "__________________________________________________________________________________________________\n"
     ]
    }
   ],
   "source": [
    "tf.keras.backend.clear_session()\n",
    "\n",
    "# 하이퍼파라미터\n",
    "NUM_LAYERS = 2 # 인코더와 디코더의 층의 개수\n",
    "D_MODEL = 256 # 인코더와 디코더 내부의 입, 출력의 고정 차원\n",
    "NUM_HEADS = 8 # 멀티 헤드 어텐션에서의 헤드 수 \n",
    "UNITS = 512 # 피드 포워드 신경망의 은닉층의 크기\n",
    "DROPOUT = 0.1 # 드롭아웃의 비율\n",
    "\n",
    "model = transformer(\n",
    "    vocab_size=VOCAB_SIZE,\n",
    "    num_layers=NUM_LAYERS,\n",
    "    units=UNITS,\n",
    "    d_model=D_MODEL,\n",
    "    num_heads=NUM_HEADS,\n",
    "    dropout=DROPOUT)\n",
    "\n",
    "model.summary()"
   ]
  },
  {
   "cell_type": "markdown",
   "id": "c96cae13",
   "metadata": {},
   "source": [
    "### 손실 함수\n",
    "레이블인 시퀀스에 패딩이 되어 있으므로, loss를 계산할 때 패딩 마스크를 적용해야 한다."
   ]
  },
  {
   "cell_type": "code",
   "execution_count": 83,
   "id": "d1836c22",
   "metadata": {},
   "outputs": [],
   "source": [
    "def loss_function(y_true, y_pred):\n",
    "  y_true = tf.reshape(y_true, shape=(-1, MAX_LENGTH - 1))\n",
    "  \n",
    "  loss = tf.keras.losses.SparseCategoricalCrossentropy(\n",
    "      from_logits=True, reduction='none')(y_true, y_pred)\n",
    "\n",
    "  mask = tf.cast(tf.not_equal(y_true, 0), tf.float32)\n",
    "  loss = tf.multiply(loss, mask)\n",
    "\n",
    "  return tf.reduce_mean(loss)\n"
   ]
  },
  {
   "cell_type": "markdown",
   "id": "7a011597",
   "metadata": {},
   "source": [
    "### 커스텀 된 학습률"
   ]
  },
  {
   "cell_type": "code",
   "execution_count": 84,
   "id": "204f24a7",
   "metadata": {},
   "outputs": [],
   "source": [
    "class CustomSchedule(tf.keras.optimizers.schedules.LearningRateSchedule):\n",
    "\n",
    "  def __init__(self, d_model, warmup_steps=4000):\n",
    "    super(CustomSchedule, self).__init__()\n",
    "\n",
    "    self.d_model = d_model\n",
    "    self.d_model = tf.cast(self.d_model, tf.float32)\n",
    "\n",
    "    self.warmup_steps = warmup_steps\n",
    "\n",
    "  def __call__(self, step):\n",
    "    arg1 = tf.math.rsqrt(step)\n",
    "    arg2 = step * (self.warmup_steps**-1.5)\n",
    "\n",
    "    return tf.math.rsqrt(self.d_model) * tf.math.minimum(arg1, arg2)\n"
   ]
  },
  {
   "cell_type": "code",
   "execution_count": 85,
   "id": "f3786e65",
   "metadata": {},
   "outputs": [
    {
     "data": {
      "text/plain": [
       "Text(0.5, 0, 'Train Step')"
      ]
     },
     "execution_count": 85,
     "metadata": {},
     "output_type": "execute_result"
    },
    {
     "data": {
      "image/png": "[encoded data removed]",
      "text/plain": [
       "<Figure size 432x288 with 1 Axes>"
      ]
     },
     "metadata": {
      "needs_background": "light"
     },
     "output_type": "display_data"
    }
   ],
   "source": [
    "# 시각화\n",
    "sample_learning_rate = CustomSchedule(d_model=128)\n",
    "\n",
    "plt.plot(sample_learning_rate(tf.range(200000, dtype=tf.float32)))\n",
    "plt.ylabel(\"Learning Rate\")\n",
    "plt.xlabel(\"Train Step\")"
   ]
  },
  {
   "cell_type": "markdown",
   "id": "3b59dc88",
   "metadata": {},
   "source": [
    "### 모델 컴파일"
   ]
  },
  {
   "cell_type": "code",
   "execution_count": 86,
   "id": "849bd1ae",
   "metadata": {},
   "outputs": [],
   "source": [
    "learning_rate = CustomSchedule(D_MODEL)\n",
    "\n",
    "optimizer = tf.keras.optimizers.Adam(\n",
    "    learning_rate, beta_1=0.9, beta_2=0.98, epsilon=1e-9)\n",
    "\n",
    "def accuracy(y_true, y_pred):\n",
    "  y_true = tf.reshape(y_true, shape=(-1, MAX_LENGTH - 1))\n",
    "  return tf.keras.metrics.sparse_categorical_accuracy(y_true, y_pred)\n",
    "\n",
    "model.compile(optimizer=optimizer, loss=loss_function, metrics=[accuracy])\n"
   ]
  },
  {
   "cell_type": "markdown",
   "id": "2469571d",
   "metadata": {},
   "source": [
    "### 모델 훈련\n"
   ]
  },
  {
   "cell_type": "code",
   "execution_count": 93,
   "id": "16e2ed59",
   "metadata": {},
   "outputs": [
    {
     "name": "stdout",
     "output_type": "stream",
     "text": [
      "Epoch 1/100\n",
      "185/185 [==============================] - 8s 45ms/step - loss: 0.2067 - accuracy: 0.1948\n",
      "Epoch 2/100\n",
      "185/185 [==============================] - 8s 45ms/step - loss: 0.1497 - accuracy: 0.2052\n",
      "Epoch 3/100\n",
      "185/185 [==============================] - 8s 45ms/step - loss: 0.1095 - accuracy: 0.2126\n",
      "Epoch 4/100\n",
      "185/185 [==============================] - 8s 45ms/step - loss: 0.0842 - accuracy: 0.2169\n",
      "Epoch 5/100\n",
      "185/185 [==============================] - 8s 45ms/step - loss: 0.0705 - accuracy: 0.2194\n",
      "Epoch 6/100\n",
      "185/185 [==============================] - 8s 45ms/step - loss: 0.0629 - accuracy: 0.2204\n",
      "Epoch 7/100\n",
      "185/185 [==============================] - 8s 44ms/step - loss: 0.0583 - accuracy: 0.2209\n",
      "Epoch 8/100\n",
      "185/185 [==============================] - 8s 44ms/step - loss: 0.0546 - accuracy: 0.2219\n",
      "Epoch 9/100\n",
      "185/185 [==============================] - 8s 45ms/step - loss: 0.0502 - accuracy: 0.2228\n",
      "Epoch 10/100\n",
      "185/185 [==============================] - 8s 44ms/step - loss: 0.0423 - accuracy: 0.2247\n",
      "Epoch 11/100\n",
      "185/185 [==============================] - 8s 44ms/step - loss: 0.0382 - accuracy: 0.2257\n",
      "Epoch 12/100\n",
      "185/185 [==============================] - 8s 44ms/step - loss: 0.0346 - accuracy: 0.2265\n",
      "Epoch 13/100\n",
      "185/185 [==============================] - 8s 45ms/step - loss: 0.0305 - accuracy: 0.2275\n",
      "Epoch 14/100\n",
      "185/185 [==============================] - 8s 44ms/step - loss: 0.0282 - accuracy: 0.2281\n",
      "Epoch 15/100\n",
      "185/185 [==============================] - 8s 44ms/step - loss: 0.0253 - accuracy: 0.2290\n",
      "Epoch 16/100\n",
      "185/185 [==============================] - 8s 44ms/step - loss: 0.0229 - accuracy: 0.2295\n",
      "Epoch 17/100\n",
      "185/185 [==============================] - 8s 44ms/step - loss: 0.0205 - accuracy: 0.2302\n",
      "Epoch 18/100\n",
      "185/185 [==============================] - 8s 45ms/step - loss: 0.0196 - accuracy: 0.2305\n",
      "Epoch 19/100\n",
      "185/185 [==============================] - 8s 45ms/step - loss: 0.0186 - accuracy: 0.2307\n",
      "Epoch 20/100\n",
      "185/185 [==============================] - 8s 44ms/step - loss: 0.0165 - accuracy: 0.2311\n",
      "Epoch 21/100\n",
      "185/185 [==============================] - 8s 45ms/step - loss: 0.0156 - accuracy: 0.2315\n",
      "Epoch 22/100\n",
      "185/185 [==============================] - 8s 45ms/step - loss: 0.0151 - accuracy: 0.2315\n",
      "Epoch 23/100\n",
      "185/185 [==============================] - 8s 44ms/step - loss: 0.0142 - accuracy: 0.2318\n",
      "Epoch 24/100\n",
      "185/185 [==============================] - 8s 44ms/step - loss: 0.0134 - accuracy: 0.2319\n",
      "Epoch 25/100\n",
      "185/185 [==============================] - 8s 44ms/step - loss: 0.0128 - accuracy: 0.2322\n",
      "Epoch 26/100\n",
      "185/185 [==============================] - 8s 44ms/step - loss: 0.0124 - accuracy: 0.2323\n",
      "Epoch 27/100\n",
      "185/185 [==============================] - 8s 44ms/step - loss: 0.0115 - accuracy: 0.2326\n",
      "Epoch 28/100\n",
      "185/185 [==============================] - 8s 45ms/step - loss: 0.0111 - accuracy: 0.2325\n",
      "Epoch 29/100\n",
      "185/185 [==============================] - 8s 45ms/step - loss: 0.0103 - accuracy: 0.2328\n",
      "Epoch 30/100\n",
      "185/185 [==============================] - 8s 44ms/step - loss: 0.0096 - accuracy: 0.2329\n",
      "Epoch 31/100\n",
      "185/185 [==============================] - 8s 45ms/step - loss: 0.0099 - accuracy: 0.2328\n",
      "Epoch 32/100\n",
      "185/185 [==============================] - 8s 44ms/step - loss: 0.0091 - accuracy: 0.2330\n",
      "Epoch 33/100\n",
      "185/185 [==============================] - 8s 45ms/step - loss: 0.0090 - accuracy: 0.2330\n",
      "Epoch 34/100\n",
      "185/185 [==============================] - 8s 44ms/step - loss: 0.0085 - accuracy: 0.2332\n",
      "Epoch 35/100\n",
      "185/185 [==============================] - 8s 44ms/step - loss: 0.0084 - accuracy: 0.2332\n",
      "Epoch 36/100\n",
      "185/185 [==============================] - 8s 44ms/step - loss: 0.0080 - accuracy: 0.2333\n",
      "Epoch 37/100\n",
      "185/185 [==============================] - 8s 45ms/step - loss: 0.0077 - accuracy: 0.2333\n",
      "Epoch 38/100\n",
      "185/185 [==============================] - 8s 45ms/step - loss: 0.0078 - accuracy: 0.2333\n",
      "Epoch 39/100\n",
      "185/185 [==============================] - 8s 44ms/step - loss: 0.0074 - accuracy: 0.2334\n",
      "Epoch 40/100\n",
      "185/185 [==============================] - 8s 44ms/step - loss: 0.0071 - accuracy: 0.2335\n",
      "Epoch 41/100\n",
      "185/185 [==============================] - 8s 45ms/step - loss: 0.0066 - accuracy: 0.2336\n",
      "Epoch 42/100\n",
      "185/185 [==============================] - 8s 44ms/step - loss: 0.0063 - accuracy: 0.2337\n",
      "Epoch 43/100\n",
      "185/185 [==============================] - 8s 44ms/step - loss: 0.0067 - accuracy: 0.2336\n",
      "Epoch 44/100\n",
      "185/185 [==============================] - 8s 44ms/step - loss: 0.0064 - accuracy: 0.2336\n",
      "Epoch 45/100\n",
      "185/185 [==============================] - 8s 45ms/step - loss: 0.0063 - accuracy: 0.2337\n",
      "Epoch 46/100\n",
      "185/185 [==============================] - 8s 44ms/step - loss: 0.0057 - accuracy: 0.2338\n",
      "Epoch 47/100\n",
      "185/185 [==============================] - 8s 44ms/step - loss: 0.0062 - accuracy: 0.2336\n",
      "Epoch 48/100\n",
      "185/185 [==============================] - 8s 44ms/step - loss: 0.0058 - accuracy: 0.2338\n",
      "Epoch 49/100\n",
      "185/185 [==============================] - 8s 44ms/step - loss: 0.0053 - accuracy: 0.2339\n",
      "Epoch 50/100\n",
      "185/185 [==============================] - 8s 44ms/step - loss: 0.0054 - accuracy: 0.2338\n",
      "Epoch 51/100\n",
      "185/185 [==============================] - 8s 44ms/step - loss: 0.0049 - accuracy: 0.2339\n",
      "Epoch 52/100\n",
      "185/185 [==============================] - 8s 45ms/step - loss: 0.0050 - accuracy: 0.2339\n",
      "Epoch 53/100\n",
      "185/185 [==============================] - 8s 45ms/step - loss: 0.0050 - accuracy: 0.2339\n",
      "Epoch 54/100\n",
      "185/185 [==============================] - 8s 45ms/step - loss: 0.0051 - accuracy: 0.2339\n",
      "Epoch 55/100\n",
      "185/185 [==============================] - 8s 45ms/step - loss: 0.0048 - accuracy: 0.2339\n",
      "Epoch 56/100\n",
      "185/185 [==============================] - 8s 44ms/step - loss: 0.0050 - accuracy: 0.2339\n",
      "Epoch 57/100\n",
      "185/185 [==============================] - 8s 44ms/step - loss: 0.0044 - accuracy: 0.2340\n",
      "Epoch 58/100\n",
      "185/185 [==============================] - 8s 44ms/step - loss: 0.0045 - accuracy: 0.2340\n",
      "Epoch 59/100\n",
      "185/185 [==============================] - 8s 45ms/step - loss: 0.0045 - accuracy: 0.2340\n",
      "Epoch 60/100\n",
      "185/185 [==============================] - 8s 45ms/step - loss: 0.0042 - accuracy: 0.2340\n",
      "Epoch 61/100\n",
      "185/185 [==============================] - 8s 45ms/step - loss: 0.0045 - accuracy: 0.2340\n",
      "Epoch 62/100\n",
      "185/185 [==============================] - 8s 44ms/step - loss: 0.0043 - accuracy: 0.2340\n",
      "Epoch 63/100\n",
      "185/185 [==============================] - 8s 45ms/step - loss: 0.0039 - accuracy: 0.2341\n",
      "Epoch 64/100\n",
      "185/185 [==============================] - 8s 44ms/step - loss: 0.0039 - accuracy: 0.2341\n",
      "Epoch 65/100\n",
      "185/185 [==============================] - 8s 44ms/step - loss: 0.0040 - accuracy: 0.2340\n",
      "Epoch 66/100\n",
      "185/185 [==============================] - 8s 44ms/step - loss: 0.0038 - accuracy: 0.2341\n",
      "Epoch 67/100\n",
      "185/185 [==============================] - 8s 44ms/step - loss: 0.0038 - accuracy: 0.2341\n",
      "Epoch 68/100\n",
      "185/185 [==============================] - 8s 44ms/step - loss: 0.0038 - accuracy: 0.2340\n",
      "Epoch 69/100\n",
      "185/185 [==============================] - 8s 44ms/step - loss: 0.0039 - accuracy: 0.2341\n",
      "Epoch 70/100\n",
      "185/185 [==============================] - 8s 44ms/step - loss: 0.0037 - accuracy: 0.2341\n",
      "Epoch 71/100\n",
      "185/185 [==============================] - 8s 44ms/step - loss: 0.0034 - accuracy: 0.2342\n",
      "Epoch 72/100\n",
      "185/185 [==============================] - 8s 44ms/step - loss: 0.0037 - accuracy: 0.2341\n",
      "Epoch 73/100\n",
      "185/185 [==============================] - 8s 44ms/step - loss: 0.0035 - accuracy: 0.2341\n",
      "Epoch 74/100\n",
      "185/185 [==============================] - 8s 44ms/step - loss: 0.0032 - accuracy: 0.2342\n",
      "Epoch 75/100\n",
      "185/185 [==============================] - 8s 44ms/step - loss: 0.0034 - accuracy: 0.2341\n",
      "Epoch 76/100\n",
      "185/185 [==============================] - 8s 44ms/step - loss: 0.0031 - accuracy: 0.2342\n",
      "Epoch 77/100\n",
      "185/185 [==============================] - 8s 45ms/step - loss: 0.0030 - accuracy: 0.2342\n",
      "Epoch 78/100\n",
      "185/185 [==============================] - 8s 44ms/step - loss: 0.0031 - accuracy: 0.2342\n",
      "Epoch 79/100\n",
      "185/185 [==============================] - 8s 44ms/step - loss: 0.0030 - accuracy: 0.2342\n",
      "Epoch 80/100\n"
     ]
    },
    {
     "name": "stdout",
     "output_type": "stream",
     "text": [
      "185/185 [==============================] - 8s 44ms/step - loss: 0.0032 - accuracy: 0.2342\n",
      "Epoch 81/100\n",
      "185/185 [==============================] - 8s 44ms/step - loss: 0.0030 - accuracy: 0.2342\n",
      "Epoch 82/100\n",
      "185/185 [==============================] - 8s 44ms/step - loss: 0.0028 - accuracy: 0.2342\n",
      "Epoch 83/100\n",
      "185/185 [==============================] - 8s 44ms/step - loss: 0.0028 - accuracy: 0.2342\n",
      "Epoch 84/100\n",
      "185/185 [==============================] - 8s 44ms/step - loss: 0.0025 - accuracy: 0.2343\n",
      "Epoch 85/100\n",
      "185/185 [==============================] - 8s 44ms/step - loss: 0.0027 - accuracy: 0.2342\n",
      "Epoch 86/100\n",
      "185/185 [==============================] - 8s 45ms/step - loss: 0.0026 - accuracy: 0.2342\n",
      "Epoch 87/100\n",
      "185/185 [==============================] - 8s 44ms/step - loss: 0.0027 - accuracy: 0.2342\n",
      "Epoch 88/100\n",
      "185/185 [==============================] - 8s 45ms/step - loss: 0.0028 - accuracy: 0.2342\n",
      "Epoch 89/100\n",
      "185/185 [==============================] - 8s 44ms/step - loss: 0.0026 - accuracy: 0.2343\n",
      "Epoch 90/100\n",
      "185/185 [==============================] - 8s 44ms/step - loss: 0.0026 - accuracy: 0.2342\n",
      "Epoch 91/100\n",
      "185/185 [==============================] - 8s 44ms/step - loss: 0.0024 - accuracy: 0.2343\n",
      "Epoch 92/100\n",
      "185/185 [==============================] - 8s 44ms/step - loss: 0.0026 - accuracy: 0.2343\n",
      "Epoch 93/100\n",
      "185/185 [==============================] - 8s 44ms/step - loss: 0.0027 - accuracy: 0.2342\n",
      "Epoch 94/100\n",
      "185/185 [==============================] - 8s 44ms/step - loss: 0.0024 - accuracy: 0.2343\n",
      "Epoch 95/100\n",
      "185/185 [==============================] - 8s 44ms/step - loss: 0.0025 - accuracy: 0.2343\n",
      "Epoch 96/100\n",
      "185/185 [==============================] - 8s 45ms/step - loss: 0.0024 - accuracy: 0.2342\n",
      "Epoch 97/100\n",
      "185/185 [==============================] - 8s 45ms/step - loss: 0.0023 - accuracy: 0.2342\n",
      "Epoch 98/100\n",
      "185/185 [==============================] - 8s 44ms/step - loss: 0.0024 - accuracy: 0.2342\n",
      "Epoch 99/100\n",
      "185/185 [==============================] - 8s 44ms/step - loss: 0.0023 - accuracy: 0.2343\n",
      "Epoch 100/100\n",
      "185/185 [==============================] - 8s 44ms/step - loss: 0.0023 - accuracy: 0.2343\n"
     ]
    }
   ],
   "source": [
    "EPOCHS = 100\n",
    "history = model.fit(dataset, epochs=EPOCHS, verbose=1)"
   ]
  },
  {
   "cell_type": "code",
   "execution_count": 94,
   "id": "97545e3b",
   "metadata": {},
   "outputs": [
    {
     "data": {
      "image/png": "[encoded data removed]",
      "text/plain": [
       "<Figure size 432x288 with 1 Axes>"
      ]
     },
     "metadata": {
      "needs_background": "light"
     },
     "output_type": "display_data"
    },
    {
     "data": {
      "image/png": "[encoded data removed]",
      "text/plain": [
       "<Figure size 432x288 with 1 Axes>"
      ]
     },
     "metadata": {
      "needs_background": "light"
     },
     "output_type": "display_data"
    }
   ],
   "source": [
    "plt.plot(history.history['accuracy'])\n",
    "plt.title('model accuracy')\n",
    "plt.ylabel('accuracy')\n",
    "plt.xlabel('epoch')\n",
    "plt.legend(['train'], loc='upper left')\n",
    "plt.show()\n",
    "# summarize history for loss\n",
    "plt.plot(history.history['loss'])\n",
    "plt.title('model loss')\n",
    "plt.ylabel('loss')\n",
    "plt.xlabel('epoch')\n",
    "plt.legend(['train'], loc='upper left')\n",
    "plt.show()"
   ]
  },
  {
   "cell_type": "markdown",
   "id": "2d7e9d9d",
   "metadata": {},
   "source": [
    "## 5. 모델 테스트"
   ]
  },
  {
   "cell_type": "markdown",
   "id": "f2103a35",
   "metadata": {},
   "source": [
    "\n",
    "**예측은 다음과 같이 6단계를 따른다. 6단계를 모두 포함하는 함수를 만들어보자.**\n",
    "* 1.새로운 입력 문장에 대해서는 훈련 때와 동일한 전처리를 거친다.\n",
    "* 2.입력 문장을 토크나이징하고, START_TOKEN과 END_TOKEN을 추가한다.\n",
    "* 3.패딩 마스킹과 룩 어헤드 마스킹을 계산한다.\n",
    "* 4.디코더는 입력 시퀀스로부터 다음 단어를 예측한다.\n",
    "* 5.디코더는 예측된 다음 단어를 기존의 입력 시퀀스에 추가하여 새로운 입력으로 사용한다.\n",
    "* 6.END_TOKEN이 예측되거나 문장의 최대 길이에 도달하면 디코더는 동작을 멈춘다."
   ]
  },
  {
   "cell_type": "code",
   "execution_count": 95,
   "id": "68bf307d",
   "metadata": {},
   "outputs": [],
   "source": [
    "def decoder_inference(sentence):\n",
    "  sentence = preprocess_sentence(sentence)\n",
    "\n",
    "  # 입력된 문장을 정수 인코딩 후, 시작 토큰과 종료 토큰을 앞뒤로 추가.\n",
    "  # ex) Where have you been? → [[8331   86   30    5 1059    7 8332]]\n",
    "  sentence = tf.expand_dims(\n",
    "      START_TOKEN + tokenizer.encode(sentence) + END_TOKEN, axis=0)\n",
    "\n",
    "  # 디코더의 현재까지의 예측한 출력 시퀀스가 지속적으로 저장되는 변수.\n",
    "  # 처음에는 예측한 내용이 없음으로 시작 토큰만 별도 저장. ex) 8331\n",
    "  output_sequence = tf.expand_dims(START_TOKEN, 0)\n",
    "\n",
    "  # 디코더의 인퍼런스 단계\n",
    "  for i in range(MAX_LENGTH):\n",
    "    # 디코더는 최대 MAX_LENGTH의 길이만큼 다음 단어 예측을 반복합니다.\n",
    "    predictions = model(inputs=[sentence, output_sequence], training=False)\n",
    "    predictions = predictions[:, -1:, :]\n",
    "\n",
    "    # 현재 예측한 단어의 정수\n",
    "    predicted_id = tf.cast(tf.argmax(predictions, axis=-1), tf.int32)\n",
    "\n",
    "    # 만약 현재 예측한 단어가 종료 토큰이라면 for문을 종료\n",
    "    if tf.equal(predicted_id, END_TOKEN[0]):\n",
    "      break\n",
    "\n",
    "    # 예측한 단어들은 지속적으로 output_sequence에 추가됩니다.\n",
    "    # 이 output_sequence는 다시 디코더의 입력이 됩니다.\n",
    "    output_sequence = tf.concat([output_sequence, predicted_id], axis=-1)\n",
    "\n",
    "  return tf.squeeze(output_sequence, axis=0)\n"
   ]
  },
  {
   "cell_type": "markdown",
   "id": "552edec4",
   "metadata": {},
   "source": [
    "어떤 문장에 대해 decoder_inference 호출하여 챗봇의 대답을 출력하는 함수를 만들어보자."
   ]
  },
  {
   "cell_type": "code",
   "execution_count": 96,
   "id": "dddf2b5c",
   "metadata": {},
   "outputs": [],
   "source": [
    "def sentence_generation(sentence):\n",
    "  # 입력 문장에 대해서 디코더를 동작 시켜 예측된 정수 시퀀스를 리턴받습니다.\n",
    "  prediction = decoder_inference(sentence)\n",
    "\n",
    "  # 정수 시퀀스를 다시 텍스트 시퀀스로 변환합니다.\n",
    "  predicted_sentence = tokenizer.decode(\n",
    "      [i for i in prediction if i < tokenizer.vocab_size])\n",
    "\n",
    "  print('입력 : {}'.format(sentence))\n",
    "  print('출력 : {}'.format(predicted_sentence))\n",
    "\n",
    "  return predicted_sentence\n"
   ]
  },
  {
   "cell_type": "code",
   "execution_count": 98,
   "id": "e5212b67",
   "metadata": {},
   "outputs": [
    {
     "name": "stdout",
     "output_type": "stream",
     "text": [
      "입력 : 안녕하세요\n",
      "출력 : 안녕하세요 .\n"
     ]
    },
    {
     "data": {
      "text/plain": [
       "'안녕하세요 .'"
      ]
     },
     "execution_count": 98,
     "metadata": {},
     "output_type": "execute_result"
    }
   ],
   "source": [
    "sentence_generation('안녕하세요')"
   ]
  },
  {
   "cell_type": "code",
   "execution_count": 100,
   "id": "71adf497",
   "metadata": {},
   "outputs": [
    {
     "name": "stdout",
     "output_type": "stream",
     "text": [
      "입력 : 오늘 날씨는?\n",
      "출력 : 마음 가는 대로 해보세요 .\n"
     ]
    },
    {
     "data": {
      "text/plain": [
       "'마음 가는 대로 해보세요 .'"
      ]
     },
     "execution_count": 100,
     "metadata": {},
     "output_type": "execute_result"
    }
   ],
   "source": [
    "sentence_generation('오늘 날씨는?')"
   ]
  },
  {
   "cell_type": "code",
   "execution_count": 104,
   "id": "fd28342b",
   "metadata": {},
   "outputs": [
    {
     "name": "stdout",
     "output_type": "stream",
     "text": [
      "입력 : 오늘 날씨를 알려줘\n",
      "출력 : 하늘 보고 한 번 웃어봐요 . 기분이 바뀔 거예요 .\n"
     ]
    },
    {
     "data": {
      "text/plain": [
       "'하늘 보고 한 번 웃어봐요 . 기분이 바뀔 거예요 .'"
      ]
     },
     "execution_count": 104,
     "metadata": {},
     "output_type": "execute_result"
    }
   ],
   "source": [
    "sentence_generation('오늘 날씨를 알려줘')"
   ]
  },
  {
   "cell_type": "code",
   "execution_count": 105,
   "id": "f3f0cb4f",
   "metadata": {},
   "outputs": [
    {
     "name": "stdout",
     "output_type": "stream",
     "text": [
      "입력 : 커피 마시고 싶다.\n",
      "출력 : 카페인이 필요한 시간인가 봐요 .\n"
     ]
    },
    {
     "data": {
      "text/plain": [
       "'카페인이 필요한 시간인가 봐요 .'"
      ]
     },
     "execution_count": 105,
     "metadata": {},
     "output_type": "execute_result"
    }
   ],
   "source": [
    "sentence_generation('커피 마시고 싶다.')"
   ]
  },
  {
   "cell_type": "code",
   "execution_count": 111,
   "id": "79aba2c8",
   "metadata": {},
   "outputs": [
    {
     "name": "stdout",
     "output_type": "stream",
     "text": [
      "입력 : 밥 먹고싶다.\n",
      "출력 : 엄청난 용기가 필요하겠네요 .\n"
     ]
    },
    {
     "data": {
      "text/plain": [
       "'엄청난 용기가 필요하겠네요 .'"
      ]
     },
     "execution_count": 111,
     "metadata": {},
     "output_type": "execute_result"
    }
   ],
   "source": [
    "sentence_generation('밥 먹고싶다.')"
   ]
  },
  {
   "cell_type": "code",
   "execution_count": 112,
   "id": "5629c567",
   "metadata": {},
   "outputs": [
    {
     "name": "stdout",
     "output_type": "stream",
     "text": [
      "입력 : 배고프다\n",
      "출력 : 저도 밥 먹고 싶어요\n"
     ]
    },
    {
     "data": {
      "text/plain": [
       "'저도 밥 먹고 싶어요'"
      ]
     },
     "execution_count": 112,
     "metadata": {},
     "output_type": "execute_result"
    }
   ],
   "source": [
    "sentence_generation('배고프다')"
   ]
  },
  {
   "cell_type": "code",
   "execution_count": 113,
   "id": "68eeceba",
   "metadata": {},
   "outputs": [
    {
     "name": "stdout",
     "output_type": "stream",
     "text": [
      "입력 : 공부는 힘들어\n",
      "출력 : 확신이 없나봐요 .\n"
     ]
    },
    {
     "data": {
      "text/plain": [
       "'확신이 없나봐요 .'"
      ]
     },
     "execution_count": 113,
     "metadata": {},
     "output_type": "execute_result"
    }
   ],
   "source": [
    "sentence_generation('공부는 힘들어')"
   ]
  },
  {
   "cell_type": "code",
   "execution_count": 115,
   "id": "58b621ea",
   "metadata": {},
   "outputs": [
    {
     "name": "stdout",
     "output_type": "stream",
     "text": [
      "입력 : 게임\n",
      "출력 : 저도 좀 알려주세요 .\n"
     ]
    },
    {
     "data": {
      "text/plain": [
       "'저도 좀 알려주세요 .'"
      ]
     },
     "execution_count": 115,
     "metadata": {},
     "output_type": "execute_result"
    }
   ],
   "source": [
    "sentence_generation('게임')"
   ]
  },
  {
   "cell_type": "code",
   "execution_count": 116,
   "id": "2bdb8939",
   "metadata": {},
   "outputs": [
    {
     "name": "stdout",
     "output_type": "stream",
     "text": [
      "입력 : 인공지능은 어려워\n",
      "출력 : 잠시 거리를 두고 생각해보세요 .\n"
     ]
    },
    {
     "data": {
      "text/plain": [
       "'잠시 거리를 두고 생각해보세요 .'"
      ]
     },
     "execution_count": 116,
     "metadata": {},
     "output_type": "execute_result"
    }
   ],
   "source": [
    "sentence_generation('인공지능은 어려워')"
   ]
  },
  {
   "cell_type": "code",
   "execution_count": 117,
   "id": "21741482",
   "metadata": {},
   "outputs": [
    {
     "name": "stdout",
     "output_type": "stream",
     "text": [
      "입력 : 게임은 어려워\n",
      "출력 : 먼저 게임할때는 시간이 더 빨리 가요 .\n"
     ]
    },
    {
     "data": {
      "text/plain": [
       "'먼저 게임할때는 시간이 더 빨리 가요 .'"
      ]
     },
     "execution_count": 117,
     "metadata": {},
     "output_type": "execute_result"
    }
   ],
   "source": [
    "sentence_generation('게임은 어려워')"
   ]
  },
  {
   "cell_type": "code",
   "execution_count": 118,
   "id": "15137e03",
   "metadata": {},
   "outputs": [
    {
     "name": "stdout",
     "output_type": "stream",
     "text": [
      "입력 : 공부는 어려워\n",
      "출력 : 확신이 없나봐요 .\n"
     ]
    },
    {
     "data": {
      "text/plain": [
       "'확신이 없나봐요 .'"
      ]
     },
     "execution_count": 118,
     "metadata": {},
     "output_type": "execute_result"
    }
   ],
   "source": [
    "sentence_generation('공부는 어려워')"
   ]
  },
  {
   "cell_type": "markdown",
   "id": "2cf93a73",
   "metadata": {},
   "source": [
    "## 회고"
   ]
  },
  {
   "cell_type": "markdown",
   "id": "044ecb91",
   "metadata": {},
   "source": [
    "* 이번 노드는 대표적인 기계번역 모델인 트랜스포머와 이를 이용해 챗봇을 만들어보는 노드였다.\n",
    "* 다행히 이번 풀잎스쿨 시간에 트랜스포머에 대한 발표를 하게 돼서 트랜스포머의 구조나 코드 구현 등에 대해 개략적은 알고 있어서,모델을 이론적으로 이해할때 크게 어려운 과정은 없었던것 같다.\n",
    "* 이번 노드를 진행할때 어려웠던점은 트랜스포머를 구현할때, 텐서플로우 라이브러리를 이용한 수식이나 문법이 많아서 그 부분을 이해하기가 굉장히 어려웠다. 텐서플로우 문법도 모델을 깊이 이해하기 위해서는 꼭 필요한 것 같다.\n",
    "* 매번 NLP노드를 진행하면서 드는 생각이지만 이게 어떻게 학습이 되지? 라는 생각이 든다. 또한 이번에는 validation set을 안썼는데 원래 NLP에서는 안쓰는지 의문이다.\n",
    "* NLP를 좀 더 체계화 시켜서 공부해야겠다는 생각이 있다. 토큰화, 임베딩, 모델 구현 등 NLP에 어떤 내용이 있고 따로따로는 조금이나마 알겠는데 순서와 과정이 조금 헷갈려서 처음부터 다시 공부해보고 싶다."
   ]
  },
  {
   "cell_type": "code",
   "execution_count": null,
   "id": "34936875",
   "metadata": {},
   "outputs": [],
   "source": []
  }
 ],
 "metadata": {
  "kernelspec": {
   "display_name": "Python 3 (ipykernel)",
   "language": "python",
   "name": "python3"
  },
  "language_info": {
   "codemirror_mode": {
    "name": "ipython",
    "version": 3
   },
   "file_extension": ".py",
   "mimetype": "text/x-python",
   "name": "python",
   "nbconvert_exporter": "python",
   "pygments_lexer": "ipython3",
   "version": "3.9.7"
  }
 },
 "nbformat": 4,
 "nbformat_minor": 5
}
