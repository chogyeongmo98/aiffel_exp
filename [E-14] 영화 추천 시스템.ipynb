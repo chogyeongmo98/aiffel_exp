{
 "cells": [
  {
   "cell_type": "markdown",
   "id": "c4ccef8d",
   "metadata": {},
   "source": [
    "## 데이터 준비와 전처리\n"
   ]
  },
  {
   "cell_type": "code",
   "execution_count": 39,
   "id": "f659f236",
   "metadata": {},
   "outputs": [],
   "source": [
    "import pandas as pd"
   ]
  },
  {
   "cell_type": "code",
   "execution_count": 40,
   "id": "44aa6015",
   "metadata": {},
   "outputs": [
    {
     "data": {
      "text/html": [
       "<div>\n",
       "<style scoped>\n",
       "    .dataframe tbody tr th:only-of-type {\n",
       "        vertical-align: middle;\n",
       "    }\n",
       "\n",
       "    .dataframe tbody tr th {\n",
       "        vertical-align: top;\n",
       "    }\n",
       "\n",
       "    .dataframe thead th {\n",
       "        text-align: right;\n",
       "    }\n",
       "</style>\n",
       "<table border=\"1\" class=\"dataframe\">\n",
       "  <thead>\n",
       "    <tr style=\"text-align: right;\">\n",
       "      <th></th>\n",
       "      <th>user_id</th>\n",
       "      <th>movie_id</th>\n",
       "      <th>ratings</th>\n",
       "      <th>timestamp</th>\n",
       "    </tr>\n",
       "  </thead>\n",
       "  <tbody>\n",
       "    <tr>\n",
       "      <th>0</th>\n",
       "      <td>1</td>\n",
       "      <td>1193</td>\n",
       "      <td>5</td>\n",
       "      <td>978300760</td>\n",
       "    </tr>\n",
       "    <tr>\n",
       "      <th>1</th>\n",
       "      <td>1</td>\n",
       "      <td>661</td>\n",
       "      <td>3</td>\n",
       "      <td>978302109</td>\n",
       "    </tr>\n",
       "    <tr>\n",
       "      <th>2</th>\n",
       "      <td>1</td>\n",
       "      <td>914</td>\n",
       "      <td>3</td>\n",
       "      <td>978301968</td>\n",
       "    </tr>\n",
       "    <tr>\n",
       "      <th>3</th>\n",
       "      <td>1</td>\n",
       "      <td>3408</td>\n",
       "      <td>4</td>\n",
       "      <td>978300275</td>\n",
       "    </tr>\n",
       "    <tr>\n",
       "      <th>4</th>\n",
       "      <td>1</td>\n",
       "      <td>2355</td>\n",
       "      <td>5</td>\n",
       "      <td>978824291</td>\n",
       "    </tr>\n",
       "  </tbody>\n",
       "</table>\n",
       "</div>"
      ],
      "text/plain": [
       "   user_id  movie_id  ratings  timestamp\n",
       "0        1      1193        5  978300760\n",
       "1        1       661        3  978302109\n",
       "2        1       914        3  978301968\n",
       "3        1      3408        4  978300275\n",
       "4        1      2355        5  978824291"
      ]
     },
     "execution_count": 40,
     "metadata": {},
     "output_type": "execute_result"
    }
   ],
   "source": [
    "import os\n",
    "rating_file_path=os.getenv('HOME') + '/aiffel/recommendata_iu/data/ml-1m/ratings.dat'\n",
    "ratings_cols = ['user_id', 'movie_id', 'ratings', 'timestamp']\n",
    "ratings = pd.read_csv(rating_file_path, sep='::', names=ratings_cols, engine='python', encoding = \"ISO-8859-1\")\n",
    "orginal_data_size = len(ratings)\n",
    "ratings.head()"
   ]
  },
  {
   "cell_type": "code",
   "execution_count": 41,
   "id": "08f70d79",
   "metadata": {},
   "outputs": [
    {
     "data": {
      "text/plain": [
       "(1000209, 4)"
      ]
     },
     "execution_count": 41,
     "metadata": {},
     "output_type": "execute_result"
    }
   ],
   "source": [
    "ratings.shape"
   ]
  },
  {
   "cell_type": "code",
   "execution_count": 42,
   "id": "761d5f73",
   "metadata": {},
   "outputs": [
    {
     "name": "stdout",
     "output_type": "stream",
     "text": [
      "orginal_data_size: 1000209, filtered_data_size: 836478\n",
      "Ratio of Remaining Data is 83.63%\n"
     ]
    }
   ],
   "source": [
    "# 3점 이상만 남깁니다.\n",
    "ratings = ratings[ratings['ratings']>=3]\n",
    "filtered_data_size = len(ratings)\n",
    "\n",
    "print(f'orginal_data_size: {orginal_data_size}, filtered_data_size: {filtered_data_size}')\n",
    "print(f'Ratio of Remaining Data is {filtered_data_size / orginal_data_size:.2%}')"
   ]
  },
  {
   "cell_type": "code",
   "execution_count": 43,
   "id": "a206aed4",
   "metadata": {},
   "outputs": [],
   "source": [
    "# ratings 컬럼의 이름을 counts로 바꿉니다.\n",
    "ratings.rename(columns={'ratings':'counts'}, inplace=True)"
   ]
  },
  {
   "cell_type": "code",
   "execution_count": 44,
   "id": "5ae307e0",
   "metadata": {},
   "outputs": [
    {
     "data": {
      "text/plain": [
       "0          5\n",
       "1          3\n",
       "2          3\n",
       "3          4\n",
       "4          5\n",
       "          ..\n",
       "1000203    3\n",
       "1000205    5\n",
       "1000206    5\n",
       "1000207    4\n",
       "1000208    4\n",
       "Name: counts, Length: 836478, dtype: int64"
      ]
     },
     "execution_count": 44,
     "metadata": {},
     "output_type": "execute_result"
    }
   ],
   "source": [
    "ratings['counts']"
   ]
  },
  {
   "cell_type": "code",
   "execution_count": 45,
   "id": "841306f6",
   "metadata": {},
   "outputs": [
    {
     "data": {
      "text/html": [
       "<div>\n",
       "<style scoped>\n",
       "    .dataframe tbody tr th:only-of-type {\n",
       "        vertical-align: middle;\n",
       "    }\n",
       "\n",
       "    .dataframe tbody tr th {\n",
       "        vertical-align: top;\n",
       "    }\n",
       "\n",
       "    .dataframe thead th {\n",
       "        text-align: right;\n",
       "    }\n",
       "</style>\n",
       "<table border=\"1\" class=\"dataframe\">\n",
       "  <thead>\n",
       "    <tr style=\"text-align: right;\">\n",
       "      <th></th>\n",
       "      <th>movie_id</th>\n",
       "      <th>title</th>\n",
       "      <th>genre</th>\n",
       "    </tr>\n",
       "  </thead>\n",
       "  <tbody>\n",
       "    <tr>\n",
       "      <th>0</th>\n",
       "      <td>1</td>\n",
       "      <td>Toy Story (1995)</td>\n",
       "      <td>Animation|Children's|Comedy</td>\n",
       "    </tr>\n",
       "    <tr>\n",
       "      <th>1</th>\n",
       "      <td>2</td>\n",
       "      <td>Jumanji (1995)</td>\n",
       "      <td>Adventure|Children's|Fantasy</td>\n",
       "    </tr>\n",
       "    <tr>\n",
       "      <th>2</th>\n",
       "      <td>3</td>\n",
       "      <td>Grumpier Old Men (1995)</td>\n",
       "      <td>Comedy|Romance</td>\n",
       "    </tr>\n",
       "    <tr>\n",
       "      <th>3</th>\n",
       "      <td>4</td>\n",
       "      <td>Waiting to Exhale (1995)</td>\n",
       "      <td>Comedy|Drama</td>\n",
       "    </tr>\n",
       "    <tr>\n",
       "      <th>4</th>\n",
       "      <td>5</td>\n",
       "      <td>Father of the Bride Part II (1995)</td>\n",
       "      <td>Comedy</td>\n",
       "    </tr>\n",
       "  </tbody>\n",
       "</table>\n",
       "</div>"
      ],
      "text/plain": [
       "   movie_id                               title                         genre\n",
       "0         1                    Toy Story (1995)   Animation|Children's|Comedy\n",
       "1         2                      Jumanji (1995)  Adventure|Children's|Fantasy\n",
       "2         3             Grumpier Old Men (1995)                Comedy|Romance\n",
       "3         4            Waiting to Exhale (1995)                  Comedy|Drama\n",
       "4         5  Father of the Bride Part II (1995)                        Comedy"
      ]
     },
     "execution_count": 45,
     "metadata": {},
     "output_type": "execute_result"
    }
   ],
   "source": [
    "# 영화 제목을 보기 위해 메타 데이터를 읽어옵니다.\n",
    "movie_file_path=os.getenv('HOME') + '/aiffel/recommendata_iu/data/ml-1m/movies.dat'\n",
    "cols = ['movie_id', 'title', 'genre'] \n",
    "movies = pd.read_csv(movie_file_path, sep='::', names=cols, engine='python', encoding='ISO-8859-1')\n",
    "movies.head()"
   ]
  },
  {
   "cell_type": "code",
   "execution_count": 46,
   "id": "ad2486f6",
   "metadata": {},
   "outputs": [
    {
     "data": {
      "text/html": [
       "<div>\n",
       "<style scoped>\n",
       "    .dataframe tbody tr th:only-of-type {\n",
       "        vertical-align: middle;\n",
       "    }\n",
       "\n",
       "    .dataframe tbody tr th {\n",
       "        vertical-align: top;\n",
       "    }\n",
       "\n",
       "    .dataframe thead th {\n",
       "        text-align: right;\n",
       "    }\n",
       "</style>\n",
       "<table border=\"1\" class=\"dataframe\">\n",
       "  <thead>\n",
       "    <tr style=\"text-align: right;\">\n",
       "      <th></th>\n",
       "      <th>user_id</th>\n",
       "      <th>movie_id</th>\n",
       "      <th>counts</th>\n",
       "      <th>title</th>\n",
       "    </tr>\n",
       "  </thead>\n",
       "  <tbody>\n",
       "    <tr>\n",
       "      <th>0</th>\n",
       "      <td>1</td>\n",
       "      <td>1193</td>\n",
       "      <td>5</td>\n",
       "      <td>One Flew Over the Cuckoo's Nest (1975)</td>\n",
       "    </tr>\n",
       "    <tr>\n",
       "      <th>1</th>\n",
       "      <td>1</td>\n",
       "      <td>661</td>\n",
       "      <td>3</td>\n",
       "      <td>James and the Giant Peach (1996)</td>\n",
       "    </tr>\n",
       "    <tr>\n",
       "      <th>2</th>\n",
       "      <td>1</td>\n",
       "      <td>914</td>\n",
       "      <td>3</td>\n",
       "      <td>My Fair Lady (1964)</td>\n",
       "    </tr>\n",
       "    <tr>\n",
       "      <th>3</th>\n",
       "      <td>1</td>\n",
       "      <td>3408</td>\n",
       "      <td>4</td>\n",
       "      <td>Erin Brockovich (2000)</td>\n",
       "    </tr>\n",
       "    <tr>\n",
       "      <th>4</th>\n",
       "      <td>1</td>\n",
       "      <td>2355</td>\n",
       "      <td>5</td>\n",
       "      <td>Bug's Life, A (1998)</td>\n",
       "    </tr>\n",
       "  </tbody>\n",
       "</table>\n",
       "</div>"
      ],
      "text/plain": [
       "   user_id  movie_id  counts                                   title\n",
       "0        1      1193       5  One Flew Over the Cuckoo's Nest (1975)\n",
       "1        1       661       3        James and the Giant Peach (1996)\n",
       "2        1       914       3                     My Fair Lady (1964)\n",
       "3        1      3408       4                  Erin Brockovich (2000)\n",
       "4        1      2355       5                    Bug's Life, A (1998)"
      ]
     },
     "execution_count": 46,
     "metadata": {},
     "output_type": "execute_result"
    }
   ],
   "source": [
    "# 데이터셋 합치기\n",
    "ratings = ratings.join(movies.set_index('movie_id'), on='movie_id')\n",
    "ratings = ratings.drop(columns=['timestamp', 'genre'])\n",
    "ratings.head()"
   ]
  },
  {
   "cell_type": "markdown",
   "id": "85984d54",
   "metadata": {},
   "source": [
    "#### 유저 수"
   ]
  },
  {
   "cell_type": "code",
   "execution_count": 47,
   "id": "5d48ce32",
   "metadata": {},
   "outputs": [
    {
     "data": {
      "text/plain": [
       "6039"
      ]
     },
     "execution_count": 47,
     "metadata": {},
     "output_type": "execute_result"
    }
   ],
   "source": [
    "ratings['user_id'].nunique()"
   ]
  },
  {
   "cell_type": "markdown",
   "id": "0cab1264",
   "metadata": {},
   "source": [
    "#### 영화 수"
   ]
  },
  {
   "cell_type": "code",
   "execution_count": 48,
   "id": "45ccb7e7",
   "metadata": {},
   "outputs": [
    {
     "data": {
      "text/plain": [
       "3628"
      ]
     },
     "execution_count": 48,
     "metadata": {},
     "output_type": "execute_result"
    }
   ],
   "source": [
    "ratings['movie_id'].nunique()"
   ]
  },
  {
   "cell_type": "markdown",
   "id": "4f40952b",
   "metadata": {},
   "source": [
    "#### 인기 많은 영화"
   ]
  },
  {
   "cell_type": "code",
   "execution_count": 49,
   "id": "22486f9d",
   "metadata": {},
   "outputs": [],
   "source": [
    "movie_count = ratings.groupby('title')['counts'].count()"
   ]
  },
  {
   "cell_type": "code",
   "execution_count": 50,
   "id": "67966296",
   "metadata": {},
   "outputs": [
    {
     "data": {
      "text/plain": [
       "title\n",
       "American Beauty (1999)                                   3211\n",
       "Star Wars: Episode IV - A New Hope (1977)                2910\n",
       "Star Wars: Episode V - The Empire Strikes Back (1980)    2885\n",
       "Star Wars: Episode VI - Return of the Jedi (1983)        2716\n",
       "Saving Private Ryan (1998)                               2561\n",
       "Terminator 2: Judgment Day (1991)                        2509\n",
       "Silence of the Lambs, The (1991)                         2498\n",
       "Raiders of the Lost Ark (1981)                           2473\n",
       "Back to the Future (1985)                                2460\n",
       "Matrix, The (1999)                                       2434\n",
       "Jurassic Park (1993)                                     2413\n",
       "Sixth Sense, The (1999)                                  2385\n",
       "Fargo (1996)                                             2371\n",
       "Braveheart (1995)                                        2314\n",
       "Men in Black (1997)                                      2297\n",
       "Schindler's List (1993)                                  2257\n",
       "Princess Bride, The (1987)                               2252\n",
       "Shakespeare in Love (1998)                               2213\n",
       "L.A. Confidential (1997)                                 2210\n",
       "Shawshank Redemption, The (1994)                         2194\n",
       "Godfather, The (1972)                                    2167\n",
       "Groundhog Day (1993)                                     2121\n",
       "E.T. the Extra-Terrestrial (1982)                        2102\n",
       "Being John Malkovich (1999)                              2066\n",
       "Ghostbusters (1984)                                      2051\n",
       "Pulp Fiction (1994)                                      2030\n",
       "Forrest Gump (1994)                                      2022\n",
       "Terminator, The (1984)                                   2019\n",
       "Toy Story (1995)                                         2000\n",
       "Fugitive, The (1993)                                     1941\n",
       "Name: counts, dtype: int64"
      ]
     },
     "execution_count": 50,
     "metadata": {},
     "output_type": "execute_result"
    }
   ],
   "source": [
    "movie_count.sort_values(ascending=False).head(30)"
   ]
  },
  {
   "cell_type": "markdown",
   "id": "ddf5d72e",
   "metadata": {},
   "source": [
    "#### 가장 인기 많은 영화는 코미디 장르의 American Beauty (1999)이며, 스타워즈가 상위 5개중 3개를 차지하고 있다. "
   ]
  },
  {
   "cell_type": "code",
   "execution_count": 51,
   "id": "dfbc095c",
   "metadata": {},
   "outputs": [
    {
     "data": {
      "text/plain": [
       "count    6039.000000\n",
       "mean      138.512668\n",
       "std       156.241599\n",
       "min         1.000000\n",
       "25%        38.000000\n",
       "50%        81.000000\n",
       "75%       177.000000\n",
       "max      1968.000000\n",
       "Name: movie_id, dtype: float64"
      ]
     },
     "execution_count": 51,
     "metadata": {},
     "output_type": "execute_result"
    }
   ],
   "source": [
    "# 유저별 몇 개의 영화를 보고있는지에 대한 통계\n",
    "user_count =ratings.groupby('user_id')['movie_id'].count()\n",
    "user_count.describe()"
   ]
  },
  {
   "cell_type": "code",
   "execution_count": 52,
   "id": "e5714a14",
   "metadata": {},
   "outputs": [
    {
     "data": {
      "text/plain": [
       "count    6039.000000\n",
       "mean        4.055970\n",
       "std         0.432143\n",
       "min         3.000000\n",
       "25%         4.000000\n",
       "50%         4.000000\n",
       "75%         4.000000\n",
       "max         5.000000\n",
       "Name: counts, dtype: float64"
      ]
     },
     "execution_count": 52,
     "metadata": {},
     "output_type": "execute_result"
    }
   ],
   "source": [
    "# 유저별 시청횟수 중앙값에 대한 통계\n",
    "user_median = ratings.groupby('user_id')['counts'].median()\n",
    "user_median.describe()"
   ]
  },
  {
   "cell_type": "markdown",
   "id": "f41fd5fe",
   "metadata": {},
   "source": [
    "### 선호하는 영화 5가지 추가"
   ]
  },
  {
   "cell_type": "code",
   "execution_count": 53,
   "id": "0c3dd9d9",
   "metadata": {},
   "outputs": [
    {
     "data": {
      "text/html": [
       "<div>\n",
       "<style scoped>\n",
       "    .dataframe tbody tr th:only-of-type {\n",
       "        vertical-align: middle;\n",
       "    }\n",
       "\n",
       "    .dataframe tbody tr th {\n",
       "        vertical-align: top;\n",
       "    }\n",
       "\n",
       "    .dataframe thead th {\n",
       "        text-align: right;\n",
       "    }\n",
       "</style>\n",
       "<table border=\"1\" class=\"dataframe\">\n",
       "  <thead>\n",
       "    <tr style=\"text-align: right;\">\n",
       "      <th></th>\n",
       "      <th>user_id</th>\n",
       "      <th>movie_id</th>\n",
       "      <th>counts</th>\n",
       "      <th>title</th>\n",
       "    </tr>\n",
       "  </thead>\n",
       "  <tbody>\n",
       "    <tr>\n",
       "      <th>1000203</th>\n",
       "      <td>6040</td>\n",
       "      <td>1090</td>\n",
       "      <td>3</td>\n",
       "      <td>Platoon (1986)</td>\n",
       "    </tr>\n",
       "    <tr>\n",
       "      <th>1000205</th>\n",
       "      <td>6040</td>\n",
       "      <td>1094</td>\n",
       "      <td>5</td>\n",
       "      <td>Crying Game, The (1992)</td>\n",
       "    </tr>\n",
       "    <tr>\n",
       "      <th>1000206</th>\n",
       "      <td>6040</td>\n",
       "      <td>562</td>\n",
       "      <td>5</td>\n",
       "      <td>Welcome to the Dollhouse (1995)</td>\n",
       "    </tr>\n",
       "    <tr>\n",
       "      <th>1000207</th>\n",
       "      <td>6040</td>\n",
       "      <td>1096</td>\n",
       "      <td>4</td>\n",
       "      <td>Sophie's Choice (1982)</td>\n",
       "    </tr>\n",
       "    <tr>\n",
       "      <th>1000208</th>\n",
       "      <td>6040</td>\n",
       "      <td>1097</td>\n",
       "      <td>4</td>\n",
       "      <td>E.T. the Extra-Terrestrial (1982)</td>\n",
       "    </tr>\n",
       "    <tr>\n",
       "      <th>0</th>\n",
       "      <td>kyungmo</td>\n",
       "      <td>2000</td>\n",
       "      <td>30</td>\n",
       "      <td>Toy Story (1995)</td>\n",
       "    </tr>\n",
       "    <tr>\n",
       "      <th>1</th>\n",
       "      <td>kyungmo</td>\n",
       "      <td>2102</td>\n",
       "      <td>30</td>\n",
       "      <td>E.T. the Extra-Terrestrial (1982)</td>\n",
       "    </tr>\n",
       "    <tr>\n",
       "      <th>2</th>\n",
       "      <td>kyungmo</td>\n",
       "      <td>2460</td>\n",
       "      <td>30</td>\n",
       "      <td>Back to the Future (1985)</td>\n",
       "    </tr>\n",
       "    <tr>\n",
       "      <th>3</th>\n",
       "      <td>kyungmo</td>\n",
       "      <td>2297</td>\n",
       "      <td>30</td>\n",
       "      <td>Men in Black (1997)</td>\n",
       "    </tr>\n",
       "    <tr>\n",
       "      <th>4</th>\n",
       "      <td>kyungmo</td>\n",
       "      <td>2509</td>\n",
       "      <td>30</td>\n",
       "      <td>Terminator 2: Judgment Day (1991)</td>\n",
       "    </tr>\n",
       "  </tbody>\n",
       "</table>\n",
       "</div>"
      ],
      "text/plain": [
       "         user_id  movie_id  counts                              title\n",
       "1000203     6040      1090       3                     Platoon (1986)\n",
       "1000205     6040      1094       5            Crying Game, The (1992)\n",
       "1000206     6040       562       5    Welcome to the Dollhouse (1995)\n",
       "1000207     6040      1096       4             Sophie's Choice (1982)\n",
       "1000208     6040      1097       4  E.T. the Extra-Terrestrial (1982)\n",
       "0        kyungmo      2000      30                   Toy Story (1995)\n",
       "1        kyungmo      2102      30  E.T. the Extra-Terrestrial (1982)\n",
       "2        kyungmo      2460      30         Back to the Future (1985) \n",
       "3        kyungmo      2297      30                Men in Black (1997)\n",
       "4        kyungmo      2509      30  Terminator 2: Judgment Day (1991)"
      ]
     },
     "execution_count": 53,
     "metadata": {},
     "output_type": "execute_result"
    }
   ],
   "source": [
    "# 선호하는 영화 5편 \n",
    "my_favorite_title = ['Toy Story (1995)' , 'E.T. the Extra-Terrestrial (1982)' ,'Back to the Future (1985) ' ,\n",
    "               'Men in Black (1997)','Terminator 2: Judgment Day (1991)']\n",
    "my_favorite_id = [2000, 2102, 2460, 2297, 2509 ]\n",
    "\n",
    "# 'kyungmo'이라는 user_id가 위 아티스트의 노래를 30회씩 들었다고 가정하겠습니다.\n",
    "my_playlist = pd.DataFrame({'user_id': ['kyungmo']*5,'movie_id': my_favorite_id, 'title': my_favorite_title, 'counts':[30]*5})\n",
    "\n",
    "if not ratings.isin({'user_id':['kyungmo']})['user_id'].any():  # user_id에 'zimin'이라는 데이터가 없다면\n",
    "     ratings = ratings.append(my_playlist)                           # 위에 임의로 만든 my_favorite 데이터를 추가해 줍니다. \n",
    "\n",
    "ratings.tail(10)       # 잘 추가되었는지 확인해 봅시다."
   ]
  },
  {
   "cell_type": "markdown",
   "id": "4fc61270",
   "metadata": {},
   "source": [
    "### 모델에 활용하기 위한 전처리"
   ]
  },
  {
   "cell_type": "code",
   "execution_count": 54,
   "id": "011405c5",
   "metadata": {},
   "outputs": [],
   "source": [
    "from scipy.sparse import csr_matrix\n",
    "#유저 , 영화 고유한 값 개수\n",
    "user_unique = ratings['user_id'].unique()\n",
    "movie_unique = ratings['title'].unique()\n",
    "\n",
    "# 고유한 값의 개수만큼 유저 id와 영화 제목 인덱싱\n",
    "user_to_idx = {v:k for k,v in enumerate(user_unique)}\n",
    "movie_to_idx = {v:k for k,v in enumerate(movie_unique)}"
   ]
  },
  {
   "cell_type": "code",
   "execution_count": 57,
   "id": "f958c6a0",
   "metadata": {},
   "outputs": [
    {
     "name": "stdout",
     "output_type": "stream",
     "text": [
      "6039\n",
      "175\n"
     ]
    }
   ],
   "source": [
    "# 인덱싱이 잘 되었는지 확인 \n",
    "print(user_to_idx['kyungmo'])    \n",
    "print(movie_to_idx['Men in Black (1997)'])"
   ]
  },
  {
   "cell_type": "code",
   "execution_count": 58,
   "id": "2a51f158",
   "metadata": {},
   "outputs": [
    {
     "name": "stdout",
     "output_type": "stream",
     "text": [
      "user_id column indexing OK!!\n",
      " column indexing OK!!\n"
     ]
    },
    {
     "data": {
      "text/html": [
       "<div>\n",
       "<style scoped>\n",
       "    .dataframe tbody tr th:only-of-type {\n",
       "        vertical-align: middle;\n",
       "    }\n",
       "\n",
       "    .dataframe tbody tr th {\n",
       "        vertical-align: top;\n",
       "    }\n",
       "\n",
       "    .dataframe thead th {\n",
       "        text-align: right;\n",
       "    }\n",
       "</style>\n",
       "<table border=\"1\" class=\"dataframe\">\n",
       "  <thead>\n",
       "    <tr style=\"text-align: right;\">\n",
       "      <th></th>\n",
       "      <th>user_id</th>\n",
       "      <th>movie_id</th>\n",
       "      <th>counts</th>\n",
       "      <th>title</th>\n",
       "    </tr>\n",
       "  </thead>\n",
       "  <tbody>\n",
       "    <tr>\n",
       "      <th>0</th>\n",
       "      <td>0</td>\n",
       "      <td>1193</td>\n",
       "      <td>5</td>\n",
       "      <td>0</td>\n",
       "    </tr>\n",
       "    <tr>\n",
       "      <th>1</th>\n",
       "      <td>0</td>\n",
       "      <td>661</td>\n",
       "      <td>3</td>\n",
       "      <td>1</td>\n",
       "    </tr>\n",
       "    <tr>\n",
       "      <th>2</th>\n",
       "      <td>0</td>\n",
       "      <td>914</td>\n",
       "      <td>3</td>\n",
       "      <td>2</td>\n",
       "    </tr>\n",
       "    <tr>\n",
       "      <th>3</th>\n",
       "      <td>0</td>\n",
       "      <td>3408</td>\n",
       "      <td>4</td>\n",
       "      <td>3</td>\n",
       "    </tr>\n",
       "    <tr>\n",
       "      <th>4</th>\n",
       "      <td>0</td>\n",
       "      <td>2355</td>\n",
       "      <td>5</td>\n",
       "      <td>4</td>\n",
       "    </tr>\n",
       "    <tr>\n",
       "      <th>...</th>\n",
       "      <td>...</td>\n",
       "      <td>...</td>\n",
       "      <td>...</td>\n",
       "      <td>...</td>\n",
       "    </tr>\n",
       "    <tr>\n",
       "      <th>0</th>\n",
       "      <td>6039</td>\n",
       "      <td>2000</td>\n",
       "      <td>30</td>\n",
       "      <td>40</td>\n",
       "    </tr>\n",
       "    <tr>\n",
       "      <th>1</th>\n",
       "      <td>6039</td>\n",
       "      <td>2102</td>\n",
       "      <td>30</td>\n",
       "      <td>26</td>\n",
       "    </tr>\n",
       "    <tr>\n",
       "      <th>2</th>\n",
       "      <td>6039</td>\n",
       "      <td>2460</td>\n",
       "      <td>30</td>\n",
       "      <td>3628</td>\n",
       "    </tr>\n",
       "    <tr>\n",
       "      <th>3</th>\n",
       "      <td>6039</td>\n",
       "      <td>2297</td>\n",
       "      <td>30</td>\n",
       "      <td>175</td>\n",
       "    </tr>\n",
       "    <tr>\n",
       "      <th>4</th>\n",
       "      <td>6039</td>\n",
       "      <td>2509</td>\n",
       "      <td>30</td>\n",
       "      <td>92</td>\n",
       "    </tr>\n",
       "  </tbody>\n",
       "</table>\n",
       "<p>836483 rows × 4 columns</p>\n",
       "</div>"
      ],
      "text/plain": [
       "    user_id  movie_id  counts  title\n",
       "0         0      1193       5      0\n",
       "1         0       661       3      1\n",
       "2         0       914       3      2\n",
       "3         0      3408       4      3\n",
       "4         0      2355       5      4\n",
       "..      ...       ...     ...    ...\n",
       "0      6039      2000      30     40\n",
       "1      6039      2102      30     26\n",
       "2      6039      2460      30   3628\n",
       "3      6039      2297      30    175\n",
       "4      6039      2509      30     92\n",
       "\n",
       "[836483 rows x 4 columns]"
      ]
     },
     "execution_count": 58,
     "metadata": {},
     "output_type": "execute_result"
    }
   ],
   "source": [
    "# 데이터 컬럼 내 값을 indexing된 값으로 교체\n",
    "\n",
    "# user_to_idx.get을 통해 user_id 컬럼의 모든 값을 인덱싱한 Series를 구해 봅시다. \n",
    "# 혹시 정상적으로 인덱싱되지 않은 row가 있다면 인덱스가 NaN이 될 테니 dropna()로 제거합니다. \n",
    "temp_user_data = ratings['user_id'].map(user_to_idx.get).dropna()\n",
    "if len(temp_user_data) == len(ratings):   # 모든 row가 정상적으로 인덱싱되었다면\n",
    "    print('user_id column indexing OK!!')\n",
    "    ratings['user_id'] = temp_user_data   # data['user_id']을 인덱싱된 Series로 교체해 줍니다. \n",
    "else:\n",
    "    print('user_id column indexing Fail!!')\n",
    "\n",
    "# movie_to_idx을 통해 title 컬럼도 동일한 방식으로 인덱싱해 줍니다. \n",
    "temp_movie_data = ratings['title'].map(movie_to_idx.get).dropna()\n",
    "if len(temp_movie_data) == len(ratings):\n",
    "    print(' column indexing OK!!')\n",
    "    ratings['title'] = temp_movie_data\n",
    "else:\n",
    "    print('column indexing Fail!!')\n",
    "\n",
    "ratings"
   ]
  },
  {
   "cell_type": "markdown",
   "id": "523f6659",
   "metadata": {},
   "source": [
    "## CSR matrix"
   ]
  },
  {
   "cell_type": "code",
   "execution_count": 61,
   "id": "c71fdd44",
   "metadata": {},
   "outputs": [
    {
     "data": {
      "text/plain": [
       "<6040x3629 sparse matrix of type '<class 'numpy.int64'>'\n",
       "\twith 836483 stored elements in Compressed Sparse Row format>"
      ]
     },
     "execution_count": 61,
     "metadata": {},
     "output_type": "execute_result"
    }
   ],
   "source": [
    "from scipy.sparse import csr_matrix\n",
    "\n",
    "num_user = ratings['user_id'].nunique()\n",
    "num_movie = ratings['title'].nunique()\n",
    "\n",
    "csr_data = csr_matrix((ratings.counts, (ratings.user_id, ratings.title)), shape= (num_user, num_movie))\n",
    "csr_data"
   ]
  },
  {
   "cell_type": "markdown",
   "id": "46eb5f4b",
   "metadata": {},
   "source": [
    "## AlternatingLeastSquares 모델 훈련"
   ]
  },
  {
   "cell_type": "code",
   "execution_count": 62,
   "id": "28c0b3ba",
   "metadata": {},
   "outputs": [],
   "source": [
    "from implicit.als import AlternatingLeastSquares\n",
    "import os\n",
    "import numpy as np\n",
    "\n",
    "# implicit 라이브러리에서 권장하고 있는 부분입니다. 학습 내용과는 무관합니다.\n",
    "os.environ['OPENBLAS_NUM_THREADS']='1'\n",
    "os.environ['KMP_DUPLICATE_LIB_OK']='True'\n",
    "os.environ['MKL_NUM_THREADS']='1'"
   ]
  },
  {
   "cell_type": "code",
   "execution_count": 63,
   "id": "006d9107",
   "metadata": {},
   "outputs": [],
   "source": [
    "# Implicit AlternatingLeastSquares 모델의 선언\n",
    "als_model = AlternatingLeastSquares(factors=100, regularization=0.01, use_gpu=False, iterations=15, dtype=np.float32)"
   ]
  },
  {
   "cell_type": "code",
   "execution_count": 64,
   "id": "f17ac1bd",
   "metadata": {},
   "outputs": [
    {
     "data": {
      "text/plain": [
       "<3629x6040 sparse matrix of type '<class 'numpy.int64'>'\n",
       "\twith 836483 stored elements in Compressed Sparse Column format>"
      ]
     },
     "execution_count": 64,
     "metadata": {},
     "output_type": "execute_result"
    }
   ],
   "source": [
    "# als 모델은 input으로 (item X user 꼴의 matrix를 받기 때문에 Transpose해줍니다.)\n",
    "csr_data_transpose = csr_data.T\n",
    "csr_data_transpose"
   ]
  },
  {
   "cell_type": "code",
   "execution_count": 65,
   "id": "bec40044",
   "metadata": {},
   "outputs": [
    {
     "data": {
      "application/vnd.jupyter.widget-view+json": {
       "model_id": "f85f90fae942451b8cbc344d8afa9e78",
       "version_major": 2,
       "version_minor": 0
      },
      "text/plain": [
       "  0%|          | 0/15 [00:00<?, ?it/s]"
      ]
     },
     "metadata": {},
     "output_type": "display_data"
    }
   ],
   "source": [
    "# 모델 훈련\n",
    "als_model.fit(csr_data_transpose)"
   ]
  },
  {
   "cell_type": "code",
   "execution_count": 66,
   "id": "a41af65c",
   "metadata": {},
   "outputs": [],
   "source": [
    "kyungmo, men_in_black = user_to_idx['kyungmo'], movie_to_idx['Men in Black (1997)']\n",
    "kyungmo_vector, men_vector = als_model.user_factors[kyungmo], als_model.item_factors[men_in_black]\n"
   ]
  },
  {
   "cell_type": "code",
   "execution_count": 67,
   "id": "6a27811a",
   "metadata": {},
   "outputs": [
    {
     "data": {
      "text/plain": [
       "array([-0.19663584, -0.42425483, -0.04455297,  0.55843616,  0.40189868,\n",
       "       -1.1693351 , -0.14045641,  0.52637535,  1.1660562 ,  0.33130884,\n",
       "       -0.0984352 ,  1.0975572 ,  1.735413  , -0.84812295,  0.17253418,\n",
       "        1.5810263 ,  0.6838569 , -1.3207712 , -0.53366345, -0.48389247,\n",
       "       -1.1901453 , -0.13437009,  0.50243914, -0.4965004 , -0.29817548,\n",
       "        0.8844903 , -2.2587662 ,  0.06345198, -0.11574789,  0.05195914,\n",
       "        0.11340105,  0.09611266,  0.36721453,  0.47608274, -0.01080915,\n",
       "       -2.1571827 , -0.44652852, -0.49070436,  0.7260644 , -0.09933724,\n",
       "        1.6354102 ,  0.7844046 ,  1.3468038 , -0.49654555, -0.38173705,\n",
       "       -0.36083767,  0.00318237,  0.3744083 ,  0.39231625, -1.4855132 ,\n",
       "        1.1961434 ,  0.8298734 , -1.1583258 , -0.31346726, -1.2616665 ,\n",
       "        0.35950917, -1.651881  , -0.33099562,  1.5323496 ,  0.06002386,\n",
       "        0.11386656, -0.21333271,  0.5285615 ,  0.43214226,  0.03448948,\n",
       "       -0.3305134 , -0.15739632,  1.679505  ,  0.05809692,  0.6024077 ,\n",
       "        0.45806807,  0.8444023 ,  0.4191622 , -1.059653  ,  0.6589598 ,\n",
       "       -0.1635111 ,  0.46367067, -0.329183  , -0.72204095,  0.01502985,\n",
       "        0.2847827 , -0.7576065 ,  0.24041377, -0.38658708,  0.58621424,\n",
       "       -0.8025172 , -0.44523525,  0.92611873,  1.1809922 , -0.31952795,\n",
       "       -0.09171068, -1.7042859 ,  1.4413152 , -0.08012484,  0.30959198,\n",
       "        1.9150174 ,  0.43861717, -0.6176878 ,  0.01974133, -2.3235123 ],\n",
       "      dtype=float32)"
      ]
     },
     "execution_count": 67,
     "metadata": {},
     "output_type": "execute_result"
    }
   ],
   "source": [
    "kyungmo_vector"
   ]
  },
  {
   "cell_type": "code",
   "execution_count": 68,
   "id": "f9fcd2e3",
   "metadata": {},
   "outputs": [
    {
     "data": {
      "text/plain": [
       "array([ 0.00970846, -0.02553955, -0.00324733,  0.01140641,  0.01234274,\n",
       "       -0.00753134,  0.00726507,  0.01519088,  0.01321342, -0.0125287 ,\n",
       "       -0.02093395,  0.02748109,  0.03129083, -0.00392464,  0.03953335,\n",
       "        0.03369604,  0.0408472 , -0.00714218,  0.01622903, -0.00343379,\n",
       "       -0.00298336,  0.01030478, -0.00365068,  0.00122145, -0.01181894,\n",
       "       -0.00162506, -0.02285807, -0.00273972,  0.01330745,  0.04102079,\n",
       "       -0.00746022,  0.00391916, -0.01274214,  0.00967189, -0.00681683,\n",
       "       -0.014449  , -0.00544339,  0.01168188, -0.01732298,  0.00099242,\n",
       "        0.03494279,  0.01800469,  0.03681023,  0.0031385 , -0.01077711,\n",
       "        0.00035756, -0.00656186,  0.01785514,  0.01909992, -0.02413089,\n",
       "        0.00635303,  0.03610375, -0.01722034,  0.00959817, -0.02093729,\n",
       "        0.05760978,  0.01101706, -0.00603743,  0.04352606,  0.00475627,\n",
       "        0.0075998 ,  0.012164  ,  0.00910342,  0.01007882, -0.00932601,\n",
       "        0.0086917 ,  0.03794054,  0.04567502,  0.00246011, -0.0035317 ,\n",
       "        0.00179135,  0.01245512, -0.02145866, -0.00537631,  0.01164445,\n",
       "        0.01779116,  0.01006275, -0.00210679, -0.00821292,  0.00277932,\n",
       "        0.01630219, -0.01337506,  0.00664227,  0.00074546,  0.03954223,\n",
       "        0.00922174,  0.02336926, -0.01685767,  0.00162415, -0.01472115,\n",
       "        0.00025985,  0.0010665 ,  0.03792605,  0.00017352, -0.02501925,\n",
       "        0.03618684,  0.02100302, -0.01894199, -0.00281167, -0.02386261],\n",
       "      dtype=float32)"
      ]
     },
     "execution_count": 68,
     "metadata": {},
     "output_type": "execute_result"
    }
   ],
   "source": [
    "men_vector"
   ]
  },
  {
   "cell_type": "code",
   "execution_count": 69,
   "id": "1f407899",
   "metadata": {},
   "outputs": [
    {
     "data": {
      "text/plain": [
       "0.9222874"
      ]
     },
     "execution_count": 69,
     "metadata": {},
     "output_type": "execute_result"
    }
   ],
   "source": [
    "np.dot(kyungmo_vector, men_vector)"
   ]
  },
  {
   "cell_type": "markdown",
   "id": "4604bf24",
   "metadata": {},
   "source": [
    "#### 1에 가까운 0.92가 내적 결과로 출력되었다. 우리 모델이 잘 학습되었음을 알 수 있다."
   ]
  },
  {
   "cell_type": "markdown",
   "id": "0ba1a538",
   "metadata": {},
   "source": [
    "#### 그렇다면, 내가 선호하는 영화의 장르와 동떨어진 영화의 선호도를 측정해보자"
   ]
  },
  {
   "cell_type": "code",
   "execution_count": 71,
   "id": "8664e97d",
   "metadata": {},
   "outputs": [
    {
     "data": {
      "text/plain": [
       "0.28566307"
      ]
     },
     "execution_count": 71,
     "metadata": {},
     "output_type": "execute_result"
    }
   ],
   "source": [
    "love = movie_to_idx['Shakespeare in Love (1998)']\n",
    "love_vector = als_model.item_factors[love]\n",
    "np.dot(kyungmo_vector, love_vector)"
   ]
  },
  {
   "cell_type": "markdown",
   "id": "c3efb6f3",
   "metadata": {},
   "source": [
    "#### 선호도가 낮게 나오는것을 확인할 수 있었다."
   ]
  },
  {
   "cell_type": "markdown",
   "id": "c31b50a4",
   "metadata": {},
   "source": [
    "## 내가 좋아하는 영화와 비슷한 영화 찾기"
   ]
  },
  {
   "cell_type": "code",
   "execution_count": 74,
   "id": "bee37310",
   "metadata": {},
   "outputs": [
    {
     "data": {
      "text/plain": [
       "[(175, 0.9999999),\n",
       " (107, 0.84177077),\n",
       " (92, 0.62135476),\n",
       " (62, 0.59969705),\n",
       " (150, 0.49115545),\n",
       " (145, 0.49071336),\n",
       " (82, 0.48338518),\n",
       " (124, 0.4725806),\n",
       " (542, 0.45151624),\n",
       " (375, 0.44254008),\n",
       " (3628, 0.43077862),\n",
       " (3466, 0.41285792),\n",
       " (138, 0.39359576),\n",
       " (685, 0.37099516),\n",
       " (1045, 0.36551642)]"
      ]
     },
     "execution_count": 74,
     "metadata": {},
     "output_type": "execute_result"
    }
   ],
   "source": [
    "favorite_movie = 'Men in Black (1997)'\n",
    "movie_id = movie_to_idx[favorite_movie]\n",
    "similar_movie = als_model.similar_items(movie_id, N=15)\n",
    "similar_movie"
   ]
  },
  {
   "cell_type": "code",
   "execution_count": 76,
   "id": "62593da8",
   "metadata": {},
   "outputs": [
    {
     "data": {
      "text/plain": [
       "['Men in Black (1997)',\n",
       " 'Jurassic Park (1993)',\n",
       " 'Terminator 2: Judgment Day (1991)',\n",
       " 'Total Recall (1990)',\n",
       " 'Independence Day (ID4) (1996)',\n",
       " 'Fifth Element, The (1997)',\n",
       " 'Lost World: Jurassic Park, The (1997)',\n",
       " 'Matrix, The (1999)',\n",
       " 'Rocky Horror Picture Show, The (1975)',\n",
       " 'Face/Off (1997)',\n",
       " 'Back to the Future (1985) ',\n",
       " 'Schlafes Bruder (Brother of Sleep) (1995)',\n",
       " 'True Lies (1994)',\n",
       " 'Planet of the Apes (1968)',\n",
       " 'Grumpy Old Men (1993)']"
      ]
     },
     "execution_count": 76,
     "metadata": {},
     "output_type": "execute_result"
    }
   ],
   "source": [
    "#movie_to_idx 를 뒤집어, index로부터 영화 이름을 얻는 dict를 생성\n",
    "idx_to_movie = {v:k for k,v in movie_to_idx.items()}\n",
    "[idx_to_movie[i[0]] for i in similar_movie]"
   ]
  },
  {
   "cell_type": "markdown",
   "id": "6ba8db6e",
   "metadata": {},
   "source": [
    "#### 모든 영화를 다 알지는 못하지만, 얼추 비슷한 장르의 영화가 추천된 것 같다. "
   ]
  },
  {
   "cell_type": "code",
   "execution_count": 77,
   "id": "927583fe",
   "metadata": {},
   "outputs": [],
   "source": [
    "# 함수로 만들기\n",
    "def get_similar_movie(movie_name: str):\n",
    "    movie_id = movie_to_idx[movie_name]\n",
    "    similar_movie = als_model.similar_items(movie_id)\n",
    "    similar_movie = [idx_to_movie[i[0]] for i in similar_movie]\n",
    "    return similar_movie\n",
    "\n"
   ]
  },
  {
   "cell_type": "markdown",
   "id": "9cd33031",
   "metadata": {},
   "source": [
    "#### 로맨스 영화로 설정해보자"
   ]
  },
  {
   "cell_type": "code",
   "execution_count": 80,
   "id": "7bc2a6b2",
   "metadata": {},
   "outputs": [
    {
     "data": {
      "text/plain": [
       "['Shakespeare in Love (1998)',\n",
       " 'Groundhog Day (1993)',\n",
       " 'Election (1999)',\n",
       " 'American Beauty (1999)',\n",
       " 'Being John Malkovich (1999)',\n",
       " 'Elizabeth (1998)',\n",
       " 'Four Weddings and a Funeral (1994)',\n",
       " 'For Ever Mozart (1996)',\n",
       " 'Ghostbusters (1984)',\n",
       " 'Toy Story 2 (1999)']"
      ]
     },
     "execution_count": 80,
     "metadata": {},
     "output_type": "execute_result"
    }
   ],
   "source": [
    "get_similar_movie('Shakespeare in Love (1998)')"
   ]
  },
  {
   "cell_type": "markdown",
   "id": "b7437c1b",
   "metadata": {},
   "source": [
    "## 내가 좋아할만한 영화 추천받기"
   ]
  },
  {
   "cell_type": "code",
   "execution_count": 82,
   "id": "9409978d",
   "metadata": {},
   "outputs": [
    {
     "data": {
      "text/plain": [
       "[(107, 0.8736303),\n",
       " (124, 0.7522327),\n",
       " (50, 0.63712966),\n",
       " (62, 0.55844593),\n",
       " (33, 0.5217565),\n",
       " (4, 0.47783124),\n",
       " (322, 0.4495123),\n",
       " (22, 0.4259818),\n",
       " (160, 0.39147544),\n",
       " (141, 0.37650928),\n",
       " (10, 0.37547332),\n",
       " (110, 0.3626419),\n",
       " (317, 0.35897198),\n",
       " (330, 0.3472137),\n",
       " (200, 0.331775),\n",
       " (284, 0.32314152),\n",
       " (479, 0.3215531),\n",
       " (145, 0.30241975),\n",
       " (0, 0.30195257),\n",
       " (685, 0.29642463)]"
      ]
     },
     "execution_count": 82,
     "metadata": {},
     "output_type": "execute_result"
    }
   ],
   "source": [
    "user = user_to_idx['kyungmo']\n",
    "# recommend에서는 user*item CSR Matrix를 받습니다.\n",
    "movie_recommended = als_model.recommend(user, csr_data, N=20, filter_already_liked_items=True)\n",
    "movie_recommended"
   ]
  },
  {
   "cell_type": "code",
   "execution_count": 83,
   "id": "e23be408",
   "metadata": {},
   "outputs": [
    {
     "data": {
      "text/plain": [
       "['Jurassic Park (1993)',\n",
       " 'Matrix, The (1999)',\n",
       " 'Toy Story 2 (1999)',\n",
       " 'Total Recall (1990)',\n",
       " 'Aladdin (1992)',\n",
       " \"Bug's Life, A (1998)\",\n",
       " 'Babe (1995)',\n",
       " 'Back to the Future (1985)',\n",
       " 'Forrest Gump (1994)',\n",
       " 'Fugitive, The (1993)',\n",
       " 'Beauty and the Beast (1991)',\n",
       " 'Groundhog Day (1993)',\n",
       " 'Twelve Monkeys (1995)',\n",
       " 'Lion King, The (1994)',\n",
       " 'Terminator, The (1984)',\n",
       " 'Nightmare Before Christmas, The (1993)',\n",
       " 'Contact (1997)',\n",
       " 'Fifth Element, The (1997)',\n",
       " \"One Flew Over the Cuckoo's Nest (1975)\",\n",
       " 'Planet of the Apes (1968)']"
      ]
     },
     "execution_count": 83,
     "metadata": {},
     "output_type": "execute_result"
    }
   ],
   "source": [
    "[idx_to_movie[i[0]] for i in movie_recommended]"
   ]
  },
  {
   "cell_type": "markdown",
   "id": "629673ea",
   "metadata": {},
   "source": [
    "#### 내가 설정한 영화들과 비슷한 장르의 영화들이 추천되는것을 확인할 수 있다."
   ]
  },
  {
   "cell_type": "markdown",
   "id": "edbe9089",
   "metadata": {},
   "source": [
    "### 기여 정도 확인"
   ]
  },
  {
   "cell_type": "code",
   "execution_count": 84,
   "id": "086c0176",
   "metadata": {},
   "outputs": [],
   "source": [
    "jurassic = movie_to_idx['Jurassic Park (1993)']\n",
    "explain = als_model.explain(user, csr_data, itemid=jurassic)"
   ]
  },
  {
   "cell_type": "code",
   "execution_count": 85,
   "id": "8d36d47f",
   "metadata": {},
   "outputs": [
    {
     "data": {
      "text/plain": [
       "[('Men in Black (1997)', 0.5730779004279495),\n",
       " ('Terminator 2: Judgment Day (1991)', 0.28642412466198214),\n",
       " ('Back to the Future (1985) ', 0.023268825523740624),\n",
       " ('E.T. the Extra-Terrestrial (1982)', 0.017895399834067353),\n",
       " ('Toy Story (1995)', -0.047704666197631834)]"
      ]
     },
     "execution_count": 85,
     "metadata": {},
     "output_type": "execute_result"
    }
   ],
   "source": [
    "[(idx_to_movie[i[0]], i[1]) for i in explain[1]]"
   ]
  },
  {
   "cell_type": "markdown",
   "id": "75604541",
   "metadata": {},
   "source": [
    "#### 맨인블랙과 터미네이터가 가장 큰 기여를 하였다. 토이스토리의 경우 음수가 나온걸로보아 기여를 하지 못한것 같다."
   ]
  },
  {
   "cell_type": "markdown",
   "id": "cb1104b2",
   "metadata": {},
   "source": [
    "## 회고\n"
   ]
  },
  {
   "cell_type": "markdown",
   "id": "673a43a2",
   "metadata": {},
   "source": [
    "작년 학교에서 수강한 기계학습 수업에서 SVD라는 행렬분해 방법을 배운적이 있다. 그때 교수님께서 이 노드와 같은 '영화 추천'에 대한 내용으로 설명을 해주셨는데, 그때는 영화 행렬과 유저 행렬의 새로운 feature를 만든다는것에 대해 이해를 잘 하지 못하고 그저 수학적인 내용으로만 이해를 했었다.\n",
    "하지만 이번 아이펠 노드를 통해 행렬분해가 무엇이고, 어떤 원리를 통해 진행되는지 알 수 있었다. \n",
    "\n",
    "이번노드를 통해 우리가 흔히 말하는 '알고리즘'이 대략적으로 어떤 방식으로 돌아가는지 조금이나마 배울 수 있었고, 그래프 기반 추천 시스템에도 관심이 생겼다.\n",
    "\n"
   ]
  },
  {
   "cell_type": "code",
   "execution_count": null,
   "id": "c2940365",
   "metadata": {},
   "outputs": [],
   "source": []
  }
 ],
 "metadata": {
  "kernelspec": {
   "display_name": "Python 3 (ipykernel)",
   "language": "python",
   "name": "python3"
  },
  "language_info": {
   "codemirror_mode": {
    "name": "ipython",
    "version": 3
   },
   "file_extension": ".py",
   "mimetype": "text/x-python",
   "name": "python",
   "nbconvert_exporter": "python",
   "pygments_lexer": "ipython3",
   "version": "3.9.7"
  }
 },
 "nbformat": 4,
 "nbformat_minor": 5
}
