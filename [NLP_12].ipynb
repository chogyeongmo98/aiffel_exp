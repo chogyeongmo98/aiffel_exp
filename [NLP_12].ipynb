{
  "nbformat": 4,
  "nbformat_minor": 0,
  "metadata": {
    "colab": {
      "name": "[NLP-12].ipynb",
      "provenance": []
    },
    "kernelspec": {
      "name": "python3",
      "display_name": "Python 3"
    },
    "language_info": {
      "name": "python"
    }
  },
  "cells": [
    {
      "cell_type": "code",
      "execution_count": null,
      "metadata": {
        "id": "FxJuYF5ACX_O"
      },
      "outputs": [],
      "source": [
        ""
      ]
    }
  ]
}