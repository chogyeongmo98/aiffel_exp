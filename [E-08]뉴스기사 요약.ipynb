{
 "cells": [
  {
   "cell_type": "code",
   "execution_count": 2,
   "id": "d53af4ad",
   "metadata": {},
   "outputs": [
    {
     "name": "stderr",
     "output_type": "stream",
     "text": [
      "[nltk_data] Downloading package stopwords to /aiffel/nltk_data...\n",
      "[nltk_data]   Unzipping corpora/stopwords.zip.\n"
     ]
    }
   ],
   "source": [
    "import nltk\n",
    "nltk.download('stopwords')\n",
    "\n",
    "import numpy as np\n",
    "import pandas as pd\n",
    "import os\n",
    "import re\n",
    "import matplotlib.pyplot as plt\n",
    "from nltk.corpus import stopwords\n",
    "from bs4 import BeautifulSoup \n",
    "from tensorflow.keras.preprocessing.text import Tokenizer \n",
    "from tensorflow.keras.preprocessing.sequence import pad_sequences\n",
    "import urllib.request\n",
    "import warnings\n",
    "warnings.filterwarnings(\"ignore\", category=UserWarning, module='bs4')\n",
    "\n"
   ]
  },
  {
   "cell_type": "markdown",
   "id": "47ff1819",
   "metadata": {},
   "source": [
    "## 1. 데이터 준비하기"
   ]
  },
  {
   "cell_type": "code",
   "execution_count": 3,
   "id": "ba94fe94",
   "metadata": {},
   "outputs": [],
   "source": [
    "import urllib.request\n",
    "urllib.request.urlretrieve(\"https://raw.githubusercontent.com/sunnysai12345/News_Summary/master/news_summary_more.csv\", filename=\"news_summary_more.csv\")\n",
    "data = pd.read_csv('news_summary_more.csv', encoding='iso-8859-1')"
   ]
  },
  {
   "cell_type": "code",
   "execution_count": 4,
   "id": "970e8a42",
   "metadata": {},
   "outputs": [
    {
     "data": {
      "text/html": [
       "<div>\n",
       "<style scoped>\n",
       "    .dataframe tbody tr th:only-of-type {\n",
       "        vertical-align: middle;\n",
       "    }\n",
       "\n",
       "    .dataframe tbody tr th {\n",
       "        vertical-align: top;\n",
       "    }\n",
       "\n",
       "    .dataframe thead th {\n",
       "        text-align: right;\n",
       "    }\n",
       "</style>\n",
       "<table border=\"1\" class=\"dataframe\">\n",
       "  <thead>\n",
       "    <tr style=\"text-align: right;\">\n",
       "      <th></th>\n",
       "      <th>headlines</th>\n",
       "      <th>text</th>\n",
       "    </tr>\n",
       "  </thead>\n",
       "  <tbody>\n",
       "    <tr>\n",
       "      <th>0</th>\n",
       "      <td>upGrad learner switches to career in ML &amp; Al w...</td>\n",
       "      <td>Saurav Kant, an alumnus of upGrad and IIIT-B's...</td>\n",
       "    </tr>\n",
       "    <tr>\n",
       "      <th>1</th>\n",
       "      <td>Delhi techie wins free food from Swiggy for on...</td>\n",
       "      <td>Kunal Shah's credit card bill payment platform...</td>\n",
       "    </tr>\n",
       "    <tr>\n",
       "      <th>2</th>\n",
       "      <td>New Zealand end Rohit Sharma-led India's 12-ma...</td>\n",
       "      <td>New Zealand defeated India by 8 wickets in the...</td>\n",
       "    </tr>\n",
       "    <tr>\n",
       "      <th>3</th>\n",
       "      <td>Aegon life iTerm insurance plan helps customer...</td>\n",
       "      <td>With Aegon Life iTerm Insurance plan, customer...</td>\n",
       "    </tr>\n",
       "    <tr>\n",
       "      <th>4</th>\n",
       "      <td>Have known Hirani for yrs, what if MeToo claim...</td>\n",
       "      <td>Speaking about the sexual harassment allegatio...</td>\n",
       "    </tr>\n",
       "  </tbody>\n",
       "</table>\n",
       "</div>"
      ],
      "text/plain": [
       "                                           headlines  \\\n",
       "0  upGrad learner switches to career in ML & Al w...   \n",
       "1  Delhi techie wins free food from Swiggy for on...   \n",
       "2  New Zealand end Rohit Sharma-led India's 12-ma...   \n",
       "3  Aegon life iTerm insurance plan helps customer...   \n",
       "4  Have known Hirani for yrs, what if MeToo claim...   \n",
       "\n",
       "                                                text  \n",
       "0  Saurav Kant, an alumnus of upGrad and IIIT-B's...  \n",
       "1  Kunal Shah's credit card bill payment platform...  \n",
       "2  New Zealand defeated India by 8 wickets in the...  \n",
       "3  With Aegon Life iTerm Insurance plan, customer...  \n",
       "4  Speaking about the sexual harassment allegatio...  "
      ]
     },
     "execution_count": 4,
     "metadata": {},
     "output_type": "execute_result"
    }
   ],
   "source": [
    "data.head()"
   ]
  },
  {
   "cell_type": "code",
   "execution_count": 5,
   "id": "c05d0a04",
   "metadata": {},
   "outputs": [
    {
     "data": {
      "text/plain": [
       "(98401, 2)"
      ]
     },
     "execution_count": 5,
     "metadata": {},
     "output_type": "execute_result"
    }
   ],
   "source": [
    "data.shape"
   ]
  },
  {
   "cell_type": "markdown",
   "id": "abb6e257",
   "metadata": {},
   "source": [
    "## 2. 데이터 전처리하기"
   ]
  },
  {
   "cell_type": "code",
   "execution_count": 6,
   "id": "59bab0a6",
   "metadata": {},
   "outputs": [
    {
     "name": "stdout",
     "output_type": "stream",
     "text": [
      "text 열에서 중복을 배제한 유일한 샘플의 수 : 98360\n",
      "headlines 열에서 중복을 배제한 유일한 샘플의 수 : 98280\n"
     ]
    }
   ],
   "source": [
    "# 중복 샘플이 있는지 확인\n",
    "print('text 열에서 중복을 배제한 유일한 샘플의 수 :', data['text'].nunique())\n",
    "print('headlines 열에서 중복을 배제한 유일한 샘플의 수 :', data['headlines'].nunique())"
   ]
  },
  {
   "cell_type": "markdown",
   "id": "135d04f8",
   "metadata": {},
   "source": [
    "중복 배제 샘플 수 = 기존 수 이므로 text 열에서 중복인 샘플은 없다."
   ]
  },
  {
   "cell_type": "code",
   "execution_count": 7,
   "id": "9b2063ea",
   "metadata": {},
   "outputs": [
    {
     "name": "stdout",
     "output_type": "stream",
     "text": [
      "headlines    0\n",
      "text         0\n",
      "dtype: int64\n"
     ]
    }
   ],
   "source": [
    "#null 값이 있는지 확인\n",
    "print(data.isnull().sum())"
   ]
  },
  {
   "cell_type": "code",
   "execution_count": 8,
   "id": "06202c53",
   "metadata": {},
   "outputs": [],
   "source": [
    "#텍스트 정규화 \n",
    "contractions = {\"ain't\": \"is not\", \"aren't\": \"are not\",\"can't\": \"cannot\", \"'cause\": \"because\", \"could've\": \"could have\", \"couldn't\": \"could not\",\n",
    "                           \"didn't\": \"did not\",  \"doesn't\": \"does not\", \"don't\": \"do not\", \"hadn't\": \"had not\", \"hasn't\": \"has not\", \"haven't\": \"have not\",\n",
    "                           \"he'd\": \"he would\",\"he'll\": \"he will\", \"he's\": \"he is\", \"how'd\": \"how did\", \"how'd'y\": \"how do you\", \"how'll\": \"how will\", \"how's\": \"how is\",\n",
    "                           \"I'd\": \"I would\", \"I'd've\": \"I would have\", \"I'll\": \"I will\", \"I'll've\": \"I will have\",\"I'm\": \"I am\", \"I've\": \"I have\", \"i'd\": \"i would\",\n",
    "                           \"i'd've\": \"i would have\", \"i'll\": \"i will\",  \"i'll've\": \"i will have\",\"i'm\": \"i am\", \"i've\": \"i have\", \"isn't\": \"is not\", \"it'd\": \"it would\",\n",
    "                           \"it'd've\": \"it would have\", \"it'll\": \"it will\", \"it'll've\": \"it will have\",\"it's\": \"it is\", \"let's\": \"let us\", \"ma'am\": \"madam\",\n",
    "                           \"mayn't\": \"may not\", \"might've\": \"might have\",\"mightn't\": \"might not\",\"mightn't've\": \"might not have\", \"must've\": \"must have\",\n",
    "                           \"mustn't\": \"must not\", \"mustn't've\": \"must not have\", \"needn't\": \"need not\", \"needn't've\": \"need not have\",\"o'clock\": \"of the clock\",\n",
    "                           \"oughtn't\": \"ought not\", \"oughtn't've\": \"ought not have\", \"shan't\": \"shall not\", \"sha'n't\": \"shall not\", \"shan't've\": \"shall not have\",\n",
    "                           \"she'd\": \"she would\", \"she'd've\": \"she would have\", \"she'll\": \"she will\", \"she'll've\": \"she will have\", \"she's\": \"she is\",\n",
    "                           \"should've\": \"should have\", \"shouldn't\": \"should not\", \"shouldn't've\": \"should not have\", \"so've\": \"so have\",\"so's\": \"so as\",\n",
    "                           \"this's\": \"this is\",\"that'd\": \"that would\", \"that'd've\": \"that would have\", \"that's\": \"that is\", \"there'd\": \"there would\",\n",
    "                           \"there'd've\": \"there would have\", \"there's\": \"there is\", \"here's\": \"here is\",\"they'd\": \"they would\", \"they'd've\": \"they would have\",\n",
    "                           \"they'll\": \"they will\", \"they'll've\": \"they will have\", \"they're\": \"they are\", \"they've\": \"they have\", \"to've\": \"to have\",\n",
    "                           \"wasn't\": \"was not\", \"we'd\": \"we would\", \"we'd've\": \"we would have\", \"we'll\": \"we will\", \"we'll've\": \"we will have\", \"we're\": \"we are\",\n",
    "                           \"we've\": \"we have\", \"weren't\": \"were not\", \"what'll\": \"what will\", \"what'll've\": \"what will have\", \"what're\": \"what are\",\n",
    "                           \"what's\": \"what is\", \"what've\": \"what have\", \"when's\": \"when is\", \"when've\": \"when have\", \"where'd\": \"where did\", \"where's\": \"where is\",\n",
    "                           \"where've\": \"where have\", \"who'll\": \"who will\", \"who'll've\": \"who will have\", \"who's\": \"who is\", \"who've\": \"who have\",\n",
    "                           \"why's\": \"why is\", \"why've\": \"why have\", \"will've\": \"will have\", \"won't\": \"will not\", \"won't've\": \"will not have\",\n",
    "                           \"would've\": \"would have\", \"wouldn't\": \"would not\", \"wouldn't've\": \"would not have\", \"y'all\": \"you all\",\n",
    "                           \"y'all'd\": \"you all would\",\"y'all'd've\": \"you all would have\",\"y'all're\": \"you all are\",\"y'all've\": \"you all have\",\n",
    "                           \"you'd\": \"you would\", \"you'd've\": \"you would have\", \"you'll\": \"you will\", \"you'll've\": \"you will have\",\n",
    "                           \"you're\": \"you are\", \"you've\": \"you have\"}\n"
   ]
  },
  {
   "cell_type": "code",
   "execution_count": 9,
   "id": "e6e541be",
   "metadata": {},
   "outputs": [
    {
     "name": "stdout",
     "output_type": "stream",
     "text": [
      "불용어 개수 : 179\n",
      "['i', 'me', 'my', 'myself', 'we', 'our', 'ours', 'ourselves', 'you', \"you're\", \"you've\", \"you'll\", \"you'd\", 'your', 'yours', 'yourself', 'yourselves', 'he', 'him', 'his', 'himself', 'she', \"she's\", 'her', 'hers', 'herself', 'it', \"it's\", 'its', 'itself', 'they', 'them', 'their', 'theirs', 'themselves', 'what', 'which', 'who', 'whom', 'this', 'that', \"that'll\", 'these', 'those', 'am', 'is', 'are', 'was', 'were', 'be', 'been', 'being', 'have', 'has', 'had', 'having', 'do', 'does', 'did', 'doing', 'a', 'an', 'the', 'and', 'but', 'if', 'or', 'because', 'as', 'until', 'while', 'of', 'at', 'by', 'for', 'with', 'about', 'against', 'between', 'into', 'through', 'during', 'before', 'after', 'above', 'below', 'to', 'from', 'up', 'down', 'in', 'out', 'on', 'off', 'over', 'under', 'again', 'further', 'then', 'once', 'here', 'there', 'when', 'where', 'why', 'how', 'all', 'any', 'both', 'each', 'few', 'more', 'most', 'other', 'some', 'such', 'no', 'nor', 'not', 'only', 'own', 'same', 'so', 'than', 'too', 'very', 's', 't', 'can', 'will', 'just', 'don', \"don't\", 'should', \"should've\", 'now', 'd', 'll', 'm', 'o', 're', 've', 'y', 'ain', 'aren', \"aren't\", 'couldn', \"couldn't\", 'didn', \"didn't\", 'doesn', \"doesn't\", 'hadn', \"hadn't\", 'hasn', \"hasn't\", 'haven', \"haven't\", 'isn', \"isn't\", 'ma', 'mightn', \"mightn't\", 'mustn', \"mustn't\", 'needn', \"needn't\", 'shan', \"shan't\", 'shouldn', \"shouldn't\", 'wasn', \"wasn't\", 'weren', \"weren't\", 'won', \"won't\", 'wouldn', \"wouldn't\"]\n"
     ]
    }
   ],
   "source": [
    "#NLTK에서 제공하는 불용어\n",
    "print('불용어 개수 :', len(stopwords.words('english') ))\n",
    "print(stopwords.words('english'))"
   ]
  },
  {
   "cell_type": "code",
   "execution_count": 10,
   "id": "3ffab4d8",
   "metadata": {},
   "outputs": [],
   "source": [
    "#위 두 함수를 이용해 텍스트 정규화와 불용어를 제거하고 텍스트를 전처리하는 함수 생성\n",
    "# 데이터 전처리 함수\n",
    "def preprocess_sentence(sentence, remove_stopwords=True):\n",
    "    sentence = sentence.lower() # 텍스트 소문자화\n",
    "    sentence = BeautifulSoup(sentence, \"lxml\").text # <br />, <a href = ...> 등의 html 태그 제거\n",
    "    sentence = re.sub(r'\\([^)]*\\)', '', sentence) # 괄호로 닫힌 문자열 (...) 제거 Ex) my husband (and myself!) for => my husband for\n",
    "    sentence = re.sub('\"','', sentence) # 쌍따옴표 \" 제거\n",
    "    sentence = ' '.join([contractions[t] if t in contractions else t for t in sentence.split(\" \")]) # 약어 정규화\n",
    "    sentence = re.sub(r\"'s\\b\",\"\", sentence) # 소유격 제거. Ex) roland's -> roland\n",
    "    sentence = re.sub(\"[^a-zA-Z]\", \" \", sentence) # 영어 외 문자(숫자, 특수문자 등) 공백으로 변환\n",
    "    sentence = re.sub('[m]{2,}', 'mm', sentence) # m이 3개 이상이면 2개로 변경. Ex) ummmmmmm yeah -> umm yeah\n",
    "    \n",
    "    # 불용어 제거 (Text)\n",
    "    if remove_stopwords:\n",
    "        tokens = ' '.join(word for word in sentence.split() if not word in stopwords.words('english') if len(word) > 1)\n",
    "    # 불용어 미제거 (headlines)\n",
    "    else:\n",
    "        tokens = ' '.join(word for word in sentence.split() if len(word) > 1)\n",
    "    return tokens\n"
   ]
  },
  {
   "cell_type": "code",
   "execution_count": 11,
   "id": "b2fc37c1",
   "metadata": {},
   "outputs": [
    {
     "name": "stdout",
     "output_type": "stream",
     "text": [
      "text:  everything bought great infact ordered twice third ordered wasfor mother father\n",
      "summary: great way to start the day\n"
     ]
    }
   ],
   "source": [
    "# 함수에 한번 전처리 샘플을 넣어보자\n",
    "temp_text = 'Everything I bought was great, infact I ordered twice and the third ordered was<br />for my mother and father.'\n",
    "temp_summary = 'Great way to start (or finish) the day!!!'\n",
    "\n",
    "print(\"text: \", preprocess_sentence(temp_text))\n",
    "print(\"summary:\", preprocess_sentence(temp_summary, False))  # 불용어를 제거하지 않습니다."
   ]
  },
  {
   "cell_type": "code",
   "execution_count": 12,
   "id": "ed06fca2",
   "metadata": {},
   "outputs": [
    {
     "name": "stdout",
     "output_type": "stream",
     "text": [
      "Text 전처리 후 결과:  ['saurav kant alumnus upgrad iiit pg program machine learning artificial intelligence sr systems engineer infosys almost years work experience program upgrad degree career support helped transition data scientist tech mahindra salary hike upgrad online power learning powered lakh careers', 'kunal shah credit card bill payment platform cred gave users chance win free food swiggy one year pranav kaushik delhi techie bagged reward spending cred coins users get one cred coin per rupee bill paid used avail rewards brands like ixigo bookmyshow ubereats cult fit', 'new zealand defeated india wickets fourth odi hamilton thursday win first match five match odi series india lost international match rohit sharma captaincy consecutive victories dating back march match witnessed india getting seventh lowest total odi cricket history', 'aegon life iterm insurance plan customers enjoy tax benefits premiums paid save taxes plan provides life cover age years also customers options insure critical illnesses disability accidental death benefit rider life cover age years', 'speaking sexual harassment allegations rajkumar hirani sonam kapoor said known hirani many years true metoo movement get derailed metoo movement always believe woman case need reserve judgment added hirani accused assistant worked sanju']\n"
     ]
    }
   ],
   "source": [
    "#훈련 데이터에 적용해보자. 일단 text 열부터 수행\n",
    "clean_text = []\n",
    "for s in data['text']:\n",
    "    clean_text.append(preprocess_sentence(s))\n",
    "\n",
    "# 전처리 후 출력\n",
    "print(\"Text 전처리 후 결과: \", clean_text[:5])"
   ]
  },
  {
   "cell_type": "code",
   "execution_count": 13,
   "id": "26169a7e",
   "metadata": {},
   "outputs": [
    {
     "name": "stdout",
     "output_type": "stream",
     "text": [
      "Summary 전처리 후 결과:  ['upgrad learner switches to career in ml al with salary hike', 'delhi techie wins free food from swiggy for one year on cred', 'new zealand end rohit sharma led india match winning streak', 'aegon life iterm insurance plan helps customers save tax', 'have known hirani for yrs what if metoo claims are not true sonam']\n"
     ]
    }
   ],
   "source": [
    "# headlines 열 수행\n",
    "clean_summary = []\n",
    "\n",
    "for s in data['headlines']:\n",
    "    clean_summary.append(preprocess_sentence(s, False)) # 불용어 제거를 안하기 때문에 false\n",
    "\n",
    "print(\"Summary 전처리 후 결과: \", clean_summary[:5])"
   ]
  },
  {
   "cell_type": "code",
   "execution_count": 14,
   "id": "6fe372d6",
   "metadata": {},
   "outputs": [],
   "source": [
    "# 전처리된 텍스트가 빈 값을 갖는다면 Null로 변환\n",
    "data['text'] = clean_text\n",
    "data['headlines'] = clean_summary\n",
    "\n",
    "\n",
    "data.replace('', np.nan, inplace=True)"
   ]
  },
  {
   "cell_type": "code",
   "execution_count": 15,
   "id": "e10ec12f",
   "metadata": {},
   "outputs": [
    {
     "data": {
      "text/plain": [
       "headlines    0\n",
       "text         0\n",
       "dtype: int64"
      ]
     },
     "execution_count": 15,
     "metadata": {},
     "output_type": "execute_result"
    }
   ],
   "source": [
    "data.isnull().sum()"
   ]
  },
  {
   "cell_type": "code",
   "execution_count": 16,
   "id": "bc6a3fc6",
   "metadata": {},
   "outputs": [
    {
     "name": "stdout",
     "output_type": "stream",
     "text": [
      "텍스트의 최소 길이 : 1\n",
      "텍스트의 최대 길이 : 60\n",
      "텍스트의 평균 길이 : 35.09983638377659\n",
      "요약의 최소 길이 : 1\n",
      "요약의 최대 길이 : 16\n",
      "요약의 평균 길이 : 9.299651426306644\n"
     ]
    },
    {
     "data": {
      "image/png": "[encoded data removed]",
      "text/plain": [
       "<Figure size 432x288 with 2 Axes>"
      ]
     },
     "metadata": {
      "needs_background": "light"
     },
     "output_type": "display_data"
    },
    {
     "data": {
      "image/png": "[encoded data removed]",
      "text/plain": [
       "<Figure size 432x288 with 1 Axes>"
      ]
     },
     "metadata": {
      "needs_background": "light"
     },
     "output_type": "display_data"
    },
    {
     "data": {
      "image/png": "[encoded data removed]",
      "text/plain": [
       "<Figure size 432x288 with 1 Axes>"
      ]
     },
     "metadata": {
      "needs_background": "light"
     },
     "output_type": "display_data"
    }
   ],
   "source": [
    "# 텍스트 길이 분포 출력\n",
    "import matplotlib.pyplot as plt\n",
    "\n",
    "text_len = [len(s.split()) for s in data['text']]\n",
    "summary_len = [len(s.split()) for s in data['headlines']]\n",
    "\n",
    "print('텍스트의 최소 길이 : {}'.format(np.min(text_len)))\n",
    "print('텍스트의 최대 길이 : {}'.format(np.max(text_len)))\n",
    "print('텍스트의 평균 길이 : {}'.format(np.mean(text_len)))\n",
    "print('요약의 최소 길이 : {}'.format(np.min(summary_len)))\n",
    "print('요약의 최대 길이 : {}'.format(np.max(summary_len)))\n",
    "print('요약의 평균 길이 : {}'.format(np.mean(summary_len)))\n",
    "\n",
    "plt.subplot(1,2,1)\n",
    "plt.boxplot(text_len)\n",
    "plt.title('Text')\n",
    "plt.subplot(1,2,2)\n",
    "plt.boxplot(summary_len)\n",
    "plt.title('Summary')\n",
    "plt.tight_layout()\n",
    "plt.show()\n",
    "\n",
    "plt.title('Text')\n",
    "plt.hist(text_len, bins = 40)\n",
    "plt.xlabel('length of samples')\n",
    "plt.ylabel('number of samples')\n",
    "plt.show()\n",
    "\n",
    "plt.title('Summary')\n",
    "plt.hist(summary_len, bins = 40)\n",
    "plt.xlabel('length of samples')\n",
    "plt.ylabel('number of samples')\n",
    "plt.show()"
   ]
  },
  {
   "cell_type": "code",
   "execution_count": 17,
   "id": "94dd3a65",
   "metadata": {},
   "outputs": [],
   "source": [
    "#max_len 설정\n",
    "text_max_len = 40\n",
    "headlines_max_len = 10\n"
   ]
  },
  {
   "cell_type": "code",
   "execution_count": 18,
   "id": "a9c9a695",
   "metadata": {},
   "outputs": [],
   "source": [
    "def below_threshold_len(max_len, nested_list):\n",
    "  cnt = 0\n",
    "  for s in nested_list:\n",
    "    if(len(s.split()) <= max_len):\n",
    "        cnt = cnt + 1\n",
    "  print('전체 샘플 중 길이가 %s 이하인 샘플의 비율: %s'%(max_len, (cnt / len(nested_list))))\n"
   ]
  },
  {
   "cell_type": "code",
   "execution_count": 20,
   "id": "beb0001e",
   "metadata": {},
   "outputs": [
    {
     "name": "stdout",
     "output_type": "stream",
     "text": [
      "전체 샘플 중 길이가 40 이하인 샘플의 비율: 0.9238320748772878\n",
      "전체 샘플 중 길이가 10 이하인 샘플의 비율: 0.8162823548541174\n"
     ]
    }
   ],
   "source": [
    "below_threshold_len(text_max_len, data['text'])\n",
    "below_threshold_len(headlines_max_len,  data['headlines'])"
   ]
  },
  {
   "cell_type": "code",
   "execution_count": 21,
   "id": "d396bbb0",
   "metadata": {},
   "outputs": [
    {
     "name": "stdout",
     "output_type": "stream",
     "text": [
      "전체 샘플수 : 74128\n"
     ]
    }
   ],
   "source": [
    "#max_len보다 작은 텍스트로만 구성\n",
    "data = data[data['text'].apply(lambda x: len(x.split()) <= text_max_len)]\n",
    "data = data[data['headlines'].apply(lambda x: len(x.split()) <= headlines_max_len)]\n",
    "print('전체 샘플수 :', (len(data)))"
   ]
  },
  {
   "cell_type": "code",
   "execution_count": 22,
   "id": "d0c0fedb",
   "metadata": {},
   "outputs": [
    {
     "data": {
      "text/html": [
       "<div>\n",
       "<style scoped>\n",
       "    .dataframe tbody tr th:only-of-type {\n",
       "        vertical-align: middle;\n",
       "    }\n",
       "\n",
       "    .dataframe tbody tr th {\n",
       "        vertical-align: top;\n",
       "    }\n",
       "\n",
       "    .dataframe thead th {\n",
       "        text-align: right;\n",
       "    }\n",
       "</style>\n",
       "<table border=\"1\" class=\"dataframe\">\n",
       "  <thead>\n",
       "    <tr style=\"text-align: right;\">\n",
       "      <th></th>\n",
       "      <th>headlines</th>\n",
       "      <th>text</th>\n",
       "      <th>decoder_input</th>\n",
       "      <th>decoder_target</th>\n",
       "    </tr>\n",
       "  </thead>\n",
       "  <tbody>\n",
       "    <tr>\n",
       "      <th>2</th>\n",
       "      <td>new zealand end rohit sharma led india match w...</td>\n",
       "      <td>new zealand defeated india wickets fourth odi ...</td>\n",
       "      <td>sostoken new zealand end rohit sharma led indi...</td>\n",
       "      <td>new zealand end rohit sharma led india match w...</td>\n",
       "    </tr>\n",
       "    <tr>\n",
       "      <th>3</th>\n",
       "      <td>aegon life iterm insurance plan helps customer...</td>\n",
       "      <td>aegon life iterm insurance plan customers enjo...</td>\n",
       "      <td>sostoken aegon life iterm insurance plan helps...</td>\n",
       "      <td>aegon life iterm insurance plan helps customer...</td>\n",
       "    </tr>\n",
       "    <tr>\n",
       "      <th>5</th>\n",
       "      <td>rahat fateh ali khan denies getting notice for...</td>\n",
       "      <td>pakistani singer rahat fateh ali khan denied r...</td>\n",
       "      <td>sostoken rahat fateh ali khan denies getting n...</td>\n",
       "      <td>rahat fateh ali khan denies getting notice for...</td>\n",
       "    </tr>\n",
       "    <tr>\n",
       "      <th>9</th>\n",
       "      <td>cong wins ramgarh bypoll in rajasthan takes to...</td>\n",
       "      <td>congress candidate shafia zubair ramgarh assem...</td>\n",
       "      <td>sostoken cong wins ramgarh bypoll in rajasthan...</td>\n",
       "      <td>cong wins ramgarh bypoll in rajasthan takes to...</td>\n",
       "    </tr>\n",
       "    <tr>\n",
       "      <th>10</th>\n",
       "      <td>up cousins fed human excreta for friendship wi...</td>\n",
       "      <td>two minor cousins uttar pradesh gorakhpur alle...</td>\n",
       "      <td>sostoken up cousins fed human excreta for frie...</td>\n",
       "      <td>up cousins fed human excreta for friendship wi...</td>\n",
       "    </tr>\n",
       "  </tbody>\n",
       "</table>\n",
       "</div>"
      ],
      "text/plain": [
       "                                            headlines  \\\n",
       "2   new zealand end rohit sharma led india match w...   \n",
       "3   aegon life iterm insurance plan helps customer...   \n",
       "5   rahat fateh ali khan denies getting notice for...   \n",
       "9   cong wins ramgarh bypoll in rajasthan takes to...   \n",
       "10  up cousins fed human excreta for friendship wi...   \n",
       "\n",
       "                                                 text  \\\n",
       "2   new zealand defeated india wickets fourth odi ...   \n",
       "3   aegon life iterm insurance plan customers enjo...   \n",
       "5   pakistani singer rahat fateh ali khan denied r...   \n",
       "9   congress candidate shafia zubair ramgarh assem...   \n",
       "10  two minor cousins uttar pradesh gorakhpur alle...   \n",
       "\n",
       "                                        decoder_input  \\\n",
       "2   sostoken new zealand end rohit sharma led indi...   \n",
       "3   sostoken aegon life iterm insurance plan helps...   \n",
       "5   sostoken rahat fateh ali khan denies getting n...   \n",
       "9   sostoken cong wins ramgarh bypoll in rajasthan...   \n",
       "10  sostoken up cousins fed human excreta for frie...   \n",
       "\n",
       "                                       decoder_target  \n",
       "2   new zealand end rohit sharma led india match w...  \n",
       "3   aegon life iterm insurance plan helps customer...  \n",
       "5   rahat fateh ali khan denies getting notice for...  \n",
       "9   cong wins ramgarh bypoll in rajasthan takes to...  \n",
       "10  up cousins fed human excreta for friendship wi...  "
      ]
     },
     "execution_count": 22,
     "metadata": {},
     "output_type": "execute_result"
    }
   ],
   "source": [
    "#요약 데이터에 시작 토큰과 종료 토큰 추가\n",
    "data['decoder_input'] = data['headlines'].apply(lambda x : 'sostoken '+ x)\n",
    "data['decoder_target'] = data['headlines'].apply(lambda x : x + ' eostoken')\n",
    "data.head()"
   ]
  },
  {
   "cell_type": "code",
   "execution_count": 23,
   "id": "e3c69087",
   "metadata": {},
   "outputs": [],
   "source": [
    "#numpy 형태로 변경\n",
    "encoder_input = np.array(data['text']) # 인코더의 입력\n",
    "decoder_input = np.array(data['decoder_input']) # 디코더의 입력\n",
    "decoder_target = np.array(data['decoder_target']) # 디코더의 레이블\n"
   ]
  },
  {
   "cell_type": "code",
   "execution_count": 24,
   "id": "66678177",
   "metadata": {},
   "outputs": [],
   "source": [
    "#훈련 데이터, 테스트 데이터 분리위해 데이터 섞기 \n",
    "indices = np.arange(encoder_input.shape[0])\n",
    "np.random.shuffle(indices)\n",
    "\n",
    "encoder_input = encoder_input[indices]\n",
    "decoder_input = decoder_input[indices]\n",
    "decoder_target = decoder_target[indices]"
   ]
  },
  {
   "cell_type": "code",
   "execution_count": 25,
   "id": "ba22c90f",
   "metadata": {},
   "outputs": [
    {
     "name": "stdout",
     "output_type": "stream",
     "text": [
      "테스트 데이터의 수 : 14825\n"
     ]
    }
   ],
   "source": [
    "# 20%를 validation data로 분리\n",
    "n_of_val = int(len(encoder_input)*0.2)\n",
    "print('테스트 데이터의 수 :', n_of_val)"
   ]
  },
  {
   "cell_type": "code",
   "execution_count": 26,
   "id": "55589e4b",
   "metadata": {},
   "outputs": [
    {
     "name": "stdout",
     "output_type": "stream",
     "text": [
      "훈련 데이터의 개수 : 59303\n",
      "훈련 레이블의 개수 : 59303\n",
      "테스트 데이터의 개수 : 14825\n",
      "테스트 레이블의 개수 : 14825\n"
     ]
    }
   ],
   "source": [
    "encoder_input_train = encoder_input[:-n_of_val]\n",
    "decoder_input_train = decoder_input[:-n_of_val]\n",
    "decoder_target_train = decoder_target[:-n_of_val]\n",
    "\n",
    "encoder_input_test = encoder_input[-n_of_val:]\n",
    "decoder_input_test = decoder_input[-n_of_val:]\n",
    "decoder_target_test = decoder_target[-n_of_val:]\n",
    "\n",
    "print('훈련 데이터의 개수 :', len(encoder_input_train))\n",
    "print('훈련 레이블의 개수 :', len(decoder_input_train))\n",
    "print('테스트 데이터의 개수 :', len(encoder_input_test))\n",
    "print('테스트 레이블의 개수 :', len(decoder_input_test))"
   ]
  },
  {
   "cell_type": "code",
   "execution_count": 27,
   "id": "afad0228",
   "metadata": {},
   "outputs": [],
   "source": [
    "#토크나이저를 이용하여 단어 집합 만들기\n",
    "src_tokenizer = Tokenizer() # 토크나이저 정의\n",
    "src_tokenizer.fit_on_texts(encoder_input_train) # 입력된 데이터로부터 단어 집합 생성"
   ]
  },
  {
   "cell_type": "code",
   "execution_count": 28,
   "id": "a23babbf",
   "metadata": {},
   "outputs": [
    {
     "name": "stdout",
     "output_type": "stream",
     "text": [
      "단어 집합(vocabulary)의 크기 : 61381\n",
      "등장 빈도가 6번 이하인 희귀 단어의 수: 42045\n",
      "단어 집합에서 희귀 단어를 제외시킬 경우의 단어 집합의 크기 19336\n",
      "단어 집합에서 희귀 단어의 비율: 68.49839526889428\n",
      "전체 등장 빈도에서 희귀 단어 등장 빈도 비율: 4.175435790508476\n"
     ]
    }
   ],
   "source": [
    "threshold = 7\n",
    "total_cnt = len(src_tokenizer.word_index) # 단어의 수\n",
    "rare_cnt = 0 # 등장 빈도수가 threshold보다 작은 단어의 개수를 카운트\n",
    "total_freq = 0 # 훈련 데이터의 전체 단어 빈도수 총 합\n",
    "rare_freq = 0 # 등장 빈도수가 threshold보다 작은 단어의 등장 빈도수의 총 합\n",
    "\n",
    "# 단어와 빈도수의 쌍(pair)을 key와 value로 받는다.\n",
    "for key, value in src_tokenizer.word_counts.items():\n",
    "    total_freq = total_freq + value\n",
    "\n",
    "    # 단어의 등장 빈도수가 threshold보다 작으면\n",
    "    if(value < threshold):\n",
    "        rare_cnt = rare_cnt + 1\n",
    "        rare_freq = rare_freq + value\n",
    "\n",
    "print('단어 집합(vocabulary)의 크기 :', total_cnt)\n",
    "print('등장 빈도가 %s번 이하인 희귀 단어의 수: %s'%(threshold - 1, rare_cnt))\n",
    "print('단어 집합에서 희귀 단어를 제외시킬 경우의 단어 집합의 크기 %s'%(total_cnt - rare_cnt))\n",
    "print(\"단어 집합에서 희귀 단어의 비율:\", (rare_cnt / total_cnt)*100)\n",
    "print(\"전체 등장 빈도에서 희귀 단어 등장 빈도 비율:\", (rare_freq / total_freq)*100)"
   ]
  },
  {
   "cell_type": "markdown",
   "id": "b469f9c0",
   "metadata": {},
   "source": [
    "7번 미만인 희귀 단어 등장 빈도가 4%이기 때문에희귀 단어를 제외시킨다."
   ]
  },
  {
   "cell_type": "code",
   "execution_count": 29,
   "id": "e0e924c9",
   "metadata": {},
   "outputs": [],
   "source": [
    "src_vocab = 19000\n",
    "src_tokenizer = Tokenizer(num_words=src_vocab) # 단어 집합의 크기를 8,000으로 제한\n",
    "src_tokenizer.fit_on_texts(encoder_input_train) # 단어 집합 재생성"
   ]
  },
  {
   "cell_type": "code",
   "execution_count": 30,
   "id": "ca15198e",
   "metadata": {},
   "outputs": [
    {
     "name": "stdout",
     "output_type": "stream",
     "text": [
      "[[10614, 15118, 507, 18, 2281, 2821, 15118, 27, 19, 2590, 241, 569, 11351, 332, 2325, 15119, 9231, 2, 5680, 148, 642, 5462, 915, 430, 332, 371, 27, 47, 17, 2574, 3366, 5261, 7248], [1227, 13740, 223, 448, 134, 190, 135, 2191, 1321, 103, 310, 834, 6558, 6559, 13740, 2, 4132, 1073, 621, 135, 2191, 18001, 405, 13740, 6, 940], [59, 2477, 2797, 1, 1850, 16, 1748, 5014, 438, 2764, 164, 26, 686, 788, 182, 187, 1687, 122, 2996, 1966, 182, 1, 455, 971, 1502, 1479, 1189, 4301, 330, 217]]\n"
     ]
    }
   ],
   "source": [
    "#정수 인코딩 \n",
    "# 텍스트 시퀀스를 정수 시퀀스로 변환\n",
    "encoder_input_train = src_tokenizer.texts_to_sequences(encoder_input_train) \n",
    "encoder_input_test = src_tokenizer.texts_to_sequences(encoder_input_test)\n",
    "\n",
    "# 샘플 출력\n",
    "print(encoder_input_train[:3])"
   ]
  },
  {
   "cell_type": "code",
   "execution_count": 31,
   "id": "2dcc9e1d",
   "metadata": {},
   "outputs": [],
   "source": [
    "tar_tokenizer = Tokenizer()\n",
    "tar_tokenizer.fit_on_texts(decoder_input_train)"
   ]
  },
  {
   "cell_type": "code",
   "execution_count": 32,
   "id": "2aaf51ac",
   "metadata": {},
   "outputs": [
    {
     "name": "stdout",
     "output_type": "stream",
     "text": [
      "단어 집합(vocabulary)의 크기 : 27308\n",
      "등장 빈도가 4번 이하인 희귀 단어의 수: 17180\n",
      "단어 집합에서 희귀 단어를 제외시킬 경우의 단어 집합의 크기 10128\n",
      "단어 집합에서 희귀 단어의 비율: 62.91196718910209\n",
      "전체 등장 빈도에서 희귀 단어 등장 빈도 비율: 5.06734613338824\n"
     ]
    }
   ],
   "source": [
    "threshold = 5\n",
    "total_cnt = len(tar_tokenizer.word_index) # 단어의 수\n",
    "rare_cnt = 0 # 등장 빈도수가 threshold보다 작은 단어의 개수를 카운트\n",
    "total_freq = 0 # 훈련 데이터의 전체 단어 빈도수 총 합\n",
    "rare_freq = 0 # 등장 빈도수가 threshold보다 작은 단어의 등장 빈도수의 총 합\n",
    "\n",
    "# 단어와 빈도수의 쌍(pair)을 key와 value로 받는다.\n",
    "for key, value in tar_tokenizer.word_counts.items():\n",
    "    total_freq = total_freq + value\n",
    "\n",
    "    # 단어의 등장 빈도수가 threshold보다 작으면\n",
    "    if(value < threshold):\n",
    "        rare_cnt = rare_cnt + 1\n",
    "        rare_freq = rare_freq + value\n",
    "\n",
    "print('단어 집합(vocabulary)의 크기 :', total_cnt)\n",
    "print('등장 빈도가 %s번 이하인 희귀 단어의 수: %s'%(threshold - 1, rare_cnt))\n",
    "print('단어 집합에서 희귀 단어를 제외시킬 경우의 단어 집합의 크기 %s'%(total_cnt - rare_cnt))\n",
    "print(\"단어 집합에서 희귀 단어의 비율:\", (rare_cnt / total_cnt)*100)\n",
    "print(\"전체 등장 빈도에서 희귀 단어 등장 빈도 비율:\", (rare_freq / total_freq)*100)"
   ]
  },
  {
   "cell_type": "markdown",
   "id": "e68e6473",
   "metadata": {},
   "source": [
    "5번 미만인 희귀 단어 등장 빈도 5%이기 때문에희귀 단어를 제외시킨다."
   ]
  },
  {
   "cell_type": "code",
   "execution_count": 33,
   "id": "006add4e",
   "metadata": {},
   "outputs": [
    {
     "name": "stdout",
     "output_type": "stream",
     "text": [
      "input\n",
      "input  [[1, 2100, 3, 1305, 4, 12, 23, 1027, 3840], [1, 7554, 168, 10, 102, 403, 362, 4], [1, 4484, 4142, 5151, 5, 72, 210, 1661, 1559], [1, 2531, 1087, 5, 51, 3436, 6, 722, 544, 231], [1, 4682, 5419, 948, 4918, 37, 131, 7, 9, 2933]]\n",
      "target\n",
      "decoder  [[2100, 3, 1305, 4, 12, 23, 1027, 3840, 2], [7554, 168, 10, 102, 403, 362, 4, 2], [4484, 4142, 5151, 5, 72, 210, 1661, 1559, 2], [2531, 1087, 5, 51, 3436, 6, 722, 544, 231, 2], [4682, 5419, 948, 4918, 37, 131, 7, 9, 2933, 2]]\n"
     ]
    }
   ],
   "source": [
    "\n",
    "tar_vocab = 10000\n",
    "tar_tokenizer = Tokenizer(num_words=tar_vocab) \n",
    "tar_tokenizer.fit_on_texts(decoder_input_train)\n",
    "tar_tokenizer.fit_on_texts(decoder_target_train)\n",
    "\n",
    "# 텍스트 시퀀스를 정수 시퀀스로 변환\n",
    "decoder_input_train = tar_tokenizer.texts_to_sequences(decoder_input_train) \n",
    "decoder_target_train = tar_tokenizer.texts_to_sequences(decoder_target_train)\n",
    "decoder_input_test = tar_tokenizer.texts_to_sequences(decoder_input_test)\n",
    "decoder_target_test = tar_tokenizer.texts_to_sequences(decoder_target_test)\n",
    "\n",
    "# 잘 변환되었는지 확인\n",
    "print('input')\n",
    "print('input ',decoder_input_train[:5])\n",
    "print('target')\n",
    "print('decoder ',decoder_target_train[:5])"
   ]
  },
  {
   "cell_type": "code",
   "execution_count": 34,
   "id": "b51fd886",
   "metadata": {},
   "outputs": [
    {
     "name": "stdout",
     "output_type": "stream",
     "text": [
      "삭제할 훈련 데이터의 개수 : 0\n",
      "삭제할 테스트 데이터의 개수 : 0\n",
      "훈련 데이터의 개수 : 59303\n",
      "훈련 레이블의 개수 : 59303\n",
      "테스트 데이터의 개수 : 14825\n",
      "테스트 레이블의 개수 : 14825\n"
     ]
    }
   ],
   "source": [
    "#길이가 1인 샘플들은 빈 샘플이기 때문에 제거\n",
    "drop_train = [index for index, sentence in enumerate(decoder_input_train) if len(sentence) == 1]\n",
    "drop_test = [index for index, sentence in enumerate(decoder_input_test) if len(sentence) == 1]\n",
    "\n",
    "print('삭제할 훈련 데이터의 개수 :', len(drop_train))\n",
    "print('삭제할 테스트 데이터의 개수 :', len(drop_test))\n",
    "\n",
    "encoder_input_train = [sentence for index, sentence in enumerate(encoder_input_train) if index not in drop_train]\n",
    "decoder_input_train = [sentence for index, sentence in enumerate(decoder_input_train) if index not in drop_train]\n",
    "decoder_target_train = [sentence for index, sentence in enumerate(decoder_target_train) if index not in drop_train]\n",
    "\n",
    "encoder_input_test = [sentence for index, sentence in enumerate(encoder_input_test) if index not in drop_test]\n",
    "decoder_input_test = [sentence for index, sentence in enumerate(decoder_input_test) if index not in drop_test]\n",
    "decoder_target_test = [sentence for index, sentence in enumerate(decoder_target_test) if index not in drop_test]\n",
    "\n",
    "print('훈련 데이터의 개수 :', len(encoder_input_train))\n",
    "print('훈련 레이블의 개수 :', len(decoder_input_train))\n",
    "print('테스트 데이터의 개수 :', len(encoder_input_test))\n",
    "print('테스트 레이블의 개수 :', len(decoder_input_test))"
   ]
  },
  {
   "cell_type": "code",
   "execution_count": 36,
   "id": "9918c9ed",
   "metadata": {},
   "outputs": [],
   "source": [
    "#패딩\n",
    "encoder_input_train = pad_sequences(encoder_input_train, maxlen=text_max_len, padding='post')\n",
    "encoder_input_test = pad_sequences(encoder_input_test, maxlen=text_max_len, padding='post')\n",
    "decoder_input_train = pad_sequences(decoder_input_train, maxlen=headlines_max_len, padding='post')\n",
    "decoder_target_train = pad_sequences(decoder_target_train, maxlen=headlines_max_len, padding='post')\n",
    "decoder_input_test = pad_sequences(decoder_input_test, maxlen=headlines_max_len, padding='post')\n",
    "decoder_target_test = pad_sequences(decoder_target_test, maxlen=headlines_max_len, padding='post')\n"
   ]
  },
  {
   "cell_type": "markdown",
   "id": "1ff36686",
   "metadata": {},
   "source": [
    "## 3. 모델 설계"
   ]
  },
  {
   "cell_type": "code",
   "execution_count": 37,
   "id": "114c9b79",
   "metadata": {},
   "outputs": [
    {
     "name": "stdout",
     "output_type": "stream",
     "text": [
      "WARNING:tensorflow:Layer lstm will not use cuDNN kernels since it doesn't meet the criteria. It will use a generic GPU kernel as fallback when running on GPU.\n",
      "WARNING:tensorflow:Layer lstm_1 will not use cuDNN kernels since it doesn't meet the criteria. It will use a generic GPU kernel as fallback when running on GPU.\n",
      "WARNING:tensorflow:Layer lstm_2 will not use cuDNN kernels since it doesn't meet the criteria. It will use a generic GPU kernel as fallback when running on GPU.\n"
     ]
    }
   ],
   "source": [
    "from tensorflow.keras.layers import Input, LSTM, Embedding, Dense, Concatenate, TimeDistributed\n",
    "from tensorflow.keras.models import Model\n",
    "from tensorflow.keras.callbacks import EarlyStopping, ModelCheckpoint\n",
    "\n",
    "\n",
    "# 인코더 설계 시작\n",
    "embedding_dim = 128\n",
    "hidden_size = 256\n",
    "\n",
    "# 인코더\n",
    "encoder_inputs = Input(shape=(text_max_len,))\n",
    "\n",
    "# 인코더의 임베딩 층\n",
    "enc_emb = Embedding(src_vocab, embedding_dim)(encoder_inputs)\n",
    "\n",
    "# 인코더의 LSTM 1\n",
    "encoder_lstm1 = LSTM(hidden_size, return_sequences=True, return_state=True ,dropout = 0.4, recurrent_dropout = 0.4)\n",
    "encoder_output1, state_h1, state_c1 = encoder_lstm1(enc_emb)\n",
    "\n",
    "# 인코더의 LSTM 2\n",
    "encoder_lstm2 = LSTM(hidden_size, return_sequences=True, return_state=True, dropout=0.4, recurrent_dropout=0.4)\n",
    "encoder_output2, state_h2, state_c2 = encoder_lstm2(encoder_output1)\n",
    "\n",
    "# 인코더의 LSTM 3\n",
    "encoder_lstm3 = LSTM(hidden_size, return_state=True, return_sequences=True, dropout=0.4, recurrent_dropout=0.4)\n",
    "encoder_outputs, state_h, state_c= encoder_lstm3(encoder_output2)"
   ]
  },
  {
   "cell_type": "code",
   "execution_count": 39,
   "id": "b1735811",
   "metadata": {},
   "outputs": [
    {
     "name": "stdout",
     "output_type": "stream",
     "text": [
      "WARNING:tensorflow:Layer lstm_3 will not use cuDNN kernels since it doesn't meet the criteria. It will use a generic GPU kernel as fallback when running on GPU.\n"
     ]
    }
   ],
   "source": [
    "# 디코더 설계\n",
    "decoder_inputs = Input(shape=(None,))\n",
    "\n",
    "# 디코더의 임베딩 층\n",
    "dec_emb_layer = Embedding(tar_vocab, embedding_dim)\n",
    "dec_emb = dec_emb_layer(decoder_inputs)\n",
    "\n",
    "# 디코더의 LSTM\n",
    "decoder_lstm = LSTM(hidden_size, return_sequences=True, return_state=True, dropout=0.4, recurrent_dropout=0.2)\n",
    "decoder_outputs, _, _ = decoder_lstm(dec_emb, initial_state=[state_h, state_c])"
   ]
  },
  {
   "cell_type": "code",
   "execution_count": 40,
   "id": "988c8bda",
   "metadata": {},
   "outputs": [
    {
     "name": "stdout",
     "output_type": "stream",
     "text": [
      "Model: \"model\"\n",
      "__________________________________________________________________________________________________\n",
      "Layer (type)                    Output Shape         Param #     Connected to                     \n",
      "==================================================================================================\n",
      "input_1 (InputLayer)            [(None, 40)]         0                                            \n",
      "__________________________________________________________________________________________________\n",
      "embedding (Embedding)           (None, 40, 128)      2432000     input_1[0][0]                    \n",
      "__________________________________________________________________________________________________\n",
      "lstm (LSTM)                     [(None, 40, 256), (N 394240      embedding[0][0]                  \n",
      "__________________________________________________________________________________________________\n",
      "input_2 (InputLayer)            [(None, None)]       0                                            \n",
      "__________________________________________________________________________________________________\n",
      "lstm_1 (LSTM)                   [(None, 40, 256), (N 525312      lstm[0][0]                       \n",
      "__________________________________________________________________________________________________\n",
      "embedding_1 (Embedding)         (None, None, 128)    1280000     input_2[0][0]                    \n",
      "__________________________________________________________________________________________________\n",
      "lstm_2 (LSTM)                   [(None, 40, 256), (N 525312      lstm_1[0][0]                     \n",
      "__________________________________________________________________________________________________\n",
      "lstm_3 (LSTM)                   [(None, None, 256),  394240      embedding_1[0][0]                \n",
      "                                                                 lstm_2[0][1]                     \n",
      "                                                                 lstm_2[0][2]                     \n",
      "__________________________________________________________________________________________________\n",
      "attention_layer (AdditiveAttent (None, None, 256)    256         lstm_3[0][0]                     \n",
      "                                                                 lstm_2[0][0]                     \n",
      "__________________________________________________________________________________________________\n",
      "concat_layer (Concatenate)      (None, None, 512)    0           lstm_3[0][0]                     \n",
      "                                                                 attention_layer[0][0]            \n",
      "__________________________________________________________________________________________________\n",
      "dense (Dense)                   (None, None, 10000)  5130000     concat_layer[0][0]               \n",
      "==================================================================================================\n",
      "Total params: 10,681,360\n",
      "Trainable params: 10,681,360\n",
      "Non-trainable params: 0\n",
      "__________________________________________________________________________________________________\n"
     ]
    }
   ],
   "source": [
    "from tensorflow.keras.layers import AdditiveAttention\n",
    "\n",
    "# 어텐션 층(어텐션 함수)\n",
    "attn_layer = AdditiveAttention(name='attention_layer')\n",
    "\n",
    "# 인코더와 디코더의 모든 time step의 hidden state를 어텐션 층에 전달하고 결과를 리턴\n",
    "attn_out = attn_layer([decoder_outputs, encoder_outputs])\n",
    "\n",
    "\n",
    "# 어텐션의 결과와 디코더의 hidden state들을 연결\n",
    "decoder_concat_input = Concatenate(axis=-1, name='concat_layer')([decoder_outputs, attn_out])\n",
    "\n",
    "# 디코더의 출력층\n",
    "decoder_softmax_layer = Dense(tar_vocab, activation='softmax')\n",
    "decoder_softmax_outputs = decoder_softmax_layer(decoder_concat_input)\n",
    "\n",
    "# 모델 정의\n",
    "model = Model([encoder_inputs, decoder_inputs], decoder_softmax_outputs)\n",
    "model.summary()"
   ]
  },
  {
   "cell_type": "markdown",
   "id": "bdffdca4",
   "metadata": {},
   "source": [
    "## 4. 훈련진행 "
   ]
  },
  {
   "cell_type": "code",
   "execution_count": 41,
   "id": "aebaae58",
   "metadata": {},
   "outputs": [
    {
     "name": "stdout",
     "output_type": "stream",
     "text": [
      "Epoch 1/50\n",
      "232/232 [==============================] - 136s 546ms/step - loss: 6.4082 - val_loss: 5.9866\n",
      "Epoch 2/50\n",
      "232/232 [==============================] - 127s 546ms/step - loss: 5.8802 - val_loss: 5.6346\n",
      "Epoch 3/50\n",
      "232/232 [==============================] - 127s 547ms/step - loss: 5.5452 - val_loss: 5.3736\n",
      "Epoch 4/50\n",
      "232/232 [==============================] - 128s 550ms/step - loss: 5.2613 - val_loss: 5.1691\n",
      "Epoch 5/50\n",
      "232/232 [==============================] - 127s 548ms/step - loss: 5.0175 - val_loss: 4.9965\n",
      "Epoch 6/50\n",
      "232/232 [==============================] - 128s 553ms/step - loss: 4.8113 - val_loss: 4.8458\n",
      "Epoch 7/50\n",
      "232/232 [==============================] - 127s 549ms/step - loss: 4.6328 - val_loss: 4.7453\n",
      "Epoch 8/50\n",
      "232/232 [==============================] - 128s 551ms/step - loss: 4.4783 - val_loss: 4.6627\n",
      "Epoch 9/50\n",
      "232/232 [==============================] - 127s 548ms/step - loss: 4.3396 - val_loss: 4.5895\n",
      "Epoch 10/50\n",
      "232/232 [==============================] - 127s 549ms/step - loss: 4.2141 - val_loss: 4.5405\n",
      "Epoch 11/50\n",
      "232/232 [==============================] - 128s 552ms/step - loss: 4.1009 - val_loss: 4.4856\n",
      "Epoch 12/50\n",
      "232/232 [==============================] - 127s 548ms/step - loss: 3.9996 - val_loss: 4.4476\n",
      "Epoch 13/50\n",
      "232/232 [==============================] - 127s 546ms/step - loss: 3.9044 - val_loss: 4.4114\n",
      "Epoch 14/50\n",
      "232/232 [==============================] - 127s 549ms/step - loss: 3.8180 - val_loss: 4.3803\n",
      "Epoch 15/50\n",
      "232/232 [==============================] - 127s 550ms/step - loss: 3.7384 - val_loss: 4.3558\n",
      "Epoch 16/50\n",
      "232/232 [==============================] - 128s 550ms/step - loss: 3.6618 - val_loss: 4.3408\n",
      "Epoch 17/50\n",
      "232/232 [==============================] - 126s 543ms/step - loss: 3.5886 - val_loss: 4.3223\n",
      "Epoch 18/50\n",
      "232/232 [==============================] - 126s 545ms/step - loss: 3.5197 - val_loss: 4.3178\n",
      "Epoch 19/50\n",
      "232/232 [==============================] - 126s 544ms/step - loss: 3.4524 - val_loss: 4.3005\n",
      "Epoch 20/50\n",
      "232/232 [==============================] - 126s 542ms/step - loss: 3.3931 - val_loss: 4.2957\n",
      "Epoch 21/50\n",
      "232/232 [==============================] - 126s 543ms/step - loss: 3.3338 - val_loss: 4.2870\n",
      "Epoch 22/50\n",
      "232/232 [==============================] - 125s 540ms/step - loss: 3.2829 - val_loss: 4.2795\n",
      "Epoch 23/50\n",
      "232/232 [==============================] - 127s 546ms/step - loss: 3.2328 - val_loss: 4.2757\n",
      "Epoch 24/50\n",
      "232/232 [==============================] - 125s 541ms/step - loss: 3.1823 - val_loss: 4.2694\n",
      "Epoch 25/50\n",
      "232/232 [==============================] - 126s 545ms/step - loss: 3.1338 - val_loss: 4.2712\n",
      "Epoch 26/50\n",
      "232/232 [==============================] - 126s 542ms/step - loss: 3.0903 - val_loss: 4.2829\n",
      "Epoch 00026: early stopping\n"
     ]
    }
   ],
   "source": [
    "model.compile(optimizer='rmsprop', loss='sparse_categorical_crossentropy')\n",
    "es = EarlyStopping(monitor='val_loss', patience=2, verbose=1)\n",
    "history = model.fit(x=[encoder_input_train, decoder_input_train], y=decoder_target_train, \\\n",
    "          validation_data=([encoder_input_test, decoder_input_test], decoder_target_test), \\\n",
    "          batch_size=256, callbacks=[es], epochs=50)"
   ]
  },
  {
   "cell_type": "markdown",
   "id": "5146712a",
   "metadata": {},
   "source": [
    "## 5. 인퍼런스 모델 설계"
   ]
  },
  {
   "cell_type": "code",
   "execution_count": 48,
   "id": "8a604bf3",
   "metadata": {},
   "outputs": [],
   "source": [
    "src_index_to_word = src_tokenizer.index_word # 원문 단어 집합에서 정수 -> 단어를 얻음\n",
    "tar_word_to_index = tar_tokenizer.word_index # 요약 단어 집합에서 단어 -> 정수를 얻음\n",
    "tar_index_to_word = tar_tokenizer.index_word # 요약 단어 집합에서 정수 -> 단어를 얻음\n",
    "\n"
   ]
  },
  {
   "cell_type": "code",
   "execution_count": 49,
   "id": "ebb27a40",
   "metadata": {},
   "outputs": [],
   "source": [
    "# 인코더 설계\n",
    "encoder_model = Model(inputs=encoder_inputs, outputs=[encoder_outputs, state_h, state_c])\n",
    "\n",
    "# 이전 시점의 상태들을 저장하는 텐서\n",
    "decoder_state_input_h = Input(shape=(hidden_size,))\n",
    "decoder_state_input_c = Input(shape=(hidden_size,))\n",
    "\n",
    "dec_emb2 = dec_emb_layer(decoder_inputs)\n",
    "\n",
    "# 문장의 다음 단어를 예측하기 위해서 초기 상태(initial_state)를 이전 시점의 상태로 사용. 이는 뒤의 함수 decode_sequence()에 구현\n",
    "# 훈련 과정에서와 달리 LSTM의 리턴하는 은닉 상태와 셀 상태인 state_h와 state_c를 버리지 않음.\n",
    "decoder_outputs2, state_h2, state_c2 = decoder_lstm(dec_emb2, initial_state=[decoder_state_input_h, decoder_state_input_c])"
   ]
  },
  {
   "cell_type": "code",
   "execution_count": 50,
   "id": "1d3b97f4",
   "metadata": {},
   "outputs": [],
   "source": [
    "# 어텐션 함수\n",
    "decoder_hidden_state_input = Input(shape=(text_max_len, hidden_size))\n",
    "attn_out_inf = attn_layer([decoder_outputs2, decoder_hidden_state_input])\n",
    "decoder_inf_concat = Concatenate(axis=-1, name='concat')([decoder_outputs2, attn_out_inf])\n",
    "\n",
    "# 디코더의 출력층\n",
    "decoder_outputs2 = decoder_softmax_layer(decoder_inf_concat) \n",
    "\n",
    "# 최종 디코더 모델\n",
    "decoder_model = Model(\n",
    "    [decoder_inputs] + [decoder_hidden_state_input,decoder_state_input_h, decoder_state_input_c],\n",
    "    [decoder_outputs2] + [state_h2, state_c2])\n",
    "\n"
   ]
  },
  {
   "cell_type": "code",
   "execution_count": 54,
   "id": "141cd2f4",
   "metadata": {},
   "outputs": [],
   "source": [
    "def decode_sequence(input_seq):\n",
    "    # 입력으로부터 인코더의 상태를 얻음\n",
    "    e_out, e_h, e_c = encoder_model.predict(input_seq)\n",
    "\n",
    "     # <SOS>에 해당하는 토큰 생성\n",
    "    target_seq = np.zeros((1,1))\n",
    "    target_seq[0, 0] = tar_word_to_index['sostoken']\n",
    "\n",
    "    stop_condition = False\n",
    "    decoded_sentence = ''\n",
    "    while not stop_condition: # stop_condition이 True가 될 때까지 루프 반복\n",
    "\n",
    "        output_tokens, h, c = decoder_model.predict([target_seq] + [e_out, e_h, e_c])\n",
    "        sampled_token_index = np.argmax(output_tokens[0, -1, :])\n",
    "        sampled_token = tar_index_to_word[sampled_token_index]\n",
    "\n",
    "        if (sampled_token!='eostoken'):\n",
    "            decoded_sentence += ' '+sampled_token\n",
    "\n",
    "        #  <eos>에 도달하거나 최대 길이를 넘으면 중단.\n",
    "        if (sampled_token == 'eostoken'  or len(decoded_sentence.split()) >= (headlines_max_len-1)):\n",
    "            stop_condition = True\n",
    "\n",
    "        # 길이가 1인 타겟 시퀀스를 업데이트\n",
    "        target_seq = np.zeros((1,1))\n",
    "        target_seq[0, 0] = sampled_token_index\n",
    "\n",
    "        # 상태를 업데이트 합니다.\n",
    "        e_h, e_c = h, c\n",
    "\n",
    "    return decoded_sentence\n"
   ]
  },
  {
   "cell_type": "markdown",
   "id": "315968c4",
   "metadata": {},
   "source": [
    "## 6. 모델 테스트"
   ]
  },
  {
   "cell_type": "code",
   "execution_count": 55,
   "id": "d06f5acd",
   "metadata": {},
   "outputs": [],
   "source": [
    "# 원문의 정수 시퀀스를 텍스트 시퀀스로 변환\n",
    "def seq2text(input_seq):\n",
    "    temp=''\n",
    "    for i in input_seq:\n",
    "        if (i!=0):\n",
    "            temp = temp + src_index_to_word[i]+' '\n",
    "    return temp\n",
    "\n",
    "# 요약문의 정수 시퀀스를 텍스트 시퀀스로 변환\n",
    "def seq2summary(input_seq):\n",
    "    temp=''\n",
    "    for i in input_seq:\n",
    "        if ((i!=0 and i!=tar_word_to_index['sostoken']) and i!=tar_word_to_index['eostoken']):\n",
    "            temp = temp + tar_index_to_word[i] + ' '\n",
    "    return temp\n",
    "\n"
   ]
  },
  {
   "cell_type": "code",
   "execution_count": 56,
   "id": "077fbad1",
   "metadata": {},
   "outputs": [
    {
     "name": "stdout",
     "output_type": "stream",
     "text": [
      "원문 : maharashtra government asked local bodies across state notify silence zones november comes noise pollution rules amended barring designation area silence zone unless notified state government silence zones areas within metres hospitals courts educational religious institutions \n",
      "실제 요약 : maha govt orders local bodies to notify silence zones \n",
      "예측 요약 :  maharashtra to ban on health health minister\n",
      "\n",
      "\n",
      "원문 : majority us house representatives steve least four others shot gunman opened fire congressional republicans baseball practice game virginia wednesday police arrested suspect reportedly fired shots launched investigation incident \n",
      "실제 요약 : us shot at baseball practice game in virginia \n",
      "예측 요약 :  us billionaire claims he killed by shooting people\n",
      "\n",
      "\n",
      "원문 : india host sushant singh took twitter ask fans help revealing sister diagnosed chronic inflammatory neurological disorder auto immune disorder treatment working tweeted sushant appeal also requested fans help reach right people \n",
      "실제 요약 : india sushant appeals for help over sister disorder \n",
      "예측 요약 :  bigg boss contestant trolled for cancer khanna\n",
      "\n",
      "\n",
      "원문 : iraqi prime minister haider al abadi declared country war islamic state officially british pm theresa may warned terror group may lost significant ground defeated yet adding lot needs done may said terror group still poses threat including across border \n",
      "실제 요약 : islamic state still not defeated uk pm may warns iraq \n",
      "예측 요약 :  iraq declares war against isis militants\n",
      "\n",
      "\n",
      "원문 : election commission pakistan rejected nomination papers filed pakistan tehreek insaf chief imran khan upcoming general elections khan nomination paper filed islamabad constituency rejected fill affidavit per requirements nomination papers former pakistan prime minister shahid khaqan abbasi also rejected \n",
      "실제 요약 : pak election body rejects imran khan for polls \n",
      "예측 요약 :  pak pm imran khan meets pak party in pakistan\n",
      "\n",
      "\n",
      "원문 : india ruled possibility meeting pm narendra modi chinese president xi jinping ask meeting question atmosphere conducive indian official said statement comes chinese official said atmosphere right modi xi meeting \n",
      "실제 요약 : did not ask for modi xi meeting india \n",
      "예측 요약 :  modi should be allowed to miss universe pm modi\n",
      "\n",
      "\n",
      "원문 : police arrested three gang nine robbers sunday looting jeweller house delhi karol bagh posing cbi officials inspired bollywood movie special got idea impersonating cbi officials police said authorities recovered number items including police uniform possession \n",
      "실제 요약 : men posing as cbi officials arrested for theft in delhi \n",
      "예측 요약 :  arrested for allegedly gang in mumbai\n",
      "\n",
      "\n",
      "원문 : kishan telugu businessman turned film producer wife arrested chicago charges running sex racket reportedly lured aspiring actresses usa advertised sex indian cultural events though arrested april case came light wednesday local media reported police filed charge sheet \n",
      "실제 요약 : telugu producer wife arrested for running sex racket \n",
      "예측 요약 :  arrested for assaulting actress wife in gurugram\n",
      "\n",
      "\n",
      "원문 : delhi ncr region witnessed heavy smog tuesday morning visibility reportedly reduced metres real time air quality index showed air quality hazardous parts delhi particulate matter recorded pm forecasts suggested air quality remain poor coming days \n",
      "실제 요약 : in delhi drops to metres due to smog \n",
      "예측 요약 :  delhi pollution to be held in mumbai\n",
      "\n",
      "\n",
      "원문 : phd student belgium bitcoin code concealed tube dna challenge issued january bitcoin worth however completed recently bitcoin worth message concealed dna contained instructions claim bitcoin \n",
      "실제 요약 : phd student wins bitcoin by hacking dna \n",
      "예측 요약 :  year old cryptocurrency mining found in us\n",
      "\n",
      "\n",
      "원문 : ranil wickremesinghe reinstated sri lanka pm india ministry external affairs sunday said welcomes resolution political situation true friend close neighbour reflection maturity demonstrated political forces also sri lankan democracy institutions ministry added \n",
      "실제 요약 : welcome resolution of sri lanka political situation india \n",
      "예측 요약 :  india is not to be india minister\n",
      "\n",
      "\n",
      "원문 : former turing pharmaceuticals ceo martin shkreli facing fraud trial serial liar prosecutor lawyer called well meaning misunderstood genius martin shkreli wanted people shkreli lawyer argued notably shkreli raised price hiv drug \n",
      "실제 요약 : shkreli called liar and genius in trial \n",
      "예측 요약 :  shkreli shkreli to be who is an shkreli lawyer\n",
      "\n",
      "\n",
      "원문 : kotak mahindra uday kotak said bjp win state polls positive economic reforms government focus animal spirits private sector invest need make sure focused growing economy getting private sector animal spirits back create jobs kotak said \n",
      "실제 요약 : get back private sector animal spirit uday kotak to govt \n",
      "예측 요약 :  india is better than bjp leader\n",
      "\n",
      "\n",
      "원문 : passenger arrested mumbai airport allegedly carrying undeclared foreign currency equivalent lakh passenger intercepted could board flight dubai currency concealed two wrapped aluminium foil senior air intelligence unit officer said \n",
      "실제 요약 : man hiding foreign currency arrested at mumbai airport \n",
      "예측 요약 :  flyer held for smuggling gold worth lakh in mumbai\n",
      "\n",
      "\n",
      "원문 : president ram nath kovind thursday visited siachen glacier base camp interact soldiers posted second president visit camp former president apj abdul kalam visited special respect heart indians soldiers officers guarding borders president kovind said \n",
      "실제 요약 : prez kovind becomes nd president to visit base camp \n",
      "예측 요약 :  prez kovind visits president kovind\n",
      "\n",
      "\n",
      "원문 : tata sons chairman chandrasekaran said group consider buying air india looking disinvestment process group however needs details government process chandrasekaran said said group cannot remain fleet dozen planes referring vistara airline alliance singapore airlines \n",
      "실제 요약 : tata group to consider buying air india \n",
      "예측 요약 :  tata sons to launch tata sons in tata sons\n",
      "\n",
      "\n",
      "원문 : actor salman khan launching hussain lead actress opposite brother law aayush sharma upcoming production loveratri film also mark acting debut aayush earlier salman tweeted mujhe ladki mil gayi resulting reports said get married soon \n",
      "실제 요약 : salman to launch opposite his brother in law aayush \n",
      "예측 요약 :  salman khan to star in salman khan film reports\n",
      "\n",
      "\n",
      "원문 : april ussr launched first ever space station mark decade launching first man space yuri first designated crew five days return without entering due faulty hatch kg station intentionally crashed pacific ocean days launch \n",
      "실제 요약 : first space station was crashed after days \n",
      "예측 요약 :  google launches its first ever space space\n",
      "\n",
      "\n",
      "원문 : uae monday released first pictures princess mohammed al maktoum since attempted escape earlier year seized reportedly yacht coast india taken back dubai uae said provided evidence home living family \n",
      "실제 요약 : uae shares st pictures of missing princess \n",
      "예측 요약 :  chinese princess named most beautiful ever\n",
      "\n",
      "\n",
      "원문 : billionaire elon musk denied founder bitcoin former spacex intern claimed probably founder claim true musk said friend sent part years know bitcoin claimed founded whose identity unknown \n",
      "실제 요약 : elon musk denies being the founder of bitcoin \n",
      "예측 요약 :  tesla was very dangerous than elon musk\n",
      "\n",
      "\n",
      "원문 : man arrested allegedly raping seven year old girl delhi delhi commission women chairperson swati maliwal said inserted water pipe private parts although police denied maliwal tweeted girl critical going support legal fight ensure death penalty culprits \n",
      "실제 요약 : man held for raping year old girl in delhi \n",
      "예측 요약 :  man arrested for raping minor woman in andhra\n",
      "\n",
      "\n",
      "원문 : pregnant woman tamil nadu infected hiv due blood another woman state accused hospital infecting hiv five month pregnant year old alleged tested hiv negative blood tested positive another check months later hospital denied allegations \n",
      "실제 요약 : another woman claims she got hiv from during pregnancy \n",
      "예측 요약 :  woman dies after getting birth at hospital hospital\n",
      "\n",
      "\n",
      "원문 : calling migrants central american nations illegal aliens us president donald trump said full efforts made stop entering country earlier trump threatened halt aid guatemala potentially close us border mexico help military migrants march stopped \n",
      "실제 요약 : trump calls migrants heading us illegal aliens \n",
      "예측 요약 :  trump declares us mexico border wall\n",
      "\n",
      "\n",
      "원문 : uk culture surveillance suspicion terrorism flawed could promoting extremism rather un report found report drawn manchester attack killed people highly critical many policies prime minister theresa may earlier role home secretary \n",
      "실제 요약 : un slams britain big brother anti terrorism strategy \n"
     ]
    },
    {
     "name": "stdout",
     "output_type": "stream",
     "text": [
      "예측 요약 :  uk uk attacker hacked to uk terror attack\n",
      "\n",
      "\n",
      "원문 : defending farhan akhtar reacting amrita puri tweet said sajid khan family knew sexual misconduct tweeted instead holding culprit responsible really blaming family members knowing anger justified conspiracy theories amrita tweeted farhan sajid cousin farhan rumoured girlfriend \n",
      "실제 요약 : defends farhan over amrita remark on sajid case \n",
      "예측 요약 :  farhan khan apologises for sexually abusing minor\n",
      "\n",
      "\n",
      "원문 : former telecom minister raja said tamil community demand separate state tamil nadu centre form cauvery management board comes centre failed form board despite supreme court deadline march earlier sc reduced tamil nadu quota water \n",
      "실제 요약 : form cauvery board or tn will seek separate state raja \n",
      "예측 요약 :  tn govt orders to tn cm over cauvery dispute\n",
      "\n",
      "\n",
      "원문 : new zealand women spinner hit runs first odis smashed th odi ireland women wednesday became second woman score odi double ton australia clark aged years days youngest score international double century \n",
      "실제 요약 : yr old hits runs in odis slams in th odi \n",
      "예측 요약 :  india first odi to score odi matches in cricket\n",
      "\n",
      "\n",
      "원문 : many people died injured residential building mumbai bazaar collapsed thursday least fire department ndrf officials also sustained injuries rescue operations cause collapse yet confirmed even though officials believe heavy rains could reason \n",
      "실제 요약 : death toll in mumbai building collapse rises to \n",
      "예측 요약 :  dead injured in building building in mumbai\n",
      "\n",
      "\n",
      "원문 : mumbai metropolitan region transport authority increased brihanmumbai electric supply transport buses fares distance four kilometres passengers reportedly pay journey beyond km hike fare commuters pay instead journey km \n",
      "실제 요약 : best buses fares hiked by for distance over km \n",
      "예측 요약 :  mumbai metro to be shut down by buses\n",
      "\n",
      "\n",
      "원문 : entry fee taj mahal raised foreign tourists domestic tourists hike imposed tourists nations pay marks second time entry fee raised last two half years \n",
      "실제 요약 : taj entry fee hiked to for foreigners for indians \n",
      "예측 요약 :  delhi govt to ban on sale of\n",
      "\n",
      "\n",
      "원문 : saudi arabia said evidence support us lawsuit alleging kingdom involved terror attack us us alleged saudi government sponsored charities funded attack many terrorists involved attack saudi citizens \n",
      "실제 요약 : no evidence to show our involvement in attack saudi \n",
      "예측 요약 :  us rejects chemical attack in syria\n",
      "\n",
      "\n",
      "원문 : russian intelligence attempted spy french president emmanuel macron election campaign earlier year creating fake facebook accounts according reports two dozen accounts created conduct surveillance macron campaign however facebook detected spying deactivated accounts reports added russia repeatedly denied election meddling accusations \n",
      "실제 요약 : russia used facebook to spy on french election reports \n",
      "예측 요약 :  russia twitter account over fake news\n",
      "\n",
      "\n",
      "원문 : us struck syria moment country chance peace russian foreign ministry said saturday accusing us media reports ministry spokeswoman maria added quite abnormal attack syria moment comes us allies launched air strikes syria \n",
      "실제 요약 : us struck syria when it had chance for peace russia \n",
      "예측 요약 :  us prez calls us state over syria syria\n",
      "\n",
      "\n",
      "원문 : least nine people killed others injured afghan border forces opened fire pakistani security personnel guarding census team balochistan area notably afghan border forces creating hurdles conduct census divided villages pakistani side border \n",
      "실제 요약 : afghan firing on pakistan team kills injures \n",
      "예측 요약 :  killed injured in taliban bombing in afghanistan\n",
      "\n",
      "\n",
      "원문 : anil ambani led reliance group said file crore defamation lawsuit congress spokesperson abhishek singhvi making false defamatory statements singhvi alleged government rafale aircraft deal promoted interest reliance singhvi also claimed government written trillion debt defaulted \n",
      "실제 요약 : reliance to file cr lawsuit against cong spokesperson \n",
      "예측 요약 :  ambani sues mallya over crore loan allegations\n",
      "\n",
      "\n",
      "원문 : farmers madhya pradesh planning lodge protest government policies recent police performing wednesday pm narendra modi leading nation international yoga day leader rashtriya kisan sangh said practise rendered pm modi policies \n",
      "실제 요약 : mp farmers plan protest against govt policies \n",
      "예측 요약 :  yogi adityanath calls for farmers in\n",
      "\n",
      "\n",
      "원문 : students university tokyo developed backpack called helps users jump times higher normal non functioning prototype uses circular provide enough thrust let wearer jump higher longer normal developers claimed wearer would able jump \n",
      "실제 요약 : helps users jump times higher than normal \n",
      "예측 요약 :  students use to detect in us school\n",
      "\n",
      "\n",
      "원문 : year old girl murdered resisting sexual assault buried backyard short stay home run ngo bihar muzaffarpur rescued inmates claimed ngo seva vikas samiti engaged state welfare department run home inmates rescued reports sexual abuse girls homes surfaced \n",
      "실제 요약 : year old girl killed buried in ngo home rescued inmates \n",
      "예측 요약 :  year old girl sexually assaulted by teacher in gurugram\n",
      "\n",
      "\n",
      "원문 : congress led opposition move impeachment motion chief justice india dipak misra per reports issue closed congress leader mallikarjun kharge reportedly said interview never initiated lower house talk upper house far lok sabha concerned never initiated anything added \n",
      "실제 요약 : congress will not move impeachment motion against cji reports \n",
      "예측 요약 :  cji should be used to evms cji\n",
      "\n",
      "\n",
      "원문 : wishing indian cricket team captain virat kohli occasion th birthday sunday former indian cricketer sachin tendulkar tweeted young passionate cricketer leader world beating team come long way wish tons success kohli tons behind sachin tendulkar odi hundreds list \n",
      "실제 요약 : wish you tons of success sachin wishes kohli on day \n",
      "예측 요약 :  kohli congratulates his th birthday on kohli anniversary\n",
      "\n",
      "\n",
      "원문 : chhattisgarh chief minister raman singh led bjp government defeated confidence motion congress moved state assembly debate started noon friday ran hours ended bjp government winning motion saturday several issues including sex cd case raised \n",
      "실제 요약 : chhattisgarh cm defeats no confidence motion against him \n",
      "예측 요약 :  congress to be into bjp in chhattisgarh\n",
      "\n",
      "\n",
      "원문 : elon musk led tesla said start begin production model car end model production cost expected lower model share components model tesla said model likely produced tesla nevada us added \n",
      "실제 요약 : elon musk tesla to begin model production by end of \n",
      "예측 요약 :  tesla model model musk elon musk\n",
      "\n",
      "\n",
      "원문 : largest museum street art world opened german capital city berlin five storey indoor outdoor urban nation museum urban contemporary art features works including graffiti square foot local international artists host performances workshops cover nearby train tracks installations \n",
      "실제 요약 : world largest street art museum opens in germany \n",
      "예측 요약 :  world largest museum opens in london\n",
      "\n",
      "\n",
      "원문 : karnataka cm hd kumaraswamy allotted ministries including finance energy infrastructure development deputy cm congress leader parameshwara kept three portfolios including home bengaluru city elected mlas congress retained ministries jd mlas got ministries \n",
      "실제 요약 : taka cm kumaraswamy keeps including finance \n",
      "예측 요약 :  karnataka cm announces taka cm kumaraswamy over cauvery dispute\n",
      "\n",
      "\n",
      "원문 : philippines based study genetic data nearly participants claimed childhood could permanently alter gene expression study targeted genes researchers identified nine genes dna levels predicted factors like household socio economic status extended absence parent birth dry season duration breastfeeding \n",
      "실제 요약 : childhood can permanently alter dna study \n",
      "예측 요약 :  scientists claim to survive on volcanic eruption study\n",
      "\n",
      "\n",
      "원문 : tanushree saturday became first woman field officer year history bsf resident first woman join force officer rank selected india exam conducted upsc also led passing parade trainee officers \n",
      "실제 요약 : bsf gets first woman field officer after years \n",
      "예측 요약 :  st woman to get first woman at india oscar\n",
      "\n",
      "\n",
      "원문 : students wounded saturday jammu kashmir security forces fired tear gas shells pellets outside degree college pulwama disperse stone pelting protestors three critically injured persons referred srinagar treated students far number injured might increase pulwama chief medical officer said \n",
      "실제 요약 : students injured after security forces fire \n"
     ]
    },
    {
     "name": "stdout",
     "output_type": "stream",
     "text": [
      "예측 요약 :  students killed in encounter in assam\n",
      "\n",
      "\n",
      "원문 : karnataka education department install gps tracking system vehicles transporting question papers upcoming secondary school leaving certificate second year pre university examinations bengaluru reports said comes question paper pre university chemistry exam leaked march resulting financial loss lakh department \n",
      "실제 요약 : bengaluru to install gps in vehicles carrying exam papers \n",
      "예측 요약 :  karnataka to detect water from using solar system\n",
      "\n",
      "\n",
      "원문 : american electric carmaker tesla former director hardware engineering satish joined google self driving spinoff waymo lead waymo hardware team overseeing development integration cameras radar lidar computer vision spent nearly seven years tesla leaving march year \n",
      "실제 요약 : ex tesla exec joins google waymo \n",
      "예측 요약 :  tesla self driving cars with uber driver\n",
      "\n",
      "\n",
      "원문 : chechnya reuniting divorced couples part new campaign help tackle terrorism country reports said move follows claims president ramzan kadyrov children divorced couples likely join extremist groups isis least couples reunited within six weeks campaign according reports \n",
      "실제 요약 : to reunite to fight terrorism \n",
      "예측 요약 :  pak students protest for wearing from muslim media\n",
      "\n",
      "\n"
     ]
    }
   ],
   "source": [
    "for i in range(50, 100):\n",
    "    print(\"원문 :\", seq2text(encoder_input_test[i]))\n",
    "    print(\"실제 요약 :\", seq2summary(decoder_input_test[i]))\n",
    "    print(\"예측 요약 :\", decode_sequence(encoder_input_test[i].reshape(1, text_max_len)))\n",
    "    print(\"\\n\")"
   ]
  },
  {
   "cell_type": "markdown",
   "id": "5cd6b4f4",
   "metadata": {},
   "source": [
    "## 7. 추출적 요약 하기"
   ]
  },
  {
   "cell_type": "code",
   "execution_count": 57,
   "id": "8bfb6171",
   "metadata": {},
   "outputs": [],
   "source": [
    "import requests\n",
    "from summa.summarizer import summarize"
   ]
  },
  {
   "cell_type": "code",
   "execution_count": 58,
   "id": "5731edb3",
   "metadata": {},
   "outputs": [],
   "source": [
    "text = requests.get('http://rare-technologies.com/the_matrix_synopsis.txt').text"
   ]
  },
  {
   "cell_type": "code",
   "execution_count": 60,
   "id": "684a3890",
   "metadata": {},
   "outputs": [
    {
     "name": "stdout",
     "output_type": "stream",
     "text": [
      "headline:\n",
      "Morpheus, Trinity, Neo, Apoc, Switch, Mouse and Cypher are jacked into the Matrix.\n",
      "Trinity brings the helicopter down to the floor that Morpheus is on and Neo opens fire on the three Agents.\n"
     ]
    }
   ],
   "source": [
    "print('headline:')\n",
    "print(summarize(text, ratio=0.005))"
   ]
  },
  {
   "cell_type": "code",
   "execution_count": null,
   "id": "8cc82c0d",
   "metadata": {},
   "outputs": [],
   "source": []
  }
 ],
 "metadata": {
  "kernelspec": {
   "display_name": "Python 3 (ipykernel)",
   "language": "python",
   "name": "python3"
  },
  "language_info": {
   "codemirror_mode": {
    "name": "ipython",
    "version": 3
   },
   "file_extension": ".py",
   "mimetype": "text/x-python",
   "name": "python",
   "nbconvert_exporter": "python",
   "pygments_lexer": "ipython3",
   "version": "3.9.7"
  }
 },
 "nbformat": 4,
 "nbformat_minor": 5
}
